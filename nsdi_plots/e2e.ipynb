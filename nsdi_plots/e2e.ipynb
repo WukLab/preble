{
 "cells": [
  {
   "cell_type": "code",
   "execution_count": 15,
   "metadata": {},
   "outputs": [],
   "source": [
    "import re\n",
    "import pandas as pd\n",
    "import matplotlib.pyplot as plt\n",
    "import numpy as np\n",
    "\n",
    "import plot_utils"
   ]
  },
  {
   "cell_type": "markdown",
   "metadata": {},
   "source": [
    "# Mistral E2E"
   ]
  },
  {
   "cell_type": "markdown",
   "metadata": {},
   "source": [
    "## Toolbench dataset"
   ]
  },
  {
   "cell_type": "code",
   "execution_count": 16,
   "metadata": {},
   "outputs": [
    {
     "ename": "FileNotFoundError",
     "evalue": "[Errno 2] No such file or directory: '/mnt/ssd1/alm-os/sglang_multi_model/e2e/2r_test_toolbench_multi_exp/exp.csv'",
     "output_type": "error",
     "traceback": [
      "\u001b[0;31m---------------------------------------------------------------------------\u001b[0m",
      "\u001b[0;31mFileNotFoundError\u001b[0m                         Traceback (most recent call last)",
      "Cell \u001b[0;32mIn[16], line 4\u001b[0m\n\u001b[1;32m      1\u001b[0m fig, ax \u001b[38;5;241m=\u001b[39m plt\u001b[38;5;241m.\u001b[39msubplots(\u001b[38;5;241m1\u001b[39m, \u001b[38;5;241m3\u001b[39m, figsize\u001b[38;5;241m=\u001b[39m(\u001b[38;5;241m14.5\u001b[39m, \u001b[38;5;241m3.5\u001b[39m))\n\u001b[1;32m      2\u001b[0m y_column \u001b[38;5;241m=\u001b[39m \u001b[38;5;124m'\u001b[39m\u001b[38;5;124mp50_latency\u001b[39m\u001b[38;5;124m'\u001b[39m\n\u001b[0;32m----> 4\u001b[0m df_2r \u001b[38;5;241m=\u001b[39m \u001b[43mplot_utils\u001b[49m\u001b[38;5;241;43m.\u001b[39;49m\u001b[43mread_e2e_csv_metrics\u001b[49m\u001b[43m(\u001b[49m\u001b[38;5;124;43m'\u001b[39;49m\u001b[38;5;124;43m/mnt/ssd1/alm-os/sglang_multi_model/e2e/2r_test_toolbench_multi_exp/exp.csv\u001b[39;49m\u001b[38;5;124;43m'\u001b[39;49m\u001b[43m)\u001b[49m\n\u001b[1;32m      5\u001b[0m \u001b[38;5;28;01mfor\u001b[39;00m name, group \u001b[38;5;129;01min\u001b[39;00m df_2r:\n\u001b[1;32m      6\u001b[0m     ax[\u001b[38;5;241m0\u001b[39m]\u001b[38;5;241m.\u001b[39mplot(group[\u001b[38;5;124m'\u001b[39m\u001b[38;5;124mrps\u001b[39m\u001b[38;5;124m'\u001b[39m], group[y_column],\n\u001b[1;32m      7\u001b[0m                \u001b[38;5;241m*\u001b[39m\u001b[38;5;241m*\u001b[39mplot_utils\u001b[38;5;241m.\u001b[39mpolicy_mapping[\u001b[38;5;124m'\u001b[39m\u001b[38;5;124m:\u001b[39m\u001b[38;5;124m'\u001b[39m\u001b[38;5;241m.\u001b[39mjoin(name)])\n",
      "File \u001b[0;32m/mnt/ssd1/alm-os/sglang_multi_model/nsdi_plots/plot_utils.py:30\u001b[0m, in \u001b[0;36mread_e2e_csv_metrics\u001b[0;34m(fpaths)\u001b[0m\n\u001b[1;32m     28\u001b[0m     fpaths \u001b[38;5;241m=\u001b[39m [fpaths]\n\u001b[1;32m     29\u001b[0m dataframes \u001b[38;5;241m=\u001b[39m [pd\u001b[38;5;241m.\u001b[39mread_csv(file) \u001b[38;5;28;01mfor\u001b[39;00m file \u001b[38;5;129;01min\u001b[39;00m fpaths]\n\u001b[0;32m---> 30\u001b[0m combined_df \u001b[38;5;241m=\u001b[39m pd\u001b[38;5;241m.\u001b[39mconcat(dataframes, ignore_index\u001b[38;5;241m=\u001b[39m\u001b[38;5;28;01mTrue\u001b[39;00m)\n\u001b[1;32m     32\u001b[0m \u001b[38;5;66;03m# Function to extract rps from the experiment_id column\u001b[39;00m\n\u001b[1;32m     33\u001b[0m \u001b[38;5;28;01mdef\u001b[39;00m \u001b[38;5;21mextract_rps\u001b[39m(experiment_id):\n",
      "File \u001b[0;32m/mnt/ssd1/alm-os/sglang_multi_model/nsdi_plots/plot_utils.py:30\u001b[0m, in \u001b[0;36m<listcomp>\u001b[0;34m(.0)\u001b[0m\n\u001b[1;32m     28\u001b[0m     fpaths \u001b[38;5;241m=\u001b[39m [fpaths]\n\u001b[1;32m     29\u001b[0m dataframes \u001b[38;5;241m=\u001b[39m [pd\u001b[38;5;241m.\u001b[39mread_csv(file) \u001b[38;5;28;01mfor\u001b[39;00m file \u001b[38;5;129;01min\u001b[39;00m fpaths]\n\u001b[0;32m---> 30\u001b[0m combined_df \u001b[38;5;241m=\u001b[39m pd\u001b[38;5;241m.\u001b[39mconcat(dataframes, ignore_index\u001b[38;5;241m=\u001b[39m\u001b[38;5;28;01mTrue\u001b[39;00m)\n\u001b[1;32m     32\u001b[0m \u001b[38;5;66;03m# Function to extract rps from the experiment_id column\u001b[39;00m\n\u001b[1;32m     33\u001b[0m \u001b[38;5;28;01mdef\u001b[39;00m \u001b[38;5;21mextract_rps\u001b[39m(experiment_id):\n",
      "File \u001b[0;32m/mnt/ssd1/alm-os/sg_env/lib/python3.10/site-packages/pandas/io/parsers/readers.py:1026\u001b[0m, in \u001b[0;36mread_csv\u001b[0;34m(filepath_or_buffer, sep, delimiter, header, names, index_col, usecols, dtype, engine, converters, true_values, false_values, skipinitialspace, skiprows, skipfooter, nrows, na_values, keep_default_na, na_filter, verbose, skip_blank_lines, parse_dates, infer_datetime_format, keep_date_col, date_parser, date_format, dayfirst, cache_dates, iterator, chunksize, compression, thousands, decimal, lineterminator, quotechar, quoting, doublequote, escapechar, comment, encoding, encoding_errors, dialect, on_bad_lines, delim_whitespace, low_memory, memory_map, float_precision, storage_options, dtype_backend)\u001b[0m\n\u001b[1;32m   1013\u001b[0m kwds_defaults \u001b[38;5;241m=\u001b[39m _refine_defaults_read(\n\u001b[1;32m   1014\u001b[0m     dialect,\n\u001b[1;32m   1015\u001b[0m     delimiter,\n\u001b[0;32m   (...)\u001b[0m\n\u001b[1;32m   1022\u001b[0m     dtype_backend\u001b[38;5;241m=\u001b[39mdtype_backend,\n\u001b[1;32m   1023\u001b[0m )\n\u001b[1;32m   1024\u001b[0m kwds\u001b[38;5;241m.\u001b[39mupdate(kwds_defaults)\n\u001b[0;32m-> 1026\u001b[0m \u001b[38;5;28;01mreturn\u001b[39;00m \u001b[43m_read\u001b[49m\u001b[43m(\u001b[49m\u001b[43mfilepath_or_buffer\u001b[49m\u001b[43m,\u001b[49m\u001b[43m \u001b[49m\u001b[43mkwds\u001b[49m\u001b[43m)\u001b[49m\n",
      "File \u001b[0;32m/mnt/ssd1/alm-os/sg_env/lib/python3.10/site-packages/pandas/io/parsers/readers.py:620\u001b[0m, in \u001b[0;36m_read\u001b[0;34m(filepath_or_buffer, kwds)\u001b[0m\n\u001b[1;32m    617\u001b[0m _validate_names(kwds\u001b[38;5;241m.\u001b[39mget(\u001b[38;5;124m\"\u001b[39m\u001b[38;5;124mnames\u001b[39m\u001b[38;5;124m\"\u001b[39m, \u001b[38;5;28;01mNone\u001b[39;00m))\n\u001b[1;32m    619\u001b[0m \u001b[38;5;66;03m# Create the parser.\u001b[39;00m\n\u001b[0;32m--> 620\u001b[0m parser \u001b[38;5;241m=\u001b[39m \u001b[43mTextFileReader\u001b[49m\u001b[43m(\u001b[49m\u001b[43mfilepath_or_buffer\u001b[49m\u001b[43m,\u001b[49m\u001b[43m \u001b[49m\u001b[38;5;241;43m*\u001b[39;49m\u001b[38;5;241;43m*\u001b[39;49m\u001b[43mkwds\u001b[49m\u001b[43m)\u001b[49m\n\u001b[1;32m    622\u001b[0m \u001b[38;5;28;01mif\u001b[39;00m chunksize \u001b[38;5;129;01mor\u001b[39;00m iterator:\n\u001b[1;32m    623\u001b[0m     \u001b[38;5;28;01mreturn\u001b[39;00m parser\n",
      "File \u001b[0;32m/mnt/ssd1/alm-os/sg_env/lib/python3.10/site-packages/pandas/io/parsers/readers.py:1620\u001b[0m, in \u001b[0;36mTextFileReader.__init__\u001b[0;34m(self, f, engine, **kwds)\u001b[0m\n\u001b[1;32m   1617\u001b[0m     \u001b[38;5;28mself\u001b[39m\u001b[38;5;241m.\u001b[39moptions[\u001b[38;5;124m\"\u001b[39m\u001b[38;5;124mhas_index_names\u001b[39m\u001b[38;5;124m\"\u001b[39m] \u001b[38;5;241m=\u001b[39m kwds[\u001b[38;5;124m\"\u001b[39m\u001b[38;5;124mhas_index_names\u001b[39m\u001b[38;5;124m\"\u001b[39m]\n\u001b[1;32m   1619\u001b[0m \u001b[38;5;28mself\u001b[39m\u001b[38;5;241m.\u001b[39mhandles: IOHandles \u001b[38;5;241m|\u001b[39m \u001b[38;5;28;01mNone\u001b[39;00m \u001b[38;5;241m=\u001b[39m \u001b[38;5;28;01mNone\u001b[39;00m\n\u001b[0;32m-> 1620\u001b[0m \u001b[38;5;28mself\u001b[39m\u001b[38;5;241m.\u001b[39m_engine \u001b[38;5;241m=\u001b[39m \u001b[38;5;28;43mself\u001b[39;49m\u001b[38;5;241;43m.\u001b[39;49m\u001b[43m_make_engine\u001b[49m\u001b[43m(\u001b[49m\u001b[43mf\u001b[49m\u001b[43m,\u001b[49m\u001b[43m \u001b[49m\u001b[38;5;28;43mself\u001b[39;49m\u001b[38;5;241;43m.\u001b[39;49m\u001b[43mengine\u001b[49m\u001b[43m)\u001b[49m\n",
      "File \u001b[0;32m/mnt/ssd1/alm-os/sg_env/lib/python3.10/site-packages/pandas/io/parsers/readers.py:1880\u001b[0m, in \u001b[0;36mTextFileReader._make_engine\u001b[0;34m(self, f, engine)\u001b[0m\n\u001b[1;32m   1878\u001b[0m     \u001b[38;5;28;01mif\u001b[39;00m \u001b[38;5;124m\"\u001b[39m\u001b[38;5;124mb\u001b[39m\u001b[38;5;124m\"\u001b[39m \u001b[38;5;129;01mnot\u001b[39;00m \u001b[38;5;129;01min\u001b[39;00m mode:\n\u001b[1;32m   1879\u001b[0m         mode \u001b[38;5;241m+\u001b[39m\u001b[38;5;241m=\u001b[39m \u001b[38;5;124m\"\u001b[39m\u001b[38;5;124mb\u001b[39m\u001b[38;5;124m\"\u001b[39m\n\u001b[0;32m-> 1880\u001b[0m \u001b[38;5;28mself\u001b[39m\u001b[38;5;241m.\u001b[39mhandles \u001b[38;5;241m=\u001b[39m \u001b[43mget_handle\u001b[49m\u001b[43m(\u001b[49m\n\u001b[1;32m   1881\u001b[0m \u001b[43m    \u001b[49m\u001b[43mf\u001b[49m\u001b[43m,\u001b[49m\n\u001b[1;32m   1882\u001b[0m \u001b[43m    \u001b[49m\u001b[43mmode\u001b[49m\u001b[43m,\u001b[49m\n\u001b[1;32m   1883\u001b[0m \u001b[43m    \u001b[49m\u001b[43mencoding\u001b[49m\u001b[38;5;241;43m=\u001b[39;49m\u001b[38;5;28;43mself\u001b[39;49m\u001b[38;5;241;43m.\u001b[39;49m\u001b[43moptions\u001b[49m\u001b[38;5;241;43m.\u001b[39;49m\u001b[43mget\u001b[49m\u001b[43m(\u001b[49m\u001b[38;5;124;43m\"\u001b[39;49m\u001b[38;5;124;43mencoding\u001b[39;49m\u001b[38;5;124;43m\"\u001b[39;49m\u001b[43m,\u001b[49m\u001b[43m \u001b[49m\u001b[38;5;28;43;01mNone\u001b[39;49;00m\u001b[43m)\u001b[49m\u001b[43m,\u001b[49m\n\u001b[1;32m   1884\u001b[0m \u001b[43m    \u001b[49m\u001b[43mcompression\u001b[49m\u001b[38;5;241;43m=\u001b[39;49m\u001b[38;5;28;43mself\u001b[39;49m\u001b[38;5;241;43m.\u001b[39;49m\u001b[43moptions\u001b[49m\u001b[38;5;241;43m.\u001b[39;49m\u001b[43mget\u001b[49m\u001b[43m(\u001b[49m\u001b[38;5;124;43m\"\u001b[39;49m\u001b[38;5;124;43mcompression\u001b[39;49m\u001b[38;5;124;43m\"\u001b[39;49m\u001b[43m,\u001b[49m\u001b[43m \u001b[49m\u001b[38;5;28;43;01mNone\u001b[39;49;00m\u001b[43m)\u001b[49m\u001b[43m,\u001b[49m\n\u001b[1;32m   1885\u001b[0m \u001b[43m    \u001b[49m\u001b[43mmemory_map\u001b[49m\u001b[38;5;241;43m=\u001b[39;49m\u001b[38;5;28;43mself\u001b[39;49m\u001b[38;5;241;43m.\u001b[39;49m\u001b[43moptions\u001b[49m\u001b[38;5;241;43m.\u001b[39;49m\u001b[43mget\u001b[49m\u001b[43m(\u001b[49m\u001b[38;5;124;43m\"\u001b[39;49m\u001b[38;5;124;43mmemory_map\u001b[39;49m\u001b[38;5;124;43m\"\u001b[39;49m\u001b[43m,\u001b[49m\u001b[43m \u001b[49m\u001b[38;5;28;43;01mFalse\u001b[39;49;00m\u001b[43m)\u001b[49m\u001b[43m,\u001b[49m\n\u001b[1;32m   1886\u001b[0m \u001b[43m    \u001b[49m\u001b[43mis_text\u001b[49m\u001b[38;5;241;43m=\u001b[39;49m\u001b[43mis_text\u001b[49m\u001b[43m,\u001b[49m\n\u001b[1;32m   1887\u001b[0m \u001b[43m    \u001b[49m\u001b[43merrors\u001b[49m\u001b[38;5;241;43m=\u001b[39;49m\u001b[38;5;28;43mself\u001b[39;49m\u001b[38;5;241;43m.\u001b[39;49m\u001b[43moptions\u001b[49m\u001b[38;5;241;43m.\u001b[39;49m\u001b[43mget\u001b[49m\u001b[43m(\u001b[49m\u001b[38;5;124;43m\"\u001b[39;49m\u001b[38;5;124;43mencoding_errors\u001b[39;49m\u001b[38;5;124;43m\"\u001b[39;49m\u001b[43m,\u001b[49m\u001b[43m \u001b[49m\u001b[38;5;124;43m\"\u001b[39;49m\u001b[38;5;124;43mstrict\u001b[39;49m\u001b[38;5;124;43m\"\u001b[39;49m\u001b[43m)\u001b[49m\u001b[43m,\u001b[49m\n\u001b[1;32m   1888\u001b[0m \u001b[43m    \u001b[49m\u001b[43mstorage_options\u001b[49m\u001b[38;5;241;43m=\u001b[39;49m\u001b[38;5;28;43mself\u001b[39;49m\u001b[38;5;241;43m.\u001b[39;49m\u001b[43moptions\u001b[49m\u001b[38;5;241;43m.\u001b[39;49m\u001b[43mget\u001b[49m\u001b[43m(\u001b[49m\u001b[38;5;124;43m\"\u001b[39;49m\u001b[38;5;124;43mstorage_options\u001b[39;49m\u001b[38;5;124;43m\"\u001b[39;49m\u001b[43m,\u001b[49m\u001b[43m \u001b[49m\u001b[38;5;28;43;01mNone\u001b[39;49;00m\u001b[43m)\u001b[49m\u001b[43m,\u001b[49m\n\u001b[1;32m   1889\u001b[0m \u001b[43m\u001b[49m\u001b[43m)\u001b[49m\n\u001b[1;32m   1890\u001b[0m \u001b[38;5;28;01massert\u001b[39;00m \u001b[38;5;28mself\u001b[39m\u001b[38;5;241m.\u001b[39mhandles \u001b[38;5;129;01mis\u001b[39;00m \u001b[38;5;129;01mnot\u001b[39;00m \u001b[38;5;28;01mNone\u001b[39;00m\n\u001b[1;32m   1891\u001b[0m f \u001b[38;5;241m=\u001b[39m \u001b[38;5;28mself\u001b[39m\u001b[38;5;241m.\u001b[39mhandles\u001b[38;5;241m.\u001b[39mhandle\n",
      "File \u001b[0;32m/mnt/ssd1/alm-os/sg_env/lib/python3.10/site-packages/pandas/io/common.py:873\u001b[0m, in \u001b[0;36mget_handle\u001b[0;34m(path_or_buf, mode, encoding, compression, memory_map, is_text, errors, storage_options)\u001b[0m\n\u001b[1;32m    868\u001b[0m \u001b[38;5;28;01melif\u001b[39;00m \u001b[38;5;28misinstance\u001b[39m(handle, \u001b[38;5;28mstr\u001b[39m):\n\u001b[1;32m    869\u001b[0m     \u001b[38;5;66;03m# Check whether the filename is to be opened in binary mode.\u001b[39;00m\n\u001b[1;32m    870\u001b[0m     \u001b[38;5;66;03m# Binary mode does not support 'encoding' and 'newline'.\u001b[39;00m\n\u001b[1;32m    871\u001b[0m     \u001b[38;5;28;01mif\u001b[39;00m ioargs\u001b[38;5;241m.\u001b[39mencoding \u001b[38;5;129;01mand\u001b[39;00m \u001b[38;5;124m\"\u001b[39m\u001b[38;5;124mb\u001b[39m\u001b[38;5;124m\"\u001b[39m \u001b[38;5;129;01mnot\u001b[39;00m \u001b[38;5;129;01min\u001b[39;00m ioargs\u001b[38;5;241m.\u001b[39mmode:\n\u001b[1;32m    872\u001b[0m         \u001b[38;5;66;03m# Encoding\u001b[39;00m\n\u001b[0;32m--> 873\u001b[0m         handle \u001b[38;5;241m=\u001b[39m \u001b[38;5;28;43mopen\u001b[39;49m\u001b[43m(\u001b[49m\n\u001b[1;32m    874\u001b[0m \u001b[43m            \u001b[49m\u001b[43mhandle\u001b[49m\u001b[43m,\u001b[49m\n\u001b[1;32m    875\u001b[0m \u001b[43m            \u001b[49m\u001b[43mioargs\u001b[49m\u001b[38;5;241;43m.\u001b[39;49m\u001b[43mmode\u001b[49m\u001b[43m,\u001b[49m\n\u001b[1;32m    876\u001b[0m \u001b[43m            \u001b[49m\u001b[43mencoding\u001b[49m\u001b[38;5;241;43m=\u001b[39;49m\u001b[43mioargs\u001b[49m\u001b[38;5;241;43m.\u001b[39;49m\u001b[43mencoding\u001b[49m\u001b[43m,\u001b[49m\n\u001b[1;32m    877\u001b[0m \u001b[43m            \u001b[49m\u001b[43merrors\u001b[49m\u001b[38;5;241;43m=\u001b[39;49m\u001b[43merrors\u001b[49m\u001b[43m,\u001b[49m\n\u001b[1;32m    878\u001b[0m \u001b[43m            \u001b[49m\u001b[43mnewline\u001b[49m\u001b[38;5;241;43m=\u001b[39;49m\u001b[38;5;124;43m\"\u001b[39;49m\u001b[38;5;124;43m\"\u001b[39;49m\u001b[43m,\u001b[49m\n\u001b[1;32m    879\u001b[0m \u001b[43m        \u001b[49m\u001b[43m)\u001b[49m\n\u001b[1;32m    880\u001b[0m     \u001b[38;5;28;01melse\u001b[39;00m:\n\u001b[1;32m    881\u001b[0m         \u001b[38;5;66;03m# Binary mode\u001b[39;00m\n\u001b[1;32m    882\u001b[0m         handle \u001b[38;5;241m=\u001b[39m \u001b[38;5;28mopen\u001b[39m(handle, ioargs\u001b[38;5;241m.\u001b[39mmode)\n",
      "\u001b[0;31mFileNotFoundError\u001b[0m: [Errno 2] No such file or directory: '/mnt/ssd1/alm-os/sglang_multi_model/e2e/2r_test_toolbench_multi_exp/exp.csv'"
     ]
    },
    {
     "data": {
      "image/png": "[encoded data removed]",
      "text/plain": [
       "<Figure size 1450x350 with 3 Axes>"
      ]
     },
     "metadata": {},
     "output_type": "display_data"
    }
   ],
   "source": [
    "fig, ax = plt.subplots(1, 3, figsize=(14.5, 3.5))\n",
    "y_column = 'p50_latency'\n",
    "\n",
    "df_2r = plot_utils.read_e2e_csv_metrics('/mnt/ssd1/alm-os/sglang_multi_model/e2e/2r_toolbench_fix_ref_cnt_without_miss_rate')\n",
    "for name, group in df_2r:\n",
    "    ax[0].plot(group['rps'], group[y_column],\n",
    "               **plot_utils.policy_mapping[':'.join(name)])\n",
    "    ax[0].set_xlim(3, 18)\n",
    "    ax[0].set_xlabel('RPS')\n",
    "    ax[0].legend()\n",
    "    ax[0].set_title('(a) 7B Mistral, 2 GPU', y=-0.4)\n",
    "    \n",
    "df_4r = plot_utils.read_e2e_csv_metrics(['/mnt/ssd1/alm-os/sglang_multi_model/e2e/4r_test_toolbench_multi_exp/exp.csv'])\n",
    "for name, group in df_4r:\n",
    "    if name != ('ROUND_ROBIN', ''):\n",
    "        continue\n",
    "    ax[1].plot(group['rps'], group[y_column],\n",
    "               **plot_utils.policy_mapping[':'.join(name)])\n",
    "    ax[1].set_xlim(6, 36)\n",
    "    ax[1].set_xlabel('RPS')\n",
    "    ax[1].legend()\n",
    "    ax[1].set_title('(b) 7B Mistral, 4 GPU', y=-0.4)\n",
    "    \n",
    "df_4r_ours = plot_utils.read_e2e_csv_metrics(['/mnt/ssd1/alm-os/sglang_multi_model/e2e/4r_test_toolbench_multi_exp_steal_heavy/exp.csv', '/mnt/ssd1/alm-os/sglang_multi_model/e2e/4r_test_toolbench_multi_exp_steal_heavy_last2/exp.csv'])\n",
    "for name, group in df_4r_ours:\n",
    "    ax[1].plot(group['rps'], group[y_column],\n",
    "               **plot_utils.policy_mapping[':'.join(name)])\n",
    "    ax[1].set_xlim(6, 36)\n",
    "    ax[1].set_xlabel('RPS')\n",
    "    ax[1].legend()\n",
    "    ax[1].set_title('(b) 7B Mistral, 4 GPU', y=-0.4)\n",
    "    \n",
    "df_8r = plot_utils.read_e2e_csv_metrics(['/mnt/ssd1/alm-os/sglang_multi_model/e2e/8r_test_toolbench_multi_exp/exp.csv'])\n",
    "for name, group in df_8r:\n",
    "    ax[2].plot(group['rps'], group[y_column],\n",
    "               **plot_utils.policy_mapping[':'.join(name)])\n",
    "    ax[2].set_xlim(12, 72)\n",
    "    ax[2].set_xlabel('RPS')\n",
    "    ax[2].legend()\n",
    "    ax[2].set_title('(b) 7B Mistral, 8 GPUs', y=-0.4)\n",
    "    \n",
    "ax[0].set_ylabel(y_column)\n",
    "fig.suptitle('ToolBench')\n",
    "plt.show()"
   ]
  },
  {
   "cell_type": "markdown",
   "metadata": {},
   "source": [
    "## Loogle"
   ]
  },
  {
   "cell_type": "code",
   "execution_count": null,
   "metadata": {},
   "outputs": [],
   "source": [
    "fig, ax = plt.subplots(1, 3, figsize=(14.5, 3.5))\n",
    "y_column = 'p50_norm_latency'\n",
    "\n",
    "df_2r = plot_utils.read_e2e_csv_metrics(['/mnt/ssd1/alm-os/sglang_multi_model/e2e/2r_loogle_rich/exp.csv', '/mnt/ssd1/alm-os/sglang_multi_model/logs/debug_loogle/exp.csv'])\n",
    "for name, group in df_2r:\n",
    "    ax[0].plot(group['rps'], group[y_column],\n",
    "               **plot_utils.policy_mapping[':'.join(name)])\n",
    "    # ax[0].set_xlim(3, 18)\n",
    "    ax[0].set_xlabel('RPS')\n",
    "    ax[0].legend()\n",
    "    ax[0].set_title('(a) 7B Mistral, 2 GPU', y=-0.4)\n",
    "    \n",
    "df_4r = plot_utils.read_e2e_csv_metrics('/mnt/ssd1/alm-os/sglang_multi_model/e2e/4r_loogle_rich/exp.csv')\n",
    "for name, group in df_4r:\n",
    "    ax[1].plot(group['rps'], group[y_column],\n",
    "               **plot_utils.policy_mapping[':'.join(name)])\n",
    "    # ax[0].set_xlim(3, 18)\n",
    "    ax[1].set_xlabel('RPS')\n",
    "    ax[1].legend()\n",
    "    ax[1].set_title('(a) 7B Mistral, 4 GPU', y=-0.4)\n",
    "    \n",
    "df_8r = plot_utils.read_e2e_csv_metrics('/mnt/ssd1/alm-os/sglang_multi_model/e2e/8r_loogle_rich/exp.csv')\n",
    "for name, group in df_8r:\n",
    "    ax[2].plot(group['rps'], group[y_column],\n",
    "               **plot_utils.policy_mapping[':'.join(name)])\n",
    "    # ax[0].set_xlim(3, 18)\n",
    "    ax[2].set_xlabel('RPS')\n",
    "    ax[2].legend()\n",
    "    ax[2].set_title('(a) 7B Mistral, 8 GPU', y=-0.4)\n",
    "\n",
    "fig.suptitle('Loogle')\n",
    "ax[0].set_ylabel(y_column)"
   ]
  },
  {
   "cell_type": "code",
   "execution_count": null,
   "metadata": {},
   "outputs": [],
   "source": [
    "fig, ax = plt.subplots(1, 3, figsize=(14.5, 3.5))\n",
    "y_column = 'p50_norm_latency'\n",
    "\n",
    "df_2r = plot_utils.read_e2e_csv_metrics('/mnt/ssd1/alm-os/sglang_multi_model/e2e/2r_loogle_rich_ref_cnt_fixed_limited_prompt/exp_3.csv')\n",
    "for name, group in df_2r:\n",
    "    ax[0].plot(group['rps'], group[y_column],\n",
    "               **plot_utils.policy_mapping[':'.join(name)])\n",
    "    # ax[0].set_xlim(3, 18)\n",
    "    ax[0].set_xlabel('RPS')\n",
    "    ax[0].legend()\n",
    "    ax[0].set_title('(a) 7B Mistral, 2 GPU', y=-0.4)\n",
    "    \n",
    "\n",
    "df_4r = plot_utils.read_e2e_csv_metrics('/mnt/ssd1/alm-os/sglang_multi_model/e2e/4r_loogle_rich_ref_cnt_fixed_limited_prompt/exp_3.csv')\n",
    "for name, group in df_4r:\n",
    "    ax[1].plot(group['rps'], group[y_column],\n",
    "               **plot_utils.policy_mapping[':'.join(name)])\n",
    "    # ax[0].set_xlim(3, 18)\n",
    "    ax[1].set_xlabel('RPS')\n",
    "    ax[1].legend()\n",
    "    ax[1].set_title('(a) 7B Mistral, 4 GPU', y=-0.4)\n",
    "    \n",
    "\n",
    "fig.suptitle('Loogle')\n",
    "ax[0].set_ylabel(y_column)"
   ]
  },
  {
   "cell_type": "code",
   "execution_count": 17,
   "metadata": {},
   "outputs": [
    {
     "ename": "KeyError",
     "evalue": "'CUSTOM:GlobalSchedulerTime'",
     "output_type": "error",
     "traceback": [
      "\u001b[0;31m---------------------------------------------------------------------------\u001b[0m",
      "\u001b[0;31mKeyError\u001b[0m                                  Traceback (most recent call last)",
      "Cell \u001b[0;32mIn[17], line 7\u001b[0m\n\u001b[1;32m      4\u001b[0m df_2r \u001b[38;5;241m=\u001b[39m plot_utils\u001b[38;5;241m.\u001b[39mread_e2e_csv_metrics(\u001b[38;5;124m'\u001b[39m\u001b[38;5;124m/mnt/ssd1/alm-os/sglang_multi_model/newest_scheduler/2r_toolbench/exp.csv\u001b[39m\u001b[38;5;124m'\u001b[39m)\n\u001b[1;32m      5\u001b[0m \u001b[38;5;28;01mfor\u001b[39;00m name, group \u001b[38;5;129;01min\u001b[39;00m df_2r:\n\u001b[1;32m      6\u001b[0m     ax[\u001b[38;5;241m0\u001b[39m]\u001b[38;5;241m.\u001b[39mplot(group[\u001b[38;5;124m'\u001b[39m\u001b[38;5;124mrps\u001b[39m\u001b[38;5;124m'\u001b[39m], group[y_column],\n\u001b[0;32m----> 7\u001b[0m                \u001b[38;5;241m*\u001b[39m\u001b[38;5;241m*\u001b[39m\u001b[43mplot_utils\u001b[49m\u001b[38;5;241;43m.\u001b[39;49m\u001b[43mpolicy_mapping\u001b[49m\u001b[43m[\u001b[49m\u001b[38;5;124;43m'\u001b[39;49m\u001b[38;5;124;43m:\u001b[39;49m\u001b[38;5;124;43m'\u001b[39;49m\u001b[38;5;241;43m.\u001b[39;49m\u001b[43mjoin\u001b[49m\u001b[43m(\u001b[49m\u001b[43mname\u001b[49m\u001b[43m)\u001b[49m\u001b[43m]\u001b[49m)\n\u001b[1;32m      8\u001b[0m     ax[\u001b[38;5;241m0\u001b[39m]\u001b[38;5;241m.\u001b[39mset_xlim(\u001b[38;5;241m3\u001b[39m, \u001b[38;5;241m18\u001b[39m)\n\u001b[1;32m      9\u001b[0m     ax[\u001b[38;5;241m0\u001b[39m]\u001b[38;5;241m.\u001b[39mset_xlabel(\u001b[38;5;124m'\u001b[39m\u001b[38;5;124mRPS\u001b[39m\u001b[38;5;124m'\u001b[39m)\n",
      "\u001b[0;31mKeyError\u001b[0m: 'CUSTOM:GlobalSchedulerTime'"
     ]
    },
    {
     "data": {
      "image/png": "[encoded data removed]",
      "text/plain": [
       "<Figure size 1450x350 with 3 Axes>"
      ]
     },
     "metadata": {},
     "output_type": "display_data"
    }
   ],
   "source": [
    "fig, ax = plt.subplots(1, 3, figsize=(14.5, 3.5))\n",
    "y_column = 'p50_latency'\n",
    "\n",
    "df_2r = plot_utils.read_e2e_csv_metrics('/mnt/ssd1/alm-os/sglang_multi_model/newest_scheduler/2r_toolbench/exp.csv')\n",
    "for name, group in df_2r:\n",
    "    ax[0].plot(group['rps'], group[y_column],\n",
    "               **plot_utils.policy_mapping[':'.join(name)])\n",
    "    ax[0].set_xlim(3, 18)\n",
    "    ax[0].set_xlabel('RPS')\n",
    "    ax[0].legend()\n",
    "    ax[0].set_title('(a) 7B Mistral, 2 GPU', y=-0.4)\n",
    "    \n",
    "df_4r = plot_utils.read_e2e_csv_metrics(['/mnt/ssd1/alm-os/sglang_multi_model/e2e/4r_test_toolbench_multi_exp/exp.csv'])\n",
    "for name, group in df_4r:\n",
    "    if name != ('ROUND_ROBIN', ''):\n",
    "        continue\n",
    "    ax[1].plot(group['rps'], group[y_column],\n",
    "               **plot_utils.policy_mapping[':'.join(name)])\n",
    "    ax[1].set_xlim(6, 36)\n",
    "    ax[1].set_xlabel('RPS')\n",
    "    ax[1].legend()\n",
    "    ax[1].set_title('(b) 7B Mistral, 4 GPU', y=-0.4)\n",
    "    \n",
    "df_4r_ours = plot_utils.read_e2e_csv_metrics(['/mnt/ssd1/alm-os/sglang_multi_model/e2e/4r_test_toolbench_multi_exp_steal_heavy/exp.csv', '/mnt/ssd1/alm-os/sglang_multi_model/e2e/4r_test_toolbench_multi_exp_steal_heavy_last2/exp.csv'])\n",
    "for name, group in df_4r_ours:\n",
    "    ax[1].plot(group['rps'], group[y_column],\n",
    "               **plot_utils.policy_mapping[':'.join(name)])\n",
    "    ax[1].set_xlim(6, 36)\n",
    "    ax[1].set_xlabel('RPS')\n",
    "    ax[1].legend()\n",
    "    ax[1].set_title('(b) 7B Mistral, 4 GPU', y=-0.4)\n",
    "    \n",
    "df_8r = plot_utils.read_e2e_csv_metrics(['/mnt/ssd1/alm-os/sglang_multi_model/e2e/8r_test_toolbench_multi_exp/exp.csv'])\n",
    "for name, group in df_8r:\n",
    "    ax[2].plot(group['rps'], group[y_column],\n",
    "               **plot_utils.policy_mapping[':'.join(name)])\n",
    "    ax[2].set_xlim(12, 72)\n",
    "    ax[2].set_xlabel('RPS')\n",
    "    ax[2].legend()\n",
    "    ax[2].set_title('(b) 7B Mistral, 8 GPUs', y=-0.4)\n",
    "    \n",
    "ax[0].set_ylabel(y_column)\n",
    "fig.suptitle('ToolBench')\n",
    "plt.show()"
   ]
  },
  {
   "cell_type": "code",
   "execution_count": null,
   "metadata": {},
   "outputs": [],
   "source": []
  }
 ],
 "metadata": {
  "kernelspec": {
   "display_name": "sg_env",
   "language": "python",
   "name": "python3"
  },
  "language_info": {
   "codemirror_mode": {
    "name": "ipython",
    "version": 3
   },
   "file_extension": ".py",
   "mimetype": "text/x-python",
   "name": "python",
   "nbconvert_exporter": "python",
   "pygments_lexer": "ipython3",
   "version": "3.10.13"
  }
 },
 "nbformat": 4,
 "nbformat_minor": 2
}
