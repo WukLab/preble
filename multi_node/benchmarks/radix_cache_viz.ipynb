{
 "cells": [
  {
   "cell_type": "code",
   "execution_count": 1,
   "metadata": {},
   "outputs": [],
   "source": [
    "from sglang.srt.managers.router.radix_cache import RadixCache\n",
    "from transformers import AutoTokenizer\n",
    "\n",
    "tokenizer = AutoTokenizer.from_pretrained(\"mistralai/Mistral-7B-v0.1\")\n",
    "\n",
    "class RadixBalancer:\n",
    "    def __init__(self):\n",
    "        self.root = {}  # Root node of the radix trie\n",
    "        self.request_count = 0\n",
    "        self.split_frequency = 2  # Split trie every 1000 requests\n",
    "        self.radix_cache = RadixCache()\n",
    "    \n",
    "    def process_request(self, request):\n",
    "        # Process the request and update trie\n",
    "        tokens = tokenizer.encode(request)\n",
    "        self.radix_cache.insert(tuple(tokens))\n",
    "        # Increment request count\n",
    "        self.request_count += 1\n",
    "        \n",
    "        # Check if it's time to split the trie\n",
    "        if self.request_count >= self.split_frequency:\n",
    "            self.split_trie()\n",
    "            self.request_count = 0  # Reset request count after splitting\n",
    "    \n",
    "    def split_trie(self):\n",
    "        # Initialize new nodes for the split\n",
    "        new_nodes = [{}, {}]\n",
    "        \n",
    "        # Distribute existing nodes' children evenly between new nodes\n",
    "        for child_key in self.root:\n",
    "            child_node = self.root[child_key]\n",
    "            index = 0 if len(new_nodes[0]) <= len(new_nodes[1]) else 1\n",
    "            new_nodes[index][child_key] = child_node\n",
    "        \n",
    "        # Update root to point to the new nodes\n",
    "        self.root = new_nodes\n",
    "\n",
    "# Example usage\n",
    "radix_cache = RadixBalancer()\n",
    "\n",
    "# Simulate processing requests\n",
    "requests = [\"hello\", \"world\", \"python\", \"algorithm\", \"implementation\", \"splitting\"]\n",
    "for request in requests:\n",
    "    radix_cache.process_request(request)"
   ]
  },
  {
   "cell_type": "code",
   "execution_count": null,
   "metadata": {},
   "outputs": [],
   "source": []
  }
 ],
 "metadata": {
  "kernelspec": {
   "display_name": "sglang_env",
   "language": "python",
   "name": "python3"
  },
  "language_info": {
   "codemirror_mode": {
    "name": "ipython",
    "version": 3
   },
   "file_extension": ".py",
   "mimetype": "text/x-python",
   "name": "python",
   "nbconvert_exporter": "python",
   "pygments_lexer": "ipython3",
   "version": "3.9.18"
  }
 },
 "nbformat": 4,
 "nbformat_minor": 2
}
