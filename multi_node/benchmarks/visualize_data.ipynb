{
 "cells": [
  {
   "cell_type": "code",
   "execution_count": 1,
   "metadata": {},
   "outputs": [
    {
     "name": "stderr",
     "output_type": "stream",
     "text": [
      "/mnt/data/ssd/sglang_env/lib/python3.9/site-packages/tqdm/auto.py:21: TqdmWarning: IProgress not found. Please update jupyter and ipywidgets. See https://ipywidgets.readthedocs.io/en/stable/user_install.html\n",
      "  from .autonotebook import tqdm as notebook_tqdm\n"
     ]
    }
   ],
   "source": [
    "from transformers import AutoTokenizer\n",
    "from benchmark_workload_gen import ToolBenchDataLoader, LoadDistribution\n",
    "num_workloads = 100\n",
    "num_requests = 4096\n",
    "tokenizer = AutoTokenizer.from_pretrained(\"mistralai/Mistral-7B-v0.1\")\n",
    "dataloader = ToolBenchDataLoader('/mnt/data/ssd/sglang_multi_model/multi_node/benchmarks/G1_workload_updated.json', num_workloads, num_requests, tokenizer, LoadDistribution.ALL)\n"
   ]
  },
  {
   "cell_type": "code",
   "execution_count": null,
   "metadata": {},
   "outputs": [],
   "source": []
  },
  {
   "cell_type": "code",
   "execution_count": 5,
   "metadata": {},
   "outputs": [
    {
     "data": {
      "text/plain": [
       "1582"
      ]
     },
     "execution_count": 5,
     "metadata": {},
     "output_type": "execute_result"
    }
   ],
   "source": []
  },
  {
   "cell_type": "code",
   "execution_count": 2,
   "metadata": {},
   "outputs": [],
   "source": [
    "import random\n",
    "from dataclasses import dataclass\n",
    "import re \n",
    "@dataclass\n",
    "class TBOracle:\n",
    "    trace = {}\n",
    "    tbl = {}\n",
    "    num_nodes: int\n",
    "    counter = {}\n",
    "\n",
    "    def runtime_selector(self, text: str, request_id: str):\n",
    "        match = re.search(r'You have access of the following tools:\\n1.(.+?): ', text)\n",
    "        if match:\n",
    "            tool = match.group(1)\n",
    "            self.counter[tool] = self.counter.get(tool, 0) + 1\n",
    "            num_nodes = self.num_nodes\n",
    "            if tool not in self.tbl:\n",
    "                self.tbl[tool] = random.randint(0, num_nodes - 1)\n",
    "            return self.tbl[tool]\n",
    "        else:\n",
    "            return random.randint(0, self.num_nodes - 1)\n"
   ]
  },
  {
   "cell_type": "code",
   "execution_count": 7,
   "metadata": {},
   "outputs": [
    {
     "data": {
      "text/plain": [
       "dict_keys(['whatsapp_api', 'admiralbet', 'fast_email_verifier', 'vod_app', 'cnpj_validator', 'review_generator_ai', 'trading_view', 'fear_and_greed_index', 'bbc_good_food_api', 'transaction', 'geocode_forward_and_reverse', 'bidirectional_text_language_translation', 'twitter_v2_v2', 'covid_news_v2', 'clinicalmarkers', 'amazon_data_scraper_v2', 'foreca_weather', 'game_of_thrones', 'binance_smart_chain', 'green_api', 'flight_integration', 'ai_news_global', 'cloud_cast', 'memes', 'exchange_rate', 'navitime_geocoding', 'catbreeddb', 'cricbuzz_cricket', 'filepursuit', 'tank01_fantasy_stats', 'betsapi', 'rest_country_api', 'flowers', 'premier_league_upcoming_matches', 'similar_web', 'random_word_api', 'tripit', 'get_360_business_tool', 'football_score_api', 'rivet_sms', 'twitter', 'handballapi', 'whatsapp_data', 'amazon_data_v2', 'wonderboyapi', 'article_extractor_and_summarizer', 'testing_for_my_use', 'coinranking', 'crypto_news_v2', 'whin', 'kolektifapi', 'signnow', 'streaming_availability', 'ikea_api', 'local_business_data', 'ios_store', 'comparable_companies', 'runs_tech', 'pagepeeker', 'bulk_whois', 'coinbase', 'booking_com_v2', 'sandbox_ecombr_com_01_products', 'district_capitals_in_ghana', 'quotes_api', 'fan_crypto_coins', 'soundcloud', 'yh_finance_v2', 'onboarding_project', 'billboard_v2', 'bb_finance', 'scout', 'rushtranslate', 'wallet', 'asdfadsf', 'carbonsutra', 'crossref', 'sign_hexagram', 'trulia_real_estate_scraper', 'roman_gods_by_pizza_api', 'melrose_labs_voice_api', 'workout_planner', 'cleardil', 'instagram_pro', 'trackingmore_v2', 'csgo_matches_and_tournaments', 'chuck_norris', 'real_estate_records', 'text_to_speech', 'webit_blockchain', 'viet_nam_administrative_divisions', 'hm_hennes_mauritz', 'ranked_crime_cities', 'metals_prices_rates_api', 'similar_movies', 'gigopost', 'token_forwarding', 'hashing_api', 'captcha_v2', 'midjourney', 'socie', 'instagram_data_v2', 'summery', 'calltrackingmetrics', 'groupdocs_watermark_cloud', 'general_classification', 'crypto_and_forex_rates', 'unofficial_shein', 'business_starter_api', 'india_pincode_api', 'amazon_india_scraper_v3', 'cs_skin_api', 'ig_private_api', 'litecoin_wallet', 'f1_live_motorsport_data', 'os_sports_perform', 'tanzania_api', 'inventory_and_ecommerce_hosted_and_self_hosted_solution', 'football_v2', 'stock_and_options_trading_data_provider', 'opensea_v2', 'morpheus_predictions', 'stock_cryptocurrency_forex_market_data', 'dataestado', 'cryptocurrency_balance', 'twitter_v4', 'bet_at_home', 'apple_music', 'web_novel_api', 'real_time_lens_data', 'reddio_nft_token_and_ipfs', 'optitalk', 'cpf_validator', 'google_local_rank_tracker', 'currency_conversion_and_exchange_rates', 'captcha', 'terabox_downloader', 'newscatcher', 'fastytapi', 'tiktok_solutions', 'utile_space', 'ufc_fighters_v2', 'marketci_analytics', 'retrieve_dns_entries', 'manga_scrapper', 'groupdocs_metadata_cloud', 'pe_demo', 'instagram_downloader', 'indeed', 'booking_com', 'tin_check', 'qr_code_generator', 'tiktok_v3', 'shapeways', 'location', 'apimail10', 'anime_db', 'gearbest', 'instagram_v7', 'rankiteo_climate_risk_assessment', 'cheap_translate', 'football_betting_odds', 'bart', 'fmpcloud', 'age_calculator', 'waifu', 'bd', 'predictx', 'facebook_marketplace', 'felina_multisig_wallet_api', 'counter', 'famous_quotes', 'lista_de_empresas_por_segmento', 'greip', 'live_world_futbol_news', 'sport_v2', 'google_news', 'funny_emojis', 'qrcode', 'spotify', 'footapi', 'hummingbird_apiv1', 'bmr_and_tmr', 'sbb_suisse_railway', 'compras_net_api', 'instagram_api', 'heywatch_video_encoding', 'get_50k_radio_stations', 'teamriverbubbles_random_utilities', 'images_infos_api1', 'dungeons_and_dragon_5e', 'arabic_news_api', 'exerra_phishing_check', 'ambee_air_quality', 'testing_v2', 'stock_analysis', 'visa_requirements', 'deezer', 'dream_diffusion', 'new_girl', 'barpatterns', 'adcopy_ai_google_ads_ai_text_generation', 'nft_api_news', 'trinidad_covid_19_statistics', 'news_network', 'direct_wines', 'oauthecho', 'leo_github_data_scraper', 'shazam', 'tdot_school_data', 'cellphones', 'fortune_cookie', 'worldwide_recipes', 'ambee_water_vapor_data', 'quality_porn', 'the_cocktail_db_v2', 'xxxtremelightningrouletteapi', 'colorful', 'flag_status', 'outsystems_community_api', 'blackbox', 'wosti_futbol_tv_spain', 'news_in_bay', 'cryptocurrency_markets', 'kubric_the_comprehensive_movie_news_api', 'world_weather_online_api', 'words_of_wisdom_the_famous_quotes_api', 'hanime_python_api', 'open_library', 'global_stock_market_api_data', 'youtube_search_v3', 'alt_bichinhos', 'live_golf_data', 'the_sandbox_sand', 'wikihow', 'google_trends', 'us_states_and_postal_areas_in_geojson', 'real_time_news_data', 'climate_change_live_v3', 'translate_v3', 'lambdatest_screenshot', 'getguidelines', 'face_animer', 'twitch_api', 'youtube_influencer_search', 'get_58_provinces_of_algeria', 'kick_com_api_kick_api', 'supersaas_online_bookings_and_appointment_scheduling', 'thisisapublicapi_v2', 'reddit', 'crypto_swap', 'latest_spotify_downloader', 'waze', 'basketball_datafeeds_by_rolling_insights', 'australian_suburbs', 'get_100_success_instagram_api_scalable_robust', 'target', 'league_of_legends_esports', 'google_play', 'commodity_rates_api', 'crypto_news_v3', 'local_businesses_by_outscraper', 'sportapi', 'cities_cost_of_living', 'androidapi', 'seeding_data', 'weather', 'the_birthday_cake_db', 'youtube_media_downloader', 'amazon_scrapper_v4', 'youtoosound', 'airbnb_listings', 'indonesia_most_accurate_weather_and_earthquake', 'aliexpress_unofficial', 'lightningroulletteapi', 'jailbase', 'vct_global_contract_database', 'torrenthunt', 'check_username', 'target_com_store_product_reviews_locations_data', 'tiktok_bulletproof', 'mocktwitter', 'anime_jokes', 'list_movies_v3', 'shoes_collections', 'cars_image_background_removal', 'axesso_instagram_data_service', 'powerbi', 'typography', 'random_word_generator', 'asr_hub', 'uspto_trademark', 'world_time', 'g_search', 'ai_news_v2', 'woosmap', 'mobile_phone_specs_database', 'url_content_extractor', 'dota_2_steam_web', 'truecaller_v2', 'guid_generator', 'global_market_indices_data', 'chillybets', 'holy_bible', 'freedom_finance', 'jobsearch', 'timedb', 'surebets_2', 'stock_api', 'web_push_notifications_server', 'indie_songs_distrokid_unsigned', 'booking', 'zumata', 'ukraine_war_data', 'mikuapi', 'morning_star', 'peak_conditions', 'wayback_machine', 'currency_quake', 'taekwondo_athlete_world_ranking', 'financial_statements', 'realtime_crypto_prices', 'enoch_calendar', 'learning_engine', 'organizaci_n_territorial_de_espa_a', 'throne_of_glass_api_v2', 'vatlayer', 'the_vegan_recipes_db', 'colegiosantaana', 'instagram_v9', 'australian_postcode_to_suburb', 'temp_email', 'phone_formatter', 'abiola_amazon_data_scraper', 'autocomplete_usa', 'xlsx_template', 'mlemapi', 'geolocation_simulation_for_mobile_apps', 'country_information_and_conversion_api', 'rapidweather', 'yardillo', 'miza', 'spotify_scraper', 'measurement_unit_converter', 'optimism', 'mcapi', 'rapid_porn', 'rich_nft_api_metadata', 'live_sports_odds', 'endlessmedicalapi', 'dcps_project', 'telegram_v2', 'golf_course_finder', 'skyscanner_v2', 'instagram_reels_and_post_downloader', 'spatialscale_route_engine', 'get_docs', 'macrotrends_finance', 'hapihub', 'any_anime', 'bildbet', 'poetry_db', 'disney_worlds', 'football_highlight', 'us_states', 'signl4_critical_mobile_alerting', 'chaingateway_io', 'groupdocs_annotation_cloud', 'world_population_by_decade_and_growth_rate', 'egypt_api', 'locationiq', 'sports_live_scores', 'fancyoptions', 'rpg_items', 'finance_data', 'finanzoo_api_fundamentals', 'currency_v3', 'currency_converter_v2', 'biztoc', 'tesla_vin_identifier', 'discord_lookup', 'bitcoin_news', 'ai_resume_generator', 'the_south_asian_express', 'spellout', 'instagram_v13', 'smile', 'waktu_solat', 'groupdocs_conversion_cloud', 'exercisedb', 'tech_exams', 'groupdocs_merger_cloud', 'line_messaging', 'cocktails', 'open_proxies', 'email_checkup', 'sagenda_v3', 'youtube', 'unitconversion', 'memeados', 'mymappi', 'shwe_2d_live_api', 'stopmodreposts_blocklist', 'feku_json', 'netflix_v2', 'genderize_nationalize', 'netflix_original_series_top_100_ranked', 'geocoder_united_states_census_bureau', 'apfd', 'exchange_rates_live', 'get_60k_radio_stations', 'vrising_server_query_api', 'bmi_v2', 'f1_drivers_quotes', 'mrautoparts', 'match_api', 'wosti_futbol_tv_peru', 'ap_sample', 'fastingcenters', 'league_of_legends_stats', 'date_and_time', 'onboarding_project_v3', 'the_mexican_food_db', 'bybit', 'iotvas', 'twelve_data', 'discord_webhook_api', 'exchange_rates_api', 'drug_info_and_price_history', 'nigeria_api', 'price_tracker_south_africa', 'upcall', 'bingoapi', 'google_search_v3', 'omniinfer', 'intelligent_automation_ocr_ai', 'airbnb_v2', 'movie_and_tv_shows_quotes', 'steam_market_and_store', 'trends_keywords_in_different_regions', 'football_live_stream_api', 'spectation_sports_events_api', 'nrel_national_renewable_energy_laboratory', 'sundayfinance', 'world_of_quotes', 'movie_articles_and_news', 'gtrend', 'car_api', 'stock_sentiment_api', 'torrent_search', 'cities_cost_of_living_and_average_prices_api', 'sephora', 'betway', 'pancakeswap_api_freemium', 'candlestick_chart', 'anime_quotes_v4', 'price_comparison', 'transitfeeds', 'my_store', 'moviesdatabase', 'instagram_v2', 'offline_maptiles', 'cnbc', 'climate_news_feed', 'endpoint_monitor_tool', 'dev_to_api', 'spotify_downloader', 'florida_realty_api', 'climate_change_news_v5', 'helper_function', 'live_metal_prices', 'oil_thai_price', 'google_search_results_scraper', 'solcast', 'tiktok_video_feature_summary', 'nps_net_promoter_score', 'dreambet', 'webull', 'nhl_api', 'visual_crossing_weather', 'weblasso', 'nomad_list_cities', 'thai_lotto_new_api', 'get_10000_anime_quotes_with_pagination_support', 'mobile_phone_validation', 'subtitles_for_youtube_v3', 'petstoreapi2_0', 'bps', 'business_and_company_name_api', 'spotify_v3', 'league_of_legends_api', 'twitter_data', 'demo1', 'places', 'zeus_api', 'demo_project_v3', 'prague_stock_exchange', 'zippopotam_us', 'botlibre', 'print_your_own_labels_and_stickers', 'free_nba', 'get_27coupons', 'jsearch', 'wavecell_sms', 'instagram_api_v2', 'sciphercrypto', 'consulta_cnpj_tempo_real', 'cartify', 'temporary_email', 'new_climate', 'advanced_serp_operators', 'testing_out_sharing_w_rachael', 'tiktok_data', 'asn_details', 'climate_change_v31', 'pictionary_charades_word_generator', 'dafabet', 'trueway_places', 'mybooky_demo', 'world_cities_and_countries', 'surveymethods', 'tiktok_v2', 'climate_change_live_v27', 'uk_postcode_api', 'idealista_v2', 'crypto_market_data_from_token_metrics', 'kitten_placeholder', 'aspose_tasks_cloud', 'crypto_whale_transactions', 'tes', 'movies_tv_shows_database', 'walmart_v2', 'fitness_calculator', 'webit_language', 'store_apps', 'phone_and_email_validator_v2', 'musiclinkssapi', 'tiktok_download_video', 'euro_millions', 'putreq', 'ocr', 'marvel_heroic_api_unlock_the_mcu_legendary_characters', 'france_2d', 'aol_on_network', 'tiktok_user', 'mmaapi', 'places_in_radius', 'crypto_currency_scraper_api', 'groupdocs_translation_cloud', 'self_help_quotes', 'referential_db', 'pinaculo', 'selector_tipo_consultas', 'seo_keyword_research', 'quickbooks', 'countries_population', 'virtual_number', 'throne_of_glass_api_2', 'numerology_api', 'quotient', 'climate_change_live_api', 'movie_tv_music_search_and_download', 'demo_project', 'minecraft_uuid_converter', 'all_crypto_news_feed', 'general_detection', 'currencygenie', 'thefluentme', 'most_expensive_nft_artworks', 'scrapemaster', 'chain49', 'generaltalker', 'top_instagram_hashtag', 'argentina_movie_theatres', 'mobile_phones', 'hotels_com_provider', 'ytconvert', 'remarketlite_apis', 'soccer_data', 'ticketbud', 'keto_diet', 'starlovematch', 'keyword_analysis', 'twitter_pack_v2', 'unofficial_efteling_api', 'value_serp', 'real_time_pnr_status_api_for_indian_railways', 'restaurant', 'fdj', 'aliexpress_datahub', 'betano', 'measurement_units_converter', 'pageantdb', 'feriados_brasileiros', 'cheapshark_game_deals', 'judge0_extra_ce', 'geography_v2', 'player_data', 'exchange_rate_provider', 'gruite', 'uncovered_treasure', 'the_apophis', 'address_monitor', 'fia_formula_1_championship_statistics', 'air_quality', 'british_airways_flight_info', 'squake', 'real_estate', 'allscores', 'thai_lottery_result', 'climate_change_api_tutorial', 'anime_news_net', 'world_country', 'steam_community', 'flight_fare_search', 'chart_img', 'azure_smartable', 'addressr', 'fachaapi', 'route_precedence_test_1', 'demo_project_v2', 'dad_jokes_v2', 'qvantana', 'proxy_list', 'horse_racing', 'betmaster', 'airports_finder', 'bing_video_search', 'colorme', 'link_preview', 'recetas_en_espa_ol', 'riordanverse_api', 'jibber_jabber', 'city_list', 'airplanesdb', 'plants', 'convexity', 'global_flight_data', 'date_calculator', 'dictionary_translation_hablaa', 'caiso', 'etsy', 'netflix_data', 'amazon_web_scraping_api', 'locations_languages_countries_german_cities', 'cryptocurrency_news', 'dateclock', 'weatherapi_com', 'live_tv_api', 'wiki_briefs', 'twitter_hashtags', 'hacker_news', 'contests', 'wordle_answers_solutions', 'live_climate_change_v2', 'hris', 'numbers', 'webcams_travel', 'streamlinewatch_streaming_guide', 'zodiacapi', 'climate_change_api_v2', 'translate_all_languages', 'surebets', 'basketball_data', 'sports_betting_api', 'steam', 'al_quran', 'immersiverouletteapi', 'bitcoinaverage_crypto_ticker_and_historical_price', 'word_of_the_day', 'instagram_statistics_api', 'email_existence_validator', 'currencyapi_net', 'neo_google_search', 'yummly', 'luhn_algorithm', 'musclewiki', 'frrefe', 'jokes', 'fantasy_5', 'pizzaallapala', 'watch_database', 'youtube_data', 'webit_image_search', 'les_pagesjaunes_les_pagesblanche_france', 'osrs_live_prices', 'americanfootballapi', 'openweather', 'beyblade_api', 'realty_in_us', 'nfts_by_address', 'uniswap_v2_api', 'socialgrep', 'pocket_cube_solver', 'kenyan_news_api', 'cat_facts', 'billboard', 'view_song', 'lorem_ipsum_api', 'formula_1_standings', 'get_companies_by_sic_code_api', 'iys_skill_api', 'motivational_quotes', 'api_plaque_immatriculation_siv', 'ipinfoapi', 'sportifyapi', 'forecast_crypto_and_fiat_currency_exchange_rates', 'mailcheck', 'suggestuse', 'dna2protein', 'songmeanings', 'reddit_fast_search', 'onelike', 'bible_memory_verse_flashcard', 'get_9gag_api_detailed', 'dictionary', 'newapi', 'serverless_blogging', 'holistic_finance_stock_data', 'imdb_top_100_movies', 'yawin_indian_astrology', 'reverse_geocoding_and_geolocation_service', 'ski_resorts_and_conditions', 'project_gutenberg_api', 'africa_api', 'yh_finance_complete', 'opt_nc_public_docker_images', 'tokapi_mobile_version', 'adzuna', 'tiktok_v4', 'league_of_legends_galore', 'instant_cameroon_news', 'social_media_data_tt', 'viewdns', 'newly_registered_domains', 'sales_tax_calculator', 'food_ingredient_measurement_conversion', 'virtual_accounts_api', 'spotify_data', 'thisshouldbefree', 'webtoon', 'instagram_1', 'reqres', 'fast_food_restaurants_usa_top_50_chains', 'freeplanhardlimitexternal', 'canadian_gas_prices', 'priceline_com_provider', 'betsports', 'asin_data', 'current_affairs_of_india', 'latest_ipl_news', 'climate_news_api_v2', 'streak_crm_for_gmail', 'stars_api', 'web_search', 'soti_sync', 'flixbus_v2', 'ssh_honeypot', 'binance_futures_leaderboard', 'tutorial', 'ip_geo_location_and_ip_reputation', 'soft_cat_quiz', 'smsapi_com', 'website_analyze_and_seo_audit_pro', 'test_v2', 'ultimate_tennis', 'recash', 'sim_based_location_tracking', 'liquidation_report', 'cod_api_2_0', 'spotify_v2', 'youtube_search_and_download', 'lowest_bins_api', 'sport_odds', 'baseballapi', 'jp_funda', 'instagram_profile', 'league_of_legends_champion_meta', 'pinterest_scraper', 'wrestling_api', 'wnba_api', 'tiktok_info', 'get_23andme', 'whatsapp_scraper', 'national_football_players', 'german_company_data_v2', 'ghana_food_recipe_api', 'yc_hacker_news_official', 'pokemon_unite_pokemons', 'timetable_lookup', 'pl1box1', 'physical_quantities_constants_and_equations', 'tvmaze', 'uk_postcode', 'gas_price', 'url_link_shortener', 'dns_lookup_v2', 'baseball', 'pinterest_apis', 'nba_statistics_api', 'east_china_news', 'the_dozen_the_yo_mamsa_roast_api', 'global_recession_live', 'sudoku_all_purpose_pro', 'house_plants', 'mad_libs_diceware', 'videogames_news', 'linkedin_profiles', 'shopeeapi', 'coronavirus_smartable', 'target_com_shopping_api', 'us_hospitals', 'crypto_news_v11', 'fish_species', 'k_pop', 'world_cities_by_homicide_rate', 'youtube_video_summarizer', 'billboard_api_v2', 'airdna', 'quotes_v2', 'reddit_meme', 'taobao_tmall_product_detail', 'biggest_cities', 'vin_decoder', 'amazon_api_v2', 'helioviewer_v1', 'hull_id_boat_hin_decoder', 'text_to_speech_pro', 'youtube_video_stream_download', 'giphy', 'veriphone', 'stocktwits', 'funds', 'catalogapi', 'currency_exchange', 'datamo', 'tunisia_api', 'company_consultation_reportero_industrial_mexicano_api', 'advanced_movie_search', 'yiwugo_product_data', 'crypto_news_live_v2', 'septa', 'google_search_2', 'nowpayments', 'noaa_tides', 'transfermarket', 'blogsapi', 'guinness_world_records_api', 'maptiles', 'body_mass_index_bmi_calculator', 'similarweb_historical_data', 'food_nutrition_information', 'groupdocs_comparison_cloud', 'artificial_intelligence_news_api', 'twttrapi', 'covid_19_india', 'live_climate_change_news_v2', 'musicdata_api', 'ironwifi', 'hsn_tsn', 'moodring', 'stapi_showerthoughts', 'raastaapi', 'polish_zip_codes', 'zappos_2022', 'icehockeyapi', 'forecast', 'us_counties', 'reqres_dont_change', 'spotify_data_api', 'pizza_and_desserts', 'comfyfood', 'youtube_v3_alternative', 'flight_radar', 'minecraft_forge_optifine', 'suivi_colis', 'fastapi_project', 'bandamp_downloader_api', 'de_boundaries_io', 'bulk_whatsapp_validator', 'kotak7', 'flixbus', 'credit_card_prediction', 'demo_project_v12', 'nearby_places', 'ordering', 'currency_v2', 'quran_com', 'facebook_user_info', 'real_time_product_search', 'kfc_chickens', 'nitro', 'sms_receive', 'coupons', 'price_tracking_tools', 'onlyfans', 'get_4d_results', 'us_gas_prices', 'finance_social_sentiment_for_twitter_and_stocktwits', 'fantasy_cricket', 'top_nft_sales', 'halsey_lyric_snippets', 'covid_19_economic_impact', 'crypto_gem_finder', 'lemurbot', 'betbro_sportbook', 'flashlive_sports', 'co2_offset', 'uers_api', 'ted_talks_api', 'spott', 'currency_exchange_rates', 'top_2023_it_certifications', 'shazam_api', 'gogoanime_data_api', 'daily_sec_financial_statement_dataset', 'thai_lottery', 'smslink', 'joj_finance', 'animes', 'aviation_weather_center', 'churchapp', 'election2020_smartable', 'olato_quotes', 'bank_swift_codes', 'image', 'currency_ex', 'my_api_12345', 'dicolink', 'biggestcities', 'zillow_base', 'interceptor_sample', 'premium_anime_mobile_wallpapers_illustrations', 'world_airports_directory', 'magical_taske', 'flowplayer_drive', 'axesso_kaufland_data_service', 'political_bias_database', 'investors_exchange_iex_trading', 'mboum_finance', 'appibase', 'sofascores', 'get_1977_2022_nba_team_rosters_and_schedules', 'vinhub', 'cheap_youtube_api', 'tasty', 'hockey_datafeeds_by_rolling_insights', 'ambee_soil_data', 'domain_name_search', 'global_data', 'cigars', 'youtube_v2', 'pubnub_network', 'leetcodeapi', 'felina_api', 'maytapi_whatsapp', 'dubai_makani', 'latest_stock_price', 'currents_news', 'indonesia_latest_weather_and_earthquake', 'viperscore', 'crowdsense', 'deutsche_bahn', 'news_v3', 'daily_knowledge', 'cricket_live_data', 'car_averages', 'bayut', 'acopaer', 'meme_generator_and_template_database', 'shopee_v2', 'nexweave', 'basic_amazon_scraper', 'dogbreeddb', 'free_ip_geolocation', 'unit_converter', 'get_31events_send_native_calendar_invites', 'sandbox_ecombr_com_04_orders', 'anime_voice_waifu_ai_api', 'electric_vehicle_charging_stations', 'kiann_options_sabr', 'get_promo_codes', 'esportapi', 'app_store', 'access_instagram', 'location_and_time', 'finshorts', 'valorant_esports_v2', 'wordle_api', 'exchanger_currency_rates_provider', 'ubidots', 'ai_writer', 'spachero_spac_database', 'global_ethereum_price_index_gex', 'nhl_stats_and_live_data', 'unigamer_api', 'exchangeratespro', 'zigatext_global_bulk_sms_otp', 'yandex_serp', 'currenciesexchangerateapi', 'udemy_course_scrapper_api', 'islam_ai_api', 'health_calculator_api', 'freefloatus', 'image_anonymization', 'evosis_s_game_database', 'reuters_business_and_financial_news', 'imdb_api', 'seo_fast_audit', 'zodiac_sign_api', 'suggestic', 'ocoya', 'pragmavantapi', 'textapi', 'real_time_amazon_data', 'climate_change_api_v3', 'imdb', 'hryvna_today', 'kvstore', 'seo_checker', 'ppob', 'realtor', 'transitaires', 'vrm_str_tools', 'sunnah_fasting', 'spotify_web', 'crypto_markets', 'valorant_weapons', 'news_content_extraction_live', 'currency_converter_pro', 'tomba', 'youtube_search', 'great_circle_math_api', 'football_prediction', 'token2go', 'investing', 'mantis_object_detection', 'medium', 'instagram_v6', 'ecartapi', 'passbook', 'pharmacies_de_garde_nc', 'walletapi_cloud', 'forward_reverse_geocoding_by_googlemap_api', 'landr_mastering_v1', 'astronomy', 'zappos', 'tiktok_api', 'seloger', 'get_4bro_1337x', 'ase_s_quiz_api', 'get_2factor_authentication_india', 'marvel_vs_capcom_2', 'kohls', 'irctc', 'everypixel_image_recognition', 'uniblock', 'domain_checker', 'news_api_v2', 'places_nearby_a_coordinates', 'livescore_sports', 'seo_api', 'get_20211230_testing_upload_swagger', 'subtitles_for_youtube_v2', 'youtube_classification_api', 'google_jobs', 'everyearthquake', 'local_rank_tracker', 'id_game_checker', 'public_url_share', 'realty_in_au', 'mongodb_wix', 'pet_store', 'metrx_factory', 'zillow_v2', 'vimeo', 'asos', 'tibia_items', 'vat_validation_and_tax_rates', 'latest_mutual_fund_nav', 'motivational_content', 'all_purpose_complex_converter', 'h30_e_commerce_data_scraper', 'cat_breeds', 'ptl', 'check_disposable_email', 'world_clock', 'realtor_data_api_for_real_estate', 'fake_data_generator', 'whois_lookup_v4', 'restaurants_near_me_usa', 'scraper_s_proxy', 'get_168predict_vip_football_predictions', 'changenow_crypto_exchange', 'instagram_cheapest', 'dog_api', 'instagram_scraper_2023_v2', 'cleantalk', 'cash4life', 'real_time_finance_data', 'node_express_api_tutorial', 'youtube_v3_lite', 'jet_set_radio_api', 'serie_a', 'trumpetbox_cloud', 'book_cover_api', 'nowyapi', 'twitter_aio', 'zillow', 'motorcycle_specs_database', 'data_police_uk', 'mlb_data', 'tradingview_ta_api_technical_analysis', 'temu_com_shopping_api_realtime_api_scrapper_from_temu_com', 'test_opta', 'mathematical_symbolic_expression_manipulator', 'the_fork_the_spoon', 'dota2_heroes', 'riddlie', 'd7sms', 'instagram_looter', 'sofasport', 'uganda_api', 'domain_seo_analysis', 'geoapi', 'whatsapp_private_api', 'alpaca_trading', 'city_and_state_search_api', 'climate_data', 'real_estate_usa', 'indonesia_news', 'hautecouture_api', 'mexico_zip_codes', 'world_bank_gdp', 'defi_watch', 'likee_downloader_download_likee_videos', 'leo_github_api_scraper', 'weather_forecast_14_days', 'real_time_quotes', 'football_data', 'zip_code_master', 'newsdata', 'unofficial_cricbuzz', 'the_cancer_imaging_archive', 'ginger', 'getcountries', 'german_police_and_crime_news_live', 'world_scuba_diving_sites_api', 'world_history_timeline', 'mma_stats', 'ca_boundaries_io', 'woo_temp', 'bing_web_search', 'tank01_nfl_live_in_game_real_time_statistics_nfl', 'superhero_search', 'papercliff', 'popular_languages', 'pedidosya', 'countries_v2', 'us_presidential_election', 'ouranos', 'generate_linkedin_leads', 'lgbtq_world_news_live', 'vuelos', 'geodb_cities', 'ecoweather', 'ziff', 'sertifi_esignature_and_epayment', 'purgomalum', 'expense_data', 'cryptoinfo', 'golf_leaderboard_data', 'bhagavad_gita_v3', 'youtube_mp3_downloader', 'tokopediaapi', 'numberstoletters', 'investing_cryptocurrency_markets', 'cameroon', 'car_data', 'market_intelligence_by_automata', 'demo_project_v13', 'simple_youtube_search', 'viva_city_documentation', 'car_utils', 'capacitacionangular', 'horoscope_astrology', 'ev_charge_finder', 'anime_quotes', 'cheeses', 'jokester', 'email_utilities', 'quickblox', 'wyre_data', 'vision_weather_map', 'f1_race_schedule', 'futures', 'fluximmo', 'fresh_linkedin_company_data', 'cinema_api', 'fund_transfer', 'yahoo_finance_v2', 'theclique', 'portfolio', 'complete_study_bible', 'reading_home_apis', 'n_meros_a_letras', 'stocks_archive', 'groupdocs_signature_cloud', 'investing_financial_stocks', 'sample_app_config_json', 'power_bi_smartable', 'betcity', 'top_nft_collections', 'get_13', 'shopify_store_scraper', 'pixelstix', 'taboo_api', 'mocking_rock', 'scoring_tables_api', 'personality_quest', 'erictestpet', 'unicode_codepoints', 'arespass', 'blur', 'background_remover', 'g_finance', 'maptoolkit', 'wealth_reader_api', 'youtube_music_api_detailed', 'twitter_v5', 'travel_hacking_tool', 'u_s_economic_indicators', 'vizor_ads', 'semantic_quotes', 'appointment_system_api', 'team_petstore', 'partenaires_mobilis', 'mapreflex', 'phone_validator_api', 'entity_risk', 'cryptocurrency_financial_data', 'today_football_prediction', 'searchhook', 'crazytimeapi', 'indonesia_school_list', 'pulsar', 'world_of_jokes', 'rugbyapi2', 'whois_lookup_v3', 'ott_details', 'palmy_investing_api', 'aspose_cells_cloud', 'contextoguess', 'football_xg_statistics', 'mdblist', 'skyscanner_api', 'aspose_imaging_cloud', 'gamerpower', 'national_weather_service', 'uuid_generator', 'google_reviews_scraper', 'risk_management_framework', 'ishan', 'aspose_diagram_cloud', 'tiktok_video_no_watermark_v2', 'business_credit_scores', 'crypto_grana', 'dargan', 'sportsbook_odds', 'trackmania', 'ohlc_history_forex', 'dice_roll_simulator', 'yelp_reviews', 'todo_lsit', 'ncaa_final_four', 'fomoapi', 'energy_price_news', 'awesome_rss', 'asktheworld', 'livescore_v2', 'pregnancy_calculator_api', 'microsoft_edge_text_to_speech', 'tiktok_private', 'genius_song_lyrics', 'judge0_ce', 'reword_pdf', 'a_i_smartable', 'horoscopes_ai', 'hadiths_api', 'catchloc', 'quotsy', 'free_stopwords', 'mapfanapi_map', 'ip_echo', 'mbar', 'regionalkonzept_strom_herkunft', 'motorsportapi', 'fake_users', 'bybit_leaderboard', 'matinapi', 'uk_boundaries_io', 'art_openings_italy', 'score', 'stockseyes', 'consumer_reports', 'youtube_v3_v2', 'kwai', 'ca_lottery', 'epoch_converter', 'inkit', 'optlog_co_optimize_anything', 'all_in_one_crypto_swiss_knife', 'veiculos_api', 'lexicala', 'flaticon', 'seeking_alpha', 'ski_resort_forecast', 'greyhound_racing_uk', 'infocarsapi', 'guid_generator_tool', 'autocomplete_india', 'recipe_finder', 'cion_prices_api', 'list_movies', 'url_shortener', 'retrieve_info', 'sandbox_mktplace_eu_01_products', 'fidelity_investments', 'yts_am_torrent', 'anime_manga_and_novels_api', 'languagelayer', 'images_infos_api2', 'nfl_team_stats_v2', 'fresh_linkedin_profile_data', 'getbs', 'homeless_shelter', 'mangaverse_api', 'odesk_apis', 'pac_api', 'steamgames_special_offers', 'currencies_and_countries', 'opensea_data_query', 'currency_converter_v3', 'movie_showtimes', 'manatee_jokes', 'flightera_flight_data', 'magic_aliexpress', 'quotes_diffusion', 'bing_image_search', 'drinking', 'tiktok_scraper_v2', 'greek_news_in_english', 'mgs', 'gwyo_twitch', 'privatepublicapi', 'green_gold', 'cbet', 'formula_1_fixed', 'beverages_and_desserts', 'axesso_otto_data_service', 'instagram_api_2023', 'dog_breeds', 'defi_data', 'bravenewcoin', 'stormglass_complete', 'flixster', 'afterbanks_psd2_payments_and_bank_reader', 'question_explorer', 'betigolo_predictions', 'shescoresapi', 'zipwhip', 'urban_dictionary', 'b2bhint', 'financial_modeling_prep', 'geokeo_forward_geocoding', 'stoxx', 'provinces_of_thailand', 'magisto', 'gis_engine', 'domain_info', 'hashtag', 'verticalresponse', 'burgers_hub', 'instagram_v3', 'poker_cards_cartomancy', 'irail', 'bible_search', 'aqls_b2c_system', 'cricketapi2', 'yandex_video_api', 'canada_postal_codes', 'crypto_exchanges', 'redfin_base', 'working_days', 'email_validator_v12', 'sports_odds_betapi', 'league_of_legends_champion_informaion', 'lotto_draw_results_global', 'ag_amazon_data_web_scraper', 'zillow_data_v2', 'carbonfootprint', 'remote_jobs_api', 'dogbreeds', 'papi_pornstarsapi', 'testing', 'tmail', 'senegal_api', 'trueway_geocoding', 'watchmode', 'simple_surf_forecast_api', 'be_zips', 'transportistas_de_argentina', 'tradier', 'sandbox_mktplace_eu_04_orders', 'konviere_drugsapi', 'geocoding_by_api_ninjas', 'moka_news', 'seo_automations', 'learn_to_read_and_write_japanese_kanji', 'usa_jobs_for_it', 'corona_virus_world_and_india_data', 'malaysia_kini', 'meowfacts', 'pinnacle_odds', 'ttskraken', 'instagram_v5', 'instagram_api_media_downloader', 'rainforest', 'radio_world_75_000_worldwide_fm_radio_stations', 'india_today_unofficial', 'easy_weather', 'stock_and_options', 'youtube_v3_v3', 'billboard_api', 'bespoke_diet_generator', 'freeplanwithhardlimit', 'flight_data_v2', 'swagger_petstore', 'kfc_locations', 'vessel_data', 'fiverr_pro_services', 'europe_fuel_prices', 'daysapi', 'sec_filings', 'tronald_dump', 'd7_viber', 'google_play_api', 'goverlytics', 'wavebase', 'drillster_2_0', 'ebay', 'watchsignals', 'diceforge', 'auth', 'aspose_email_cloud', 'dimondevosint', 'email_scraper', 'amazon_turkey_data_scrapeer', 'real_estate_exam', 'car_specs', 'betigolo_tips', 'teas', 'neostrada_domains', 'coinlore_cryptocurrency', 'ai_weather_by_meteosource', 'patreon', 'bing_search_apis', 'test', 'bigbox', 'epic_games_store', 'dummydata', 'traveldax', 'diffbot', 'show_air_dates', 'word_tree', 'blaze_verify', 'twitter_v2', 'domaine_nc', 'spaceflight_news', 'hapi_books', 'flow_study', 'phone_verification', 'forward_reverse_geocoding', 'korean_baby_name_ranking', 'publicapitestinginbox', 'best_backlink_checker_api', 'lotto_america', 'arcgis_platform_geocoding', 'ofac_service', 'mapilion_vector_and_raster_map_tiles', 'business_card_maker', 'test2', 'random_anime_img', 'tripadvisor', 'football_soccer_team_names', 'phone', 'epic_store_games', 'wayfair', 'air_quality_api', 'wisdom_quotes', 'zoopla_v2', 'groupdocs_editor_cloud', 'burning_series_api', 'soccerway_feed', 'random_chunk_api', 'shopify_stores_info', 'clickmeter', 'scraptik', 'daily_betting_tips', 'aspose_ocr_cloud', 'cancer_rates_by_usa_state', 'open_defi', 'realtor_api_for_real_estate_data', 'referential', 'webit_news_search', 'azure', 'qrcodeutils', 'basketapi', 'ind_nutrient_api', 'openblur', 'petstore_blitz', 'platformbil', 'soccer_app', 'ics_cert_advisories', 'aliexpress_true_api', 'diablo4_smartable', 'geocoding_places', 'online_movie_database', 'tiktok_private_api', 'climate_change_api_v5', 'robberydata', 'finhost', 'vin_decoder_v4', 'stocks', 'baseball_datafeeds_by_rolling_insights', 'earningsdata', 'testapi_v2', 'generic_food_v2', 'pinterest_downloader_download_image_video_and_pinterest_ideapin', 'leetcode_compensation', 'odam', 'ice_hockey_data', 'ipl_api', 'tiktok_downloader_download_tiktok_videos_without_watermark', 'agrofitdata', 'cote_ivoire_news', 'lost_ark_simple', 'teste', 'qr_code_dynamic_and_static', 'rewards_as_a_service', 'matrimony_profiles', 'yahoo_finance_v3', 'msport', 'stockyapiexchange', 'the_cocktail_db', 'ai_powered_wishscraper_api', 'google_search_json', 'dailycred', 'f1_latest_news', 'geosource_api', 'caterer_groceries_intel', 'snapchat', 'kalshi_trading_api', 'unofficial_trust_pilot', 'premier_league_stats', 'forever21', 'multipleteamscallingtest', 'zappos_realtime_data', 'ghana_api', 'consulta_cpf_cnpj_brasil', 'crypto_update_live', 'geeklist', 'sri_lanka_news_api', 'humor_jokes_and_memes', 'quandl', 'proxypage', 'ephemeral_proxies', 'unit_measurement_conversion', 'weed_strain', 'urltest', 'seeking_alpha_finance', 'api_video'])"
      ]
     },
     "execution_count": 7,
     "metadata": {},
     "output_type": "execute_result"
    }
   ],
   "source": [
    "dataloader.data['whatsapp_api']"
   ]
  },
  {
   "cell_type": "code",
   "execution_count": 28,
   "metadata": {},
   "outputs": [
    {
     "name": "stdout",
     "output_type": "stream",
     "text": [
      "0.5\n"
     ]
    }
   ],
   "source": [
    "import numpy as np\n",
    "oracle = TBOracle(num_nodes=2)\n",
    "results = []\n",
    "for item in workload:\n",
    "    results.append(oracle.runtime_selector(item[0], request_id=\"\"))\n",
    "print(np.mean(results))"
   ]
  },
  {
   "cell_type": "code",
   "execution_count": 29,
   "metadata": {},
   "outputs": [
    {
     "name": "stdout",
     "output_type": "stream",
     "text": [
      "50 50\n"
     ]
    },
    {
     "data": {
      "text/plain": [
       "{'world_time': 0,\n",
       " 'reqres_dont_change': 1,\n",
       " 'endpoint_monitor_tool': 0,\n",
       " 'swagger_petstore': 1,\n",
       " 'realtor': 0,\n",
       " 'k_pop': 1,\n",
       " 'freedom_finance': 0,\n",
       " 'ai_writer': 1,\n",
       " 'opensea_data_query': 0,\n",
       " 'sandbox_mktplace_eu_04_orders': 1,\n",
       " 'global_recession_live': 0,\n",
       " 'cat_facts': 1,\n",
       " 'luhn_algorithm': 0,\n",
       " 'tmail': 1,\n",
       " 'crypto_news_v2': 0,\n",
       " 'aspose_email_cloud': 1,\n",
       " 'twitter_hashtags': 0,\n",
       " 'wikihow': 1,\n",
       " 'instagram_v3': 0,\n",
       " 'body_mass_index_bmi_calculator': 1,\n",
       " 'demo_project_v12': 0,\n",
       " 'shopify_store_scraper': 1,\n",
       " 'google_jobs': 0,\n",
       " 'basketball_datafeeds_by_rolling_insights': 1,\n",
       " 'the_fork_the_spoon': 0,\n",
       " 'typography': 1,\n",
       " 'forecast_crypto_and_fiat_currency_exchange_rates': 0,\n",
       " 'shwe_2d_live_api': 1,\n",
       " 'lista_de_empresas_por_segmento': 0,\n",
       " 'drug_info_and_price_history': 1,\n",
       " 'instagram_data_v2': 0,\n",
       " 'ptl': 1,\n",
       " 'coupons': 0,\n",
       " 'website_analyze_and_seo_audit_pro': 1,\n",
       " 'defi_data': 0,\n",
       " 'airplanesdb': 1,\n",
       " 'opt_nc_public_docker_images': 0,\n",
       " 'matrimony_profiles': 1,\n",
       " 'ultimate_tennis': 0,\n",
       " 'quotsy': 1,\n",
       " 'egypt_api': 0,\n",
       " 'mrautoparts': 1,\n",
       " 'anime_manga_and_novels_api': 0,\n",
       " 'likee_downloader_download_likee_videos': 1,\n",
       " 'climate_change_api_v2': 0,\n",
       " 'api_plaque_immatriculation_siv': 1,\n",
       " 'shoes_collections': 0,\n",
       " 'kick_com_api_kick_api': 1,\n",
       " 'dungeons_and_dragon_5e': 0,\n",
       " 'bps': 1,\n",
       " 'cryptoinfo': 0,\n",
       " 'new_girl': 1,\n",
       " 'woo_temp': 0,\n",
       " 'a_i_smartable': 1,\n",
       " 'capacitacionangular': 0,\n",
       " 'get_60k_radio_stations': 1,\n",
       " 'arespass': 0,\n",
       " 'finance_data': 1,\n",
       " 'rugbyapi2': 0,\n",
       " 'horse_racing': 1,\n",
       " 'geoapi': 0,\n",
       " 'food_nutrition_information': 1,\n",
       " 'test_opta': 0,\n",
       " 'youtube_mp3_downloader': 1,\n",
       " 'malaysia_kini': 0,\n",
       " 'alpaca_trading': 1,\n",
       " 'quotes_diffusion': 0,\n",
       " 'ca_boundaries_io': 1,\n",
       " 'fund_transfer': 0,\n",
       " 'top_2023_it_certifications': 1,\n",
       " 'data_police_uk': 0,\n",
       " 'vin_decoder_v4': 1,\n",
       " 'inkit': 0,\n",
       " 'open_defi': 1,\n",
       " 'valorant_weapons': 0,\n",
       " 'remarketlite_apis': 1,\n",
       " 'question_explorer': 0,\n",
       " 'booking_com': 1,\n",
       " 'quran_com': 0,\n",
       " 'climate_change_live_api': 1,\n",
       " 'azure_smartable': 0,\n",
       " 'art_openings_italy': 1,\n",
       " 'air_quality_api': 0,\n",
       " 'airbnb_listings': 1,\n",
       " 'list_movies': 0,\n",
       " 'greek_news_in_english': 1,\n",
       " 'company_consultation_reportero_industrial_mexicano_api': 0,\n",
       " 'nfl_team_stats_v2': 1,\n",
       " 'cheapshark_game_deals': 0,\n",
       " 'top_nft_collections': 1,\n",
       " 'zappos_2022': 0,\n",
       " 'amazon_turkey_data_scrapeer': 1,\n",
       " 'my_store': 0,\n",
       " 'teste': 1,\n",
       " 'web_push_notifications_server': 0,\n",
       " 'maytapi_whatsapp': 1,\n",
       " 'weed_strain': 0,\n",
       " 'jet_set_radio_api': 1,\n",
       " 'currency_converter_v3': 0,\n",
       " 'demo_project_v2': 1}"
      ]
     },
     "execution_count": 29,
     "metadata": {},
     "output_type": "execute_result"
    }
   ],
   "source": [
    "count_0 = sum(value in [0] for value in oracle.tbl.values())\n",
    "count_1 = sum(value in [1] for value in oracle.tbl.values())\n",
    "print(count_0, count_1)\n",
    "oracle.tbl"
   ]
  },
  {
   "cell_type": "code",
   "execution_count": 30,
   "metadata": {},
   "outputs": [
    {
     "data": {
      "text/plain": [
       "1582"
      ]
     },
     "execution_count": 30,
     "metadata": {},
     "output_type": "execute_result"
    }
   ],
   "source": [
    "len(dataloader.data.keys())"
   ]
  },
  {
   "cell_type": "code",
   "execution_count": null,
   "metadata": {},
   "outputs": [],
   "source": []
  }
 ],
 "metadata": {
  "kernelspec": {
   "display_name": "sglang_env",
   "language": "python",
   "name": "python3"
  },
  "language_info": {
   "codemirror_mode": {
    "name": "ipython",
    "version": 3
   },
   "file_extension": ".py",
   "mimetype": "text/x-python",
   "name": "python",
   "nbconvert_exporter": "python",
   "pygments_lexer": "ipython3",
   "version": "3.9.18"
  }
 },
 "nbformat": 4,
 "nbformat_minor": 2
}
