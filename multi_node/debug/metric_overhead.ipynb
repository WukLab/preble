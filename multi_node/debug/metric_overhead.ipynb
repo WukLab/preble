{
 "cells": [
  {
   "cell_type": "code",
   "execution_count": 16,
   "metadata": {},
   "outputs": [],
   "source": [
    "import json\n",
    "import numpy as np\n",
    "import matplotlib.pyplot as plt"
   ]
  },
  {
   "cell_type": "code",
   "execution_count": 17,
   "metadata": {},
   "outputs": [
    {
     "name": "stdout",
     "output_type": "stream",
     "text": [
      "Index with max overhead: 291 b50497f4ebd840f8b146caf7e7e4e375\n",
      "Value with max overhead: 1.7439680099487305\n"
     ]
    }
   ],
   "source": [
    "file_name = '/mnt/ssd1/alm-os/sglang_multi_model/fast_slow_metric_DataParallelRuntimeSelectionPolicy.CUSTOM_CustomPolicyType.LPM_200_0.2_4096_100.json'\n",
    "with open(file_name, 'r') as file:\n",
    "    data = json.load(file)\n",
    "\n",
    "# Extract overhead values\n",
    "overhead_values = [entry['overhead'] for entry in data]\n",
    "max_index = np.argmax(overhead_values)\n",
    "max_value = overhead_values[max_index]\n",
    "print(\"Index with max overhead:\", max_index, data[max_index]['rid'])\n",
    "print(\"Value with max overhead:\", max_value)"
   ]
  },
  {
   "cell_type": "code",
   "execution_count": 18,
   "metadata": {},
   "outputs": [
    {
     "data": {
      "text/plain": [
       "[{'waiting_queue_len': 67.66666666666667,\n",
       "  'running_req_len': 0.0,\n",
       "  'prefix_match_len': 6,\n",
       "  'token_kv_available_size': 34947,\n",
       "  'evicatable_size': 16401,\n",
       "  'tree_cache_metrics_hit': 3.204e-06,\n",
       "  'tree_cache_metrics_total': 2.0073e-05,\n",
       "  'input_len': 1950,\n",
       "  'total_radix_cache_processing_time': 0.00014448165893554688,\n",
       "  'total_internal_request_time': 1.6846246719360352,\n",
       "  'queue_processing_time': 0.5297977924346924,\n",
       "  'tokenization_time': 0.027485370635986328,\n",
       "  'return_time': 4.4345855712890625e-05,\n",
       "  'request_processing_time': 4.100799560546875e-05,\n",
       "  'routing_time': 5.4836273193359375e-06,\n",
       "  'waiting_time': 1.6570475101470947,\n",
       "  'inner_router_time': 0.00015163421630859375,\n",
       "  'tokenizer_manager_waiting_time': 1.1248486042022705,\n",
       "  'manager_tokenizer_waiting_time': 0.5297925472259521,\n",
       "  'manager_recv_time': 1.1247856616973877},\n",
       " {'waiting_queue_len': 51.0,\n",
       "  'running_req_len': 0.0,\n",
       "  'prefix_match_len': 5,\n",
       "  'token_kv_available_size': 43002,\n",
       "  'evicatable_size': 8346,\n",
       "  'tree_cache_metrics_hit': 1.2e-08,\n",
       "  'tree_cache_metrics_total': 8.363e-06,\n",
       "  'input_len': 1950,\n",
       "  'total_radix_cache_processing_time': 0.00016736984252929688,\n",
       "  'total_internal_request_time': 1.0728256702423096,\n",
       "  'queue_processing_time': 0.011252403259277344,\n",
       "  'tokenization_time': 0.015841960906982422,\n",
       "  'return_time': 2.6702880859375e-05,\n",
       "  'request_processing_time': 4.4345855712890625e-05,\n",
       "  'routing_time': 9.298324584960938e-06,\n",
       "  'waiting_time': 1.0569024085998535,\n",
       "  'inner_router_time': 0.00017523765563964844,\n",
       "  'tokenizer_manager_waiting_time': 1.045410394668579,\n",
       "  'manager_tokenizer_waiting_time': 0.011246442794799805,\n",
       "  'manager_recv_time': 1.045346975326538}]"
      ]
     },
     "execution_count": 18,
     "metadata": {},
     "output_type": "execute_result"
    }
   ],
   "source": [
    "data[max_index]['metrics']"
   ]
  },
  {
   "cell_type": "code",
   "execution_count": null,
   "metadata": {},
   "outputs": [],
   "source": []
  }
 ],
 "metadata": {
  "kernelspec": {
   "display_name": "Python 3",
   "language": "python",
   "name": "python3"
  },
  "language_info": {
   "codemirror_mode": {
    "name": "ipython",
    "version": 3
   },
   "file_extension": ".py",
   "mimetype": "text/x-python",
   "name": "python",
   "nbconvert_exporter": "python",
   "pygments_lexer": "ipython3",
   "version": "3.10.13"
  }
 },
 "nbformat": 4,
 "nbformat_minor": 2
}
