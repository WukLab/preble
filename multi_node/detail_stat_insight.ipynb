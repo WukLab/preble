{
 "cells": [
  {
   "cell_type": "code",
   "execution_count": 2,
   "metadata": {},
   "outputs": [],
   "source": [
    "import json\n",
    "import numpy as np\n",
    "import matplotlib.pyplot as plt\n",
    "import seaborn as sns\n",
    "\n",
    "from dataclasses import field, asdict, dataclass\n",
    "from typing import List\n",
    "from benchmarks.benchmark_utils import RequestFuncOutput\n",
    "from benchmarks.benchmark_workload_gen import *"
   ]
  },
  {
   "cell_type": "code",
   "execution_count": 3,
   "metadata": {},
   "outputs": [],
   "source": [
    "def retrive_request_outputs(path):\n",
    "    with open(path, 'r') as file:\n",
    "        data = json.load(file)\n",
    "        outputs = [RequestFuncOutput(**d) for d in data]\n",
    "    return outputs"
   ]
  },
  {
   "cell_type": "code",
   "execution_count": 24,
   "metadata": {},
   "outputs": [],
   "source": [
    "def lat_tpot_ttft(outputs: List[RequestFuncOutput], match = None, plot=False):\n",
    "    if not match:\n",
    "        match = lambda o: True\n",
    "    outputs = [o for o in outputs if match(o)]\n",
    "    if not outputs:\n",
    "        print('No outputs to analyze')\n",
    "        return\n",
    "    lats = [o.request_latency for o in outputs if o.request_latency]\n",
    "    tpots = [o.tpot for o in outputs if o.tpot]\n",
    "    ttfts = [o.ttft for o in outputs if o.ttft]\n",
    "    lat_p50, lat_p90, lat_p99 = np.percentile(lats, [50, 90, 99], method='nearest')\n",
    "    tpot_p50, tpot_p90, tpot_p99 = np.percentile(tpots, [50, 90, 99], method='nearest')\n",
    "    ttft_p50, ttft_p90, ttft_p99 = np.percentile(ttfts, [50, 90, 99], method='nearest')\n",
    "    \n",
    "    print(f\"Num finished: {len([o for o in outputs if o.success])}\")\n",
    "    print(f'Latency: p50={lat_p50:.2f}, p90={lat_p90:.2f}, p99={lat_p99:.2f}')\n",
    "    print(f'TPOT: p50={tpot_p50:.2f}, p90={tpot_p90:.2f}, p99={tpot_p99:.2f}')\n",
    "    print(f'TTFT: p50={ttft_p50:.2f}, p90={ttft_p90:.2f}, p99={ttft_p99:.2f}')\n",
    "\n",
    "    if plot:\n",
    "        fig, axs = plt.subplots(1,3, figsize=(16, 4))\n",
    "        sns.kdeplot(x=lats,  ax=axs[0], cumulative=True).set_title('Latency')\n",
    "        sns.kdeplot(x=tpots, ax=axs[1], cumulative=True).set_title('TPOT')\n",
    "        sns.kdeplot(x=ttfts, ax=axs[2], cumulative=True).set_title('TTFT')\n",
    "    \n",
    "def ttft_slo(outputs, slo):\n",
    "    ttfts = [o.ttft for o in outputs if o.ttft]\n",
    "    slo_ttfts = [1 for ttft in ttfts if ttft <= slo]\n",
    "    return sum(slo_ttfts) / len(ttfts)\n",
    "\n",
    "def windowed_metric(start, end, outputs: List[RequestFuncOutput], exp_time, match = None):\n",
    "    if not match:\n",
    "        match = lambda o: True\n",
    "    within_window = [o for o in outputs if o.send_out_time >= start and o.send_out_time <= end and match(o)]\n",
    "    lats = [o.request_latency if o.success else exp_time - o.send_out_time for o in within_window]\n",
    "    tpots = [o.tpot for o in within_window if o.tpot]\n",
    "    ttfts = [o.ttft if o.ttft else exp_time - o.send_out_time for o in within_window]\n",
    "    lat_p50, lat_p90, lat_p99 = np.percentile(lats, [50, 90, 99], method='nearest')\n",
    "    tpot_p50, tpot_p90, tpot_p99 = np.percentile(tpots, [50, 90, 99], method='nearest')\n",
    "    ttft_p50, ttft_p90, ttft_p99 = np.percentile(ttfts, [50, 90, 99], method='nearest')\n",
    "    avg_lat, avg_tpot, avg_ttft = np.mean(lats), np.mean(tpots), np.mean(ttfts)\n",
    "    \n",
    "    print('-'*20)\n",
    "    print(f\"Requests within window: {len(within_window)}\")\n",
    "    print(f\"Num finished: {len([o for o in within_window if o.success])}\")\n",
    "    print(f'Latency: p50={lat_p50:.2f}, p90={lat_p90:.2f}, p99={lat_p99:.2f}')\n",
    "    print(f'TPOT: p50={tpot_p50:.2f}, p90={tpot_p90:.2f}, p99={tpot_p99:.2f}')\n",
    "    print(f'TTFT: p50={ttft_p50:.2f}, p90={ttft_p90:.2f}, p99={ttft_p99:.2f}')\n",
    "    print(f'Avg Latency: {avg_lat:.2f}, Avg TPOT: {avg_tpot:.2f}, Avg TTFT: {avg_ttft:.2f}')\n",
    "    print('-'*20)\n",
    "\n",
    "def runtime_selections(outputs: List[RequestFuncOutput], match = None, plot=False):\n",
    "    if not match:\n",
    "        match = lambda o: True\n",
    "    outputs = [o for o in outputs if match(o)]\n",
    "    if not outputs:\n",
    "        print('No outputs to analyze')\n",
    "        return\n",
    "    runtime_load = {}\n",
    "    runtime_prefix = {}\n",
    "    prefix_cnt = defaultdict(int)\n",
    "    for o in outputs:\n",
    "        if o.runtime_selected not in runtime_load:\n",
    "            runtime_load[o.runtime_selected] = [0, 0, 0, 0]\n",
    "        if o.runtime_selected not in runtime_prefix:\n",
    "            runtime_prefix[o.runtime_selected] = set()\n",
    "        prefix_index = WorkloadPrefixDataLoader.get_prefix_index(o)\n",
    "        if prefix_index is None:\n",
    "            if o.prompt_len < 7000:\n",
    "                runtime_load[o.runtime_selected][2] += 1\n",
    "            else:\n",
    "                runtime_load[o.runtime_selected][3] += 1\n",
    "        else:\n",
    "            if o.prompt_len < 7000:\n",
    "                runtime_load[o.runtime_selected][0] += 1\n",
    "            else:\n",
    "                runtime_load[o.runtime_selected][1] += 1\n",
    "            runtime_prefix[o.runtime_selected].add(prefix_index)\n",
    "            prefix_cnt[prefix_index] += 1\n",
    "    print('gpu: [hot 3K, hot 7K, cold 3K, cold 7K], sum(load), sum(hot*ctx), sum(cold*ctx)')\n",
    "    for idx, load in runtime_load.items():\n",
    "        print(f'GPU {idx}: {load}, {sum(load)}, {load[0]*3 + load[1]*7}, {load[2]*3 + load[3]*7}')\n",
    "    # for i in range(len(runtime_prefix)):\n",
    "    #     others = set.union(*[runtime_prefix[j] for j in range(len(runtime_prefix)) if j != i])\n",
    "    #     print(f'is prefix in gpu {i} unique: {len(runtime_prefix[i].intersection(others)) == 0}')\n",
    "    # print(runtime_prefix)\n",
    "    # print(sorted(prefix_cnt.items()))"
   ]
  },
  {
   "cell_type": "code",
   "execution_count": 25,
   "metadata": {},
   "outputs": [],
   "source": [
    "is_cold = lambda o: not WorkloadPrefixDataLoader.is_hot(o)\n",
    "def is_on_gpu(ks):\n",
    "    def match(o: RequestFuncOutput, ks):\n",
    "        return o.runtime_selected in ks\n",
    "    return lambda o: match(o, ks)\n",
    "def is_workload(i):\n",
    "    def math(o: RequestFuncOutput, i):\n",
    "        prefix_pattern = WorkloadPrefixDataLoader.get_prefix_index(o)\n",
    "        return prefix_pattern is not None and prefix_pattern == i\n",
    "    return lambda o: math(o, i)"
   ]
  },
  {
   "cell_type": "code",
   "execution_count": 31,
   "metadata": {},
   "outputs": [
    {
     "name": "stdout",
     "output_type": "stream",
     "text": [
      "Num finished: 2399\n",
      "Latency: p50=7.74, p90=26.71, p99=41.16\n",
      "TPOT: p50=0.11, p90=0.32, p99=0.44\n",
      "TTFT: p50=1.07, p90=8.11, p99=17.14\n",
      "gpu: [hot 3K, hot 7K, cold 3K, cold 7K], sum(load), sum(hot*ctx), sum(cold*ctx)\n",
      "GPU 2: [0, 429, 0, 171], 600, 3003, 1197\n",
      "GPU 0: [0, 429, 0, 170], 599, 3003, 1190\n",
      "GPU 1: [0, 429, 0, 171], 600, 3003, 1197\n",
      "GPU 3: [0, 429, 0, 171], 600, 3003, 1197\n"
     ]
    }
   ],
   "source": [
    "sim_oracle_fcfs = retrive_request_outputs('/mnt/ssd1/alm-os/sglang_multi_model/perf_logs/rebalancer_hc/4r_react_40_0.285_2400_6_example_16_only_fcfsmpq_minload_2_highload_1.15_steal_even_exist/mistralai-Mistral-7B-v0.1_40_0.285_2400_6_DataParallelRuntimeSelectionPolicy.CUSTOM-CustomPolicyType.ORACLE:_inf.json')\n",
    "lat_tpot_ttft(sim_oracle_fcfs)\n",
    "# lat_tpot_ttft(sim_oracle_fcfs, WorkloadPrefixDataLoader.is_hot)\n",
    "runtime_selections(sim_oracle_fcfs)"
   ]
  },
  {
   "cell_type": "code",
   "execution_count": 32,
   "metadata": {},
   "outputs": [
    {
     "name": "stdout",
     "output_type": "stream",
     "text": [
      "Num finished: 2399\n",
      "Latency: p50=17.25, p90=28.86, p99=40.70\n",
      "TPOT: p50=0.21, p90=0.36, p99=0.45\n",
      "TTFT: p50=1.78, p90=11.97, p99=18.66\n",
      "gpu: [hot 3K, hot 7K, cold 3K, cold 7K], sum(load), sum(hot*ctx), sum(cold*ctx)\n",
      "GPU 0: [0, 602, 0, 152], 754, 4214, 1064\n",
      "GPU 1: [0, 556, 0, 155], 711, 3892, 1085\n",
      "GPU 2: [0, 257, 0, 201], 458, 1799, 1407\n",
      "GPU 3: [0, 301, 0, 175], 476, 2107, 1225\n",
      "Num finished: 754\n",
      "Latency: p50=19.31, p90=27.62, p99=36.72\n",
      "TPOT: p50=0.25, p90=0.36, p99=0.44\n",
      "TTFT: p50=1.73, p90=10.89, p99=17.90\n",
      "Num finished: 711\n",
      "Latency: p50=18.88, p90=30.10, p99=40.86\n",
      "TPOT: p50=0.24, p90=0.38, p99=0.47\n",
      "TTFT: p50=1.98, p90=12.26, p99=20.04\n",
      "Num finished: 458\n",
      "Latency: p50=14.98, p90=30.37, p99=41.94\n",
      "TPOT: p50=0.16, p90=0.39, p99=0.45\n",
      "TTFT: p50=2.20, p90=14.54, p99=20.69\n",
      "Num finished: 476\n",
      "Latency: p50=9.86, p90=26.30, p99=41.55\n",
      "TPOT: p50=0.10, p90=0.29, p99=0.41\n",
      "TTFT: p50=1.35, p90=9.34, p99=17.21\n"
     ]
    }
   ],
   "source": [
    "sim_oracle = retrive_request_outputs('/mnt/ssd1/alm-os/sglang_multi_model/perf_logs/rebalancer_hc/4r_react_40_0.285_2400_6_example_16_only_fcfsmpq_minload_2_highload_1.15_steal_even_exist/mistralai-Mistral-7B-v0.1_40_0.285_2400_6_DataParallelRuntimeSelectionPolicy.CUSTOM-CustomPolicyType.GlobalSchedulerWithoutRebalancing:without_rebalancing_inf.json')\n",
    "lat_tpot_ttft(sim_oracle)\n",
    "runtime_selections(sim_oracle)\n",
    "lat_tpot_ttft(sim_oracle, is_on_gpu([0]))\n",
    "lat_tpot_ttft(sim_oracle, is_on_gpu([1]))\n",
    "lat_tpot_ttft(sim_oracle, is_on_gpu([2]))\n",
    "lat_tpot_ttft(sim_oracle, is_on_gpu([3]))\n",
    "# lat_tpot_ttft(sim_oracle, WorkloadPrefixDataLoader.is_hot)"
   ]
  },
  {
   "cell_type": "code",
   "execution_count": 36,
   "metadata": {},
   "outputs": [
    {
     "name": "stdout",
     "output_type": "stream",
     "text": [
      "Num finished: 2399\n",
      "Latency: p50=15.87, p90=55.21, p99=81.78\n",
      "TPOT: p50=0.12, p90=0.38, p99=0.47\n",
      "TTFT: p50=4.23, p90=40.44, p99=64.95\n",
      "gpu: [hot 3K, hot 7K, cold 3K, cold 7K], sum(load), sum(hot*ctx), sum(cold*ctx)\n",
      "GPU 0: [0, 602, 0, 15], 617, 4214, 105\n",
      "GPU 1: [0, 556, 0, 40], 596, 3892, 280\n",
      "GPU 2: [0, 257, 0, 336], 593, 1799, 2352\n",
      "GPU 3: [0, 301, 0, 292], 593, 2107, 2044\n",
      "Num finished: 617\n",
      "Latency: p50=2.93, p90=19.48, p99=35.78\n",
      "TPOT: p50=0.04, p90=0.18, p99=0.40\n",
      "TTFT: p50=0.21, p90=4.84, p99=18.06\n",
      "Num finished: 596\n",
      "Latency: p50=3.06, p90=21.44, p99=40.65\n",
      "TPOT: p50=0.04, p90=0.22, p99=0.38\n",
      "TTFT: p50=0.25, p90=6.75, p99=18.25\n",
      "Num finished: 593\n",
      "Latency: p50=41.94, p90=75.70, p99=87.46\n",
      "TPOT: p50=0.25, p90=0.39, p99=0.50\n",
      "TTFT: p50=23.71, p90=56.87, p99=67.99\n",
      "Num finished: 593\n",
      "Latency: p50=29.58, p90=49.19, p99=61.79\n",
      "TPOT: p50=0.25, p90=0.42, p99=0.54\n",
      "TTFT: p50=12.13, p90=31.43, p99=39.48\n"
     ]
    }
   ],
   "source": [
    "sim_oracle = retrive_request_outputs('/mnt/ssd1/alm-os/sglang_multi_model/perf_logs/rebalancer_hc/4r_react_40_0.285_2400_6_example_16_only_fcfs_minload_2_highload_1.3_steal_even_exist/mistralai-Mistral-7B-v0.1_40_0.285_2400_6_DataParallelRuntimeSelectionPolicy.CUSTOM-CustomPolicyType.GlobalSchedulerWithoutRebalancing:without_rebalancing_inf.json')\n",
    "lat_tpot_ttft(sim_oracle)\n",
    "runtime_selections(sim_oracle)\n",
    "lat_tpot_ttft(sim_oracle, is_on_gpu([0]))\n",
    "lat_tpot_ttft(sim_oracle, is_on_gpu([1]))\n",
    "lat_tpot_ttft(sim_oracle, is_on_gpu([2]))\n",
    "lat_tpot_ttft(sim_oracle, is_on_gpu([3]))\n",
    "# lat_tpot_ttft(sim_oracle, WorkloadPrefixDataLoader.is_hot)"
   ]
  },
  {
   "cell_type": "code",
   "execution_count": 35,
   "metadata": {},
   "outputs": [
    {
     "name": "stdout",
     "output_type": "stream",
     "text": [
      "Num finished: 2399\n",
      "Latency: p50=15.87, p90=55.21, p99=81.78\n",
      "TPOT: p50=0.12, p90=0.38, p99=0.47\n",
      "TTFT: p50=4.23, p90=40.44, p99=64.95\n",
      "gpu: [hot 3K, hot 7K, cold 3K, cold 7K], sum(load), sum(hot*ctx), sum(cold*ctx)\n",
      "GPU 0: [0, 602, 0, 15], 617, 4214, 105\n",
      "GPU 1: [0, 556, 0, 40], 596, 3892, 280\n",
      "GPU 2: [0, 257, 0, 336], 593, 1799, 2352\n",
      "GPU 3: [0, 301, 0, 292], 593, 2107, 2044\n",
      "Num finished: 617\n",
      "Latency: p50=2.93, p90=19.48, p99=35.78\n",
      "TPOT: p50=0.04, p90=0.18, p99=0.40\n",
      "TTFT: p50=0.21, p90=4.84, p99=18.06\n",
      "Num finished: 596\n",
      "Latency: p50=3.06, p90=21.44, p99=40.65\n",
      "TPOT: p50=0.04, p90=0.22, p99=0.38\n",
      "TTFT: p50=0.25, p90=6.75, p99=18.25\n",
      "Num finished: 593\n",
      "Latency: p50=41.94, p90=75.70, p99=87.46\n",
      "TPOT: p50=0.25, p90=0.39, p99=0.50\n",
      "TTFT: p50=23.71, p90=56.87, p99=67.99\n",
      "Num finished: 593\n",
      "Latency: p50=29.58, p90=49.19, p99=61.79\n",
      "TPOT: p50=0.25, p90=0.42, p99=0.54\n",
      "TTFT: p50=12.13, p90=31.43, p99=39.48\n"
     ]
    }
   ],
   "source": [
    "sim_oracle = retrive_request_outputs('/mnt/ssd1/alm-os/sglang_multi_model/perf_logs/rebalancer_hc/4r_react_40_0.285_2400_6_example_16_only_fcfs_minload_2_highload_1.3_steal_even_exist/mistralai-Mistral-7B-v0.1_40_0.285_2400_6_DataParallelRuntimeSelectionPolicy.CUSTOM-CustomPolicyType.GlobalSchedulerWithoutRebalancing:without_rebalancing_inf.json')\n",
    "lat_tpot_ttft(sim_oracle)\n",
    "runtime_selections(sim_oracle)\n",
    "lat_tpot_ttft(sim_oracle, is_on_gpu([0]))\n",
    "lat_tpot_ttft(sim_oracle, is_on_gpu([1]))\n",
    "lat_tpot_ttft(sim_oracle, is_on_gpu([2]))\n",
    "lat_tpot_ttft(sim_oracle, is_on_gpu([3]))\n",
    "# lat_tpot_ttft(sim_oracle, WorkloadPrefixDataLoader.is_hot)"
   ]
  },
  {
   "cell_type": "code",
   "execution_count": 30,
   "metadata": {},
   "outputs": [
    {
     "name": "stdout",
     "output_type": "stream",
     "text": [
      "Num finished: 2399\n",
      "Latency: p50=13.60, p90=32.45, p99=46.72\n",
      "TPOT: p50=0.16, p90=0.36, p99=0.48\n",
      "TTFT: p50=1.34, p90=14.13, p99=29.11\n",
      "gpu: [hot 3K, hot 7K, cold 3K, cold 7K], sum(load), sum(hot*ctx), sum(cold*ctx)\n",
      "GPU 0: [0, 429, 0, 174], 603, 3003, 1218\n",
      "GPU 1: [0, 424, 0, 166], 590, 2968, 1162\n",
      "GPU 2: [0, 418, 0, 175], 593, 2926, 1225\n",
      "GPU 3: [0, 445, 0, 168], 613, 3115, 1176\n",
      "Num finished: 603\n",
      "Latency: p50=14.61, p90=34.64, p99=46.50\n",
      "TPOT: p50=0.17, p90=0.38, p99=0.56\n",
      "TTFT: p50=1.97, p90=14.91, p99=29.11\n",
      "Num finished: 590\n",
      "Latency: p50=15.93, p90=38.34, p99=55.40\n",
      "TPOT: p50=0.19, p90=0.38, p99=0.50\n",
      "TTFT: p50=1.46, p90=23.92, p99=32.82\n",
      "Num finished: 593\n",
      "Latency: p50=9.98, p90=22.75, p99=40.90\n",
      "TPOT: p50=0.13, p90=0.29, p99=0.44\n",
      "TTFT: p50=1.13, p90=7.88, p99=15.77\n",
      "Num finished: 613\n",
      "Latency: p50=15.25, p90=28.30, p99=40.13\n",
      "TPOT: p50=0.18, p90=0.36, p99=0.45\n",
      "TTFT: p50=1.27, p90=9.39, p99=16.12\n"
     ]
    }
   ],
   "source": [
    "sim_oracle = retrive_request_outputs('/mnt/ssd1/alm-os/sglang_multi_model/perf_logs/rebalancer_hc/4r_react_40_0.285_2400_6_example_16_only_fcfs_minload_2_highload_1.15_steal_even_exist/mistralai-Mistral-7B-v0.1_40_0.285_2400_6_DataParallelRuntimeSelectionPolicy.CUSTOM-CustomPolicyType.GlobalScheduler:add_hot_cold_inf.json')\n",
    "lat_tpot_ttft(sim_oracle)\n",
    "runtime_selections(sim_oracle)\n",
    "lat_tpot_ttft(sim_oracle, is_on_gpu([0]))\n",
    "lat_tpot_ttft(sim_oracle, is_on_gpu([1]))\n",
    "lat_tpot_ttft(sim_oracle, is_on_gpu([2]))\n",
    "lat_tpot_ttft(sim_oracle, is_on_gpu([3]))\n",
    "# lat_tpot_ttft(sim_oracle, WorkloadPrefixDataLoader.is_hot)"
   ]
  },
  {
   "cell_type": "code",
   "execution_count": null,
   "metadata": {},
   "outputs": [],
   "source": []
  }
 ],
 "metadata": {
  "kernelspec": {
   "display_name": "sg_env",
   "language": "python",
   "name": "python3"
  },
  "language_info": {
   "codemirror_mode": {
    "name": "ipython",
    "version": 3
   },
   "file_extension": ".py",
   "mimetype": "text/x-python",
   "name": "python",
   "nbconvert_exporter": "python",
   "pygments_lexer": "ipython3",
   "version": "3.10.13"
  }
 },
 "nbformat": 4,
 "nbformat_minor": 2
}
