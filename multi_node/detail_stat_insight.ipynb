{
 "cells": [
  {
   "cell_type": "code",
   "execution_count": 7,
   "metadata": {},
   "outputs": [],
   "source": [
    "import json\n",
    "import numpy as np\n",
    "import matplotlib.pyplot as plt\n",
    "import seaborn as sns\n",
    "\n",
    "from dataclasses import field, asdict, dataclass\n",
    "from typing import List\n",
    "from benchmarks.benchmark_utils import RequestFuncOutput\n",
    "from benchmarks.benchmark_workload_gen import *"
   ]
  },
  {
   "cell_type": "code",
   "execution_count": 8,
   "metadata": {},
   "outputs": [],
   "source": [
    "def retrive_request_outputs(path):\n",
    "    with open(path, 'r') as file:\n",
    "        data = json.load(file)\n",
    "        outputs = [RequestFuncOutput(**d) for d in data]\n",
    "    return outputs"
   ]
  },
  {
   "cell_type": "code",
   "execution_count": 9,
   "metadata": {},
   "outputs": [],
   "source": [
    "def lat_tpot_ttft(outputs: List[RequestFuncOutput], match = None, plot=False):\n",
    "    if not match:\n",
    "        match = lambda o: True\n",
    "    outputs = [o for o in outputs if match(o)]\n",
    "    if not outputs:\n",
    "        print('No outputs to analyze')\n",
    "        return\n",
    "    lats = [o.request_latency for o in outputs if o.request_latency]\n",
    "    tpots = [o.tpot for o in outputs if o.tpot]\n",
    "    ttfts = [o.ttft for o in outputs if o.ttft]\n",
    "    lat_p50, lat_p90, lat_p99 = np.percentile(lats, [50, 90, 99], method='nearest')\n",
    "    tpot_p50, tpot_p90, tpot_p99 = np.percentile(tpots, [50, 90, 99], method='nearest')\n",
    "    ttft_p50, ttft_p90, ttft_p99 = np.percentile(ttfts, [50, 90, 99], method='nearest')\n",
    "    \n",
    "    print(f\"Num finished: {len([o for o in outputs if o.success])}\")\n",
    "    print(f'Latency: p50={lat_p50:.2f}, p90={lat_p90:.2f}, p99={lat_p99:.2f}')\n",
    "    print(f'TPOT: p50={tpot_p50:.2f}, p90={tpot_p90:.2f}, p99={tpot_p99:.2f}')\n",
    "    print(f'TTFT: p50={ttft_p50:.2f}, p90={ttft_p90:.2f}, p99={ttft_p99:.2f}')\n",
    "\n",
    "    if plot:\n",
    "        fig, axs = plt.subplots(1,3, figsize=(16, 4))\n",
    "        sns.kdeplot(x=lats,  ax=axs[0], cumulative=True).set_title('Latency')\n",
    "        sns.kdeplot(x=tpots, ax=axs[1], cumulative=True).set_title('TPOT')\n",
    "        sns.kdeplot(x=ttfts, ax=axs[2], cumulative=True).set_title('TTFT')\n",
    "    \n",
    "def ttft_slo(outputs, slo):\n",
    "    ttfts = [o.ttft for o in outputs if o.ttft]\n",
    "    slo_ttfts = [1 for ttft in ttfts if ttft <= slo]\n",
    "    return sum(slo_ttfts) / len(ttfts)\n",
    "\n",
    "def windowed_metric(start, end, outputs: List[RequestFuncOutput], exp_time, match = None):\n",
    "    if not match:\n",
    "        match = lambda o: True\n",
    "    within_window = [o for o in outputs if o.send_out_time >= start and o.send_out_time <= end and match(o)]\n",
    "    lats = [o.request_latency if o.success else exp_time - o.send_out_time for o in within_window]\n",
    "    tpots = [o.tpot for o in within_window if o.tpot]\n",
    "    ttfts = [o.ttft if o.ttft else exp_time - o.send_out_time for o in within_window]\n",
    "    lat_p50, lat_p90, lat_p99 = np.percentile(lats, [50, 90, 99], method='nearest')\n",
    "    tpot_p50, tpot_p90, tpot_p99 = np.percentile(tpots, [50, 90, 99], method='nearest')\n",
    "    ttft_p50, ttft_p90, ttft_p99 = np.percentile(ttfts, [50, 90, 99], method='nearest')\n",
    "    avg_lat, avg_tpot, avg_ttft = np.mean(lats), np.mean(tpots), np.mean(ttfts)\n",
    "    \n",
    "    print('-'*20)\n",
    "    print(f\"Requests within window: {len(within_window)}\")\n",
    "    print(f\"Num finished: {len([o for o in within_window if o.success])}\")\n",
    "    print(f'Latency: p50={lat_p50:.2f}, p90={lat_p90:.2f}, p99={lat_p99:.2f}')\n",
    "    print(f'TPOT: p50={tpot_p50:.2f}, p90={tpot_p90:.2f}, p99={tpot_p99:.2f}')\n",
    "    print(f'TTFT: p50={ttft_p50:.2f}, p90={ttft_p90:.2f}, p99={ttft_p99:.2f}')\n",
    "    print(f'Avg Latency: {avg_lat:.2f}, Avg TPOT: {avg_tpot:.2f}, Avg TTFT: {avg_ttft:.2f}')\n",
    "    print('-'*20)\n",
    "\n",
    "def runtime_selections(outputs: List[RequestFuncOutput], match = None, plot=False):\n",
    "    if not match:\n",
    "        match = lambda o: True\n",
    "    outputs = [o for o in outputs if match(o)]\n",
    "    if not outputs:\n",
    "        print('No outputs to analyze')\n",
    "        return\n",
    "    runtime_load = {}\n",
    "    runtime_prefix = {}\n",
    "    prefix_cnt = defaultdict(int)\n",
    "    for o in outputs:\n",
    "        if o.runtime_selected not in runtime_load:\n",
    "            runtime_load[o.runtime_selected] = [0, 0, 0, 0]\n",
    "        if o.runtime_selected not in runtime_prefix:\n",
    "            runtime_prefix[o.runtime_selected] = set()\n",
    "        prefix_index = WorkloadPrefixDataLoader.get_prefix_index(o)\n",
    "        if prefix_index is None:\n",
    "            if o.prompt_len < 7000:\n",
    "                runtime_load[o.runtime_selected][2] += 1\n",
    "            else:\n",
    "                runtime_load[o.runtime_selected][3] += 1\n",
    "        else:\n",
    "            if o.prompt_len < 7000:\n",
    "                runtime_load[o.runtime_selected][0] += 1\n",
    "            else:\n",
    "                runtime_load[o.runtime_selected][1] += 1\n",
    "            runtime_prefix[o.runtime_selected].add(prefix_index)\n",
    "            prefix_cnt[prefix_index] += 1\n",
    "    print('gpu: [hot 3K, hot 7K, cold 3K, cold 7K], sum(load)')\n",
    "    for idx, load in runtime_load.items():\n",
    "        print(f'GPU {idx}: {load}, {sum(load)}')\n",
    "    for i in range(len(runtime_prefix)):\n",
    "        others = set.union(*[runtime_prefix[j] for j in range(len(runtime_prefix)) if j != i])\n",
    "        print(f'is prefix in gpu {i} unique: {len(runtime_prefix[i].intersection(others)) == 0}')\n",
    "    # print(runtime_prefix)\n",
    "    # print(sorted(prefix_cnt.items()))"
   ]
  },
  {
   "cell_type": "code",
   "execution_count": 10,
   "metadata": {},
   "outputs": [],
   "source": [
    "is_cold = lambda o: not WorkloadPrefixDataLoader.is_hot(o)\n",
    "def is_on_gpu(ks):\n",
    "    def match(o: RequestFuncOutput, ks):\n",
    "        return o.runtime_selected in ks\n",
    "    return lambda o: match(o, ks)\n",
    "def is_workload(i):\n",
    "    def math(o: RequestFuncOutput, i):\n",
    "        prefix_pattern = WorkloadPrefixDataLoader.get_prefix_index(o)\n",
    "        return prefix_pattern is not None and prefix_pattern == i\n",
    "    return lambda o: math(o, i)"
   ]
  },
  {
   "cell_type": "code",
   "execution_count": 11,
   "metadata": {},
   "outputs": [
    {
     "name": "stdout",
     "output_type": "stream",
     "text": [
      "Num finished: 2698\n",
      "Latency: p50=10.53, p90=30.21, p99=44.76\n",
      "TPOT: p50=0.15, p90=0.37, p99=0.47\n",
      "TTFT: p50=1.08, p90=11.01, p99=20.62\n",
      "Num finished: 676\n",
      "Latency: p50=12.11, p90=34.39, p99=46.88\n",
      "TPOT: p50=0.16, p90=0.39, p99=0.55\n",
      "TTFT: p50=1.16, p90=13.37, p99=21.24\n",
      "Num finished: 674\n",
      "Latency: p50=9.90, p90=25.69, p99=43.36\n",
      "TPOT: p50=0.14, p90=0.30, p99=0.42\n",
      "TTFT: p50=0.88, p90=8.72, p99=19.57\n"
     ]
    }
   ],
   "source": [
    "sim_oracle_fcfs = retrive_request_outputs('/mnt/ssd1/alm-os/sglang_multi_model/hc_integration/4r_react_20_0.285_1350_9_[8,16]/mistralai-Mistral-7B-v0.1_40_0.285_2700_9_DataParallelRuntimeSelectionPolicy.CUSTOM-CustomPolicyType.ORACLE:_inf.json')\n",
    "lat_tpot_ttft(sim_oracle_fcfs)\n",
    "lat_tpot_ttft(sim_oracle_fcfs, is_on_gpu([0]))\n",
    "lat_tpot_ttft(sim_oracle_fcfs, is_on_gpu([3]))\n",
    "# lat_tpot_ttft(sim_oracle_fcfs, WorkloadPrefixDataLoader.is_hot)\n",
    "# runtime_selections(sim_oracle_fcfs)"
   ]
  },
  {
   "cell_type": "markdown",
   "metadata": {},
   "source": []
  },
  {
   "cell_type": "code",
   "execution_count": 13,
   "metadata": {},
   "outputs": [
    {
     "name": "stdout",
     "output_type": "stream",
     "text": [
      "Num finished: 2698\n",
      "Latency: p50=16.32, p90=30.44, p99=45.28\n",
      "TPOT: p50=0.19, p90=0.35, p99=0.43\n",
      "TTFT: p50=2.31, p90=12.78, p99=23.84\n",
      "gpu: [hot 3K, hot 7K, cold 3K, cold 7K], sum(load)\n",
      "GPU 0: [338, 193, 92, 94], 717\n",
      "GPU 1: [241, 241, 89, 92], 663\n",
      "GPU 2: [146, 192, 89, 97], 524\n",
      "GPU 3: [240, 339, 114, 101], 794\n",
      "is prefix in gpu 0 unique: True\n",
      "is prefix in gpu 1 unique: True\n",
      "is prefix in gpu 2 unique: True\n",
      "is prefix in gpu 3 unique: True\n",
      "Num finished: 717\n",
      "Latency: p50=13.27, p90=26.05, p99=43.70\n",
      "TPOT: p50=0.17, p90=0.33, p99=0.40\n",
      "TTFT: p50=1.72, p90=11.37, p99=21.04\n",
      "Num finished: 663\n",
      "Latency: p50=13.47, p90=25.75, p99=42.09\n",
      "TPOT: p50=0.14, p90=0.32, p99=0.40\n",
      "TTFT: p50=2.02, p90=9.14, p99=20.80\n",
      "Num finished: 524\n",
      "Latency: p50=12.10, p90=28.68, p99=45.35\n",
      "TPOT: p50=0.13, p90=0.33, p99=0.40\n",
      "TTFT: p50=2.27, p90=12.37, p99=21.91\n",
      "Num finished: 794\n",
      "Latency: p50=24.00, p90=35.18, p99=52.11\n",
      "TPOT: p50=0.29, p90=0.40, p99=0.44\n",
      "TTFT: p50=3.43, p90=15.30, p99=33.26\n"
     ]
    }
   ],
   "source": [
    "sim_oracle = retrive_request_outputs('/mnt/ssd1/alm-os/sglang_multi_model/logs/debug/mistralai-Mistral-7B-v0.1_40_0.285_2700_9_DataParallelRuntimeSelectionPolicy.CUSTOM-CustomPolicyType.HiostgramBasedRecompLoadWithEvictionV2:_inf.json')\n",
    "lat_tpot_ttft(sim_oracle)\n",
    "runtime_selections(sim_oracle)\n",
    "lat_tpot_ttft(sim_oracle, is_on_gpu([0]))\n",
    "lat_tpot_ttft(sim_oracle, is_on_gpu([1]))\n",
    "lat_tpot_ttft(sim_oracle, is_on_gpu([2]))\n",
    "lat_tpot_ttft(sim_oracle, is_on_gpu([3]))\n",
    "# lat_tpot_ttft(sim_oracle, WorkloadPrefixDataLoader.is_hot)"
   ]
  },
  {
   "cell_type": "code",
   "execution_count": 14,
   "metadata": {},
   "outputs": [
    {
     "name": "stdout",
     "output_type": "stream",
     "text": [
      "Num finished: 2698\n",
      "Latency: p50=14.42, p90=24.93, p99=37.78\n",
      "TPOT: p50=0.10, p90=0.13, p99=0.26\n",
      "TTFT: p50=7.36, p90=17.49, p99=29.14\n",
      "gpu: [hot 3K, hot 7K, cold 3K, cold 7K], sum(load)\n",
      "GPU 0: [242, 240, 91, 110], 683\n",
      "GPU 1: [337, 241, 103, 93], 774\n",
      "GPU 2: [194, 193, 90, 84], 561\n",
      "GPU 3: [192, 291, 100, 97], 680\n",
      "is prefix in gpu 0 unique: True\n",
      "is prefix in gpu 1 unique: True\n",
      "is prefix in gpu 2 unique: True\n",
      "is prefix in gpu 3 unique: True\n",
      "Num finished: 683\n",
      "Latency: p50=16.26, p90=30.72, p99=43.37\n",
      "TPOT: p50=0.10, p90=0.17, p99=0.26\n",
      "TTFT: p50=8.80, p90=22.26, p99=33.92\n",
      "Num finished: 774\n",
      "Latency: p50=15.40, p90=25.33, p99=35.52\n",
      "TPOT: p50=0.10, p90=0.16, p99=0.19\n",
      "TTFT: p50=7.80, p90=17.57, p99=25.07\n",
      "Num finished: 561\n",
      "Latency: p50=10.46, p90=20.19, p99=22.41\n",
      "TPOT: p50=0.09, p90=0.12, p99=0.18\n",
      "TTFT: p50=4.59, p90=13.73, p99=15.56\n",
      "Num finished: 680\n",
      "Latency: p50=14.56, p90=24.98, p99=34.76\n",
      "TPOT: p50=0.10, p90=0.12, p99=0.27\n",
      "TTFT: p50=7.45, p90=17.95, p99=27.77\n"
     ]
    }
   ],
   "source": [
    "sim_oracle = retrive_request_outputs('/mnt/ssd1/alm-os/sglang_multi_model/hc_integration/4r_react_20_0.285_1350_9_[8,16]_cp_512/mistralai-Mistral-7B-v0.1_40_0.285_2700_9_DataParallelRuntimeSelectionPolicy.CUSTOM-CustomPolicyType.HiostgramBasedRecompLoadWithEvictionV2:_inf.json')\n",
    "lat_tpot_ttft(sim_oracle)\n",
    "runtime_selections(sim_oracle)\n",
    "lat_tpot_ttft(sim_oracle, is_on_gpu([0]))\n",
    "lat_tpot_ttft(sim_oracle, is_on_gpu([1]))\n",
    "lat_tpot_ttft(sim_oracle, is_on_gpu([2]))\n",
    "lat_tpot_ttft(sim_oracle, is_on_gpu([3]))\n",
    "# lat_tpot_ttft(sim_oracle, WorkloadPrefixDataLoader.is_hot)"
   ]
  },
  {
   "cell_type": "code",
   "execution_count": null,
   "metadata": {},
   "outputs": [],
   "source": []
  }
 ],
 "metadata": {
  "kernelspec": {
   "display_name": "sg_env",
   "language": "python",
   "name": "python3"
  },
  "language_info": {
   "codemirror_mode": {
    "name": "ipython",
    "version": 3
   },
   "file_extension": ".py",
   "mimetype": "text/x-python",
   "name": "python",
   "nbconvert_exporter": "python",
   "pygments_lexer": "ipython3",
   "version": "3.10.13"
  }
 },
 "nbformat": 4,
 "nbformat_minor": 2
}
