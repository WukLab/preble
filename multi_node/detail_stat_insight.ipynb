{
 "cells": [
  {
   "cell_type": "code",
   "execution_count": 16,
   "metadata": {},
   "outputs": [],
   "source": [
    "import json\n",
    "import numpy as np\n",
    "import matplotlib.pyplot as plt\n",
    "import seaborn as sns\n",
    "\n",
    "from dataclasses import field, asdict, dataclass\n",
    "from typing import List\n",
    "from benchmarks.benchmark_utils import RequestFuncOutput\n",
    "from benchmarks.benchmark_workload_gen import *"
   ]
  },
  {
   "cell_type": "code",
   "execution_count": 17,
   "metadata": {},
   "outputs": [],
   "source": [
    "def retrive_request_outputs(path):\n",
    "    with open(path, 'r') as file:\n",
    "        data = json.load(file)\n",
    "        outputs = [RequestFuncOutput(**d) for d in data]\n",
    "    return outputs"
   ]
  },
  {
   "cell_type": "code",
   "execution_count": 21,
   "metadata": {},
   "outputs": [],
   "source": [
    "def lat_tpot_ttft(outputs: List[RequestFuncOutput], match = None, plot=False):\n",
    "    if not match:\n",
    "        match = lambda o: True\n",
    "    outputs = [o for o in outputs if match(o)]\n",
    "    if not outputs:\n",
    "        print('No outputs to analyze')\n",
    "        return\n",
    "    lats = [o.request_latency for o in outputs if o.request_latency]\n",
    "    tpots = [o.tpot for o in outputs if o.tpot]\n",
    "    ttfts = [o.ttft for o in outputs if o.ttft]\n",
    "    lat_p50, lat_p90, lat_p99 = np.percentile(lats, [50, 90, 99], method='nearest')\n",
    "    tpot_p50, tpot_p90, tpot_p99 = np.percentile(tpots, [50, 90, 99], method='nearest')\n",
    "    ttft_p50, ttft_p90, ttft_p99 = np.percentile(ttfts, [50, 90, 99], method='nearest')\n",
    "    \n",
    "    print(f\"Num finished: {len([o for o in outputs if o.success])}\")\n",
    "    print(f'Latency: p50={lat_p50:.2f}, p90={lat_p90:.2f}, p99={lat_p99:.2f}')\n",
    "    print(f'TPOT: p50={tpot_p50:.2f}, p90={tpot_p90:.2f}, p99={tpot_p99:.2f}')\n",
    "    print(f'TTFT: p50={ttft_p50:.2f}, p90={ttft_p90:.2f}, p99={ttft_p99:.2f}')\n",
    "\n",
    "    if plot:\n",
    "        fig, axs = plt.subplots(1,3, figsize=(16, 4))\n",
    "        sns.kdeplot(x=lats,  ax=axs[0], cumulative=True).set_title('Latency')\n",
    "        sns.kdeplot(x=tpots, ax=axs[1], cumulative=True).set_title('TPOT')\n",
    "        sns.kdeplot(x=ttfts, ax=axs[2], cumulative=True).set_title('TTFT')\n",
    "    \n",
    "def ttft_slo(outputs, slo):\n",
    "    ttfts = [o.ttft for o in outputs if o.ttft]\n",
    "    slo_ttfts = [1 for ttft in ttfts if ttft <= slo]\n",
    "    return sum(slo_ttfts) / len(ttfts)\n",
    "\n",
    "def windowed_metric(start, end, outputs: List[RequestFuncOutput], exp_time, match = None):\n",
    "    if not match:\n",
    "        match = lambda o: True\n",
    "    within_window = [o for o in outputs if o.send_out_time >= start and o.send_out_time <= end and match(o)]\n",
    "    lats = [o.request_latency if o.success else exp_time - o.send_out_time for o in within_window]\n",
    "    tpots = [o.tpot for o in within_window if o.tpot]\n",
    "    ttfts = [o.ttft if o.ttft else exp_time - o.send_out_time for o in within_window]\n",
    "    lat_p50, lat_p90, lat_p99 = np.percentile(lats, [50, 90, 99], method='nearest')\n",
    "    tpot_p50, tpot_p90, tpot_p99 = np.percentile(tpots, [50, 90, 99], method='nearest')\n",
    "    ttft_p50, ttft_p90, ttft_p99 = np.percentile(ttfts, [50, 90, 99], method='nearest')\n",
    "    avg_lat, avg_tpot, avg_ttft = np.mean(lats), np.mean(tpots), np.mean(ttfts)\n",
    "    \n",
    "    print('-'*20)\n",
    "    print(f\"Requests within window: {len(within_window)}\")\n",
    "    print(f\"Num finished: {len([o for o in within_window if o.success])}\")\n",
    "    print(f'Latency: p50={lat_p50:.2f}, p90={lat_p90:.2f}, p99={lat_p99:.2f}')\n",
    "    print(f'TPOT: p50={tpot_p50:.2f}, p90={tpot_p90:.2f}, p99={tpot_p99:.2f}')\n",
    "    print(f'TTFT: p50={ttft_p50:.2f}, p90={ttft_p90:.2f}, p99={ttft_p99:.2f}')\n",
    "    print(f'Avg Latency: {avg_lat:.2f}, Avg TPOT: {avg_tpot:.2f}, Avg TTFT: {avg_ttft:.2f}')\n",
    "    print('-'*20)\n",
    "\n",
    "def runtime_selection_consistency(outputs: List[RequestFuncOutput], match = None, plot=False):\n",
    "    if not match:\n",
    "        match = lambda o: True\n",
    "    outputs = [o for o in outputs if match(o)]\n",
    "    if not outputs:\n",
    "        print('No outputs to analyze')\n",
    "        return\n",
    "    runtime_load = {}\n",
    "    runtime_prefix = {}\n",
    "    prefix_cnt = defaultdict(int)\n",
    "    for o in outputs:\n",
    "        if o.runtime_selected not in runtime_load:\n",
    "            runtime_load[o.runtime_selected] = [0, 0]\n",
    "        if o.runtime_selected not in runtime_prefix:\n",
    "            runtime_prefix[o.runtime_selected] = set()\n",
    "        prefix_index = WorkloadPrefixDataLoader.get_prefix_index(o)\n",
    "        if prefix_index is None:\n",
    "            runtime_load[o.runtime_selected][1] += 1\n",
    "        else:\n",
    "            runtime_load[o.runtime_selected][0] += 1\n",
    "            runtime_prefix[o.runtime_selected].add(prefix_index)\n",
    "            prefix_cnt[prefix_index] += 1\n",
    "    print(runtime_load)\n",
    "    print(runtime_prefix)\n",
    "    print(sorted(prefix_cnt.items()))"
   ]
  },
  {
   "cell_type": "code",
   "execution_count": 22,
   "metadata": {},
   "outputs": [],
   "source": [
    "is_cold = lambda o: not WorkloadPrefixDataLoader.is_hot(o)\n",
    "def is_on_gpu(ks):\n",
    "    def match(o: RequestFuncOutput, ks):\n",
    "        return o.runtime_selected in ks\n",
    "    return lambda o: match(o, ks)\n",
    "def is_workload(i):\n",
    "    def math(o: RequestFuncOutput, i):\n",
    "        prefix_pattern = WorkloadPrefixDataLoader.get_prefix_index(o)\n",
    "        return prefix_pattern is not None and prefix_pattern == i\n",
    "    return lambda o: math(o, i)"
   ]
  },
  {
   "cell_type": "code",
   "execution_count": 23,
   "metadata": {},
   "outputs": [
    {
     "name": "stdout",
     "output_type": "stream",
     "text": [
      "Num finished: 2700\n",
      "Latency: p50=36.10, p90=78.20, p99=109.41\n",
      "TPOT: p50=0.33, p90=0.41, p99=0.47\n",
      "TTFT: p50=17.30, p90=54.68, p99=86.69\n",
      "Num finished: 540\n",
      "Latency: p50=61.19, p90=95.31, p99=112.94\n",
      "TPOT: p50=0.33, p90=0.43, p99=0.47\n",
      "TTFT: p50=40.99, p90=72.06, p99=92.56\n",
      "Num finished: 2160\n",
      "Latency: p50=31.15, p90=72.04, p99=106.35\n",
      "TPOT: p50=0.33, p90=0.41, p99=0.47\n",
      "TTFT: p50=9.81, p90=49.49, p99=82.48\n",
      "{0: [540, 138], 1: [540, 145], 3: [540, 132], 2: [540, 125]}\n",
      "{0: {0, 4, 8, 12, 16, 20, 24, 28, 32, 36, 40, 44, 48, 52, 56, 60, 64, 68, 72, 76}, 1: {1, 5, 9, 13, 17, 21, 25, 29, 33, 37, 41, 45, 49, 53, 57, 61, 65, 69, 73, 77}, 3: {3, 7, 11, 15, 19, 23, 27, 31, 35, 39, 43, 47, 51, 55, 59, 63, 67, 71, 75, 79}, 2: {2, 6, 10, 14, 18, 22, 26, 30, 34, 38, 42, 46, 50, 54, 58, 62, 66, 70, 74, 78}}\n",
      "[(0, 27), (1, 27), (2, 27), (3, 27), (4, 27), (5, 27), (6, 27), (7, 27), (8, 27), (9, 27), (10, 27), (11, 27), (12, 27), (13, 27), (14, 27), (15, 27), (16, 27), (17, 27), (18, 27), (19, 27), (20, 27), (21, 27), (22, 27), (23, 27), (24, 27), (25, 27), (26, 27), (27, 27), (28, 27), (29, 27), (30, 27), (31, 27), (32, 27), (33, 27), (34, 27), (35, 27), (36, 27), (37, 27), (38, 27), (39, 27), (40, 27), (41, 27), (42, 27), (43, 27), (44, 27), (45, 27), (46, 27), (47, 27), (48, 27), (49, 27), (50, 27), (51, 27), (52, 27), (53, 27), (54, 27), (55, 27), (56, 27), (57, 27), (58, 27), (59, 27), (60, 27), (61, 27), (62, 27), (63, 27), (64, 27), (65, 27), (66, 27), (67, 27), (68, 27), (69, 27), (70, 27), (71, 27), (72, 27), (73, 27), (74, 27), (75, 27), (76, 27), (77, 27), (78, 27), (79, 27)]\n"
     ]
    }
   ],
   "source": [
    "sim_oracle_fcfs = retrive_request_outputs('/mnt/ssd1/alm-os/sglang_multi_model/logs/debug/mistralai-Mistral-7B-v0.1_80_0.2_2700_9_DataParallelRuntimeSelectionPolicy.CUSTOM-CustomPolicyType.ORACLE:rr_inf.json')\n",
    "lat_tpot_ttft(sim_oracle_fcfs)\n",
    "lat_tpot_ttft(sim_oracle_fcfs, is_cold)\n",
    "lat_tpot_ttft(sim_oracle_fcfs, WorkloadPrefixDataLoader.is_hot)\n",
    "runtime_selection_consistency(sim_oracle_fcfs)"
   ]
  },
  {
   "cell_type": "code",
   "execution_count": 24,
   "metadata": {},
   "outputs": [
    {
     "name": "stdout",
     "output_type": "stream",
     "text": [
      "Num finished: 2700\n",
      "Latency: p50=36.34, p90=81.42, p99=130.59\n",
      "TPOT: p50=0.30, p90=0.41, p99=0.48\n",
      "TTFT: p50=18.02, p90=61.29, p99=113.43\n",
      "Num finished: 540\n",
      "Latency: p50=64.69, p90=118.80, p99=137.78\n",
      "TPOT: p50=0.29, p90=0.42, p99=0.49\n",
      "TTFT: p50=48.00, p90=95.08, p99=115.15\n",
      "Num finished: 2160\n",
      "Latency: p50=30.13, p90=67.22, p99=120.83\n",
      "TPOT: p50=0.30, p90=0.41, p99=0.47\n",
      "TTFT: p50=10.07, p90=47.91, p99=98.13\n",
      "{0: [459, 214], 1: [513, 159], 2: [594, 82], 3: [594, 85]}\n",
      "{0: {2, 35, 68, 26, 3, 7, 66, 67, 76, 46, 48, 50, 53, 57, 58, 28, 63}, 1: {5, 6, 12, 15, 18, 22, 25, 27, 31, 37, 38, 39, 40, 41, 44, 45, 52, 55, 60}, 2: {1, 9, 10, 14, 16, 17, 20, 21, 29, 32, 34, 56, 62, 64, 69, 70, 72, 73, 74, 75, 77, 79}, 3: {0, 4, 8, 11, 13, 19, 23, 24, 30, 33, 36, 42, 43, 47, 49, 51, 54, 59, 61, 65, 71, 78}}\n",
      "[(0, 27), (1, 27), (2, 27), (3, 27), (4, 27), (5, 27), (6, 27), (7, 27), (8, 27), (9, 27), (10, 27), (11, 27), (12, 27), (13, 27), (14, 27), (15, 27), (16, 27), (17, 27), (18, 27), (19, 27), (20, 27), (21, 27), (22, 27), (23, 27), (24, 27), (25, 27), (26, 27), (27, 27), (28, 27), (29, 27), (30, 27), (31, 27), (32, 27), (33, 27), (34, 27), (35, 27), (36, 27), (37, 27), (38, 27), (39, 27), (40, 27), (41, 27), (42, 27), (43, 27), (44, 27), (45, 27), (46, 27), (47, 27), (48, 27), (49, 27), (50, 27), (51, 27), (52, 27), (53, 27), (54, 27), (55, 27), (56, 27), (57, 27), (58, 27), (59, 27), (60, 27), (61, 27), (62, 27), (63, 27), (64, 27), (65, 27), (66, 27), (67, 27), (68, 27), (69, 27), (70, 27), (71, 27), (72, 27), (73, 27), (74, 27), (75, 27), (76, 27), (77, 27), (78, 27), (79, 27)]\n"
     ]
    }
   ],
   "source": [
    "sim_oracle = retrive_request_outputs('/mnt/ssd1/alm-os/sglang_multi_model/logs/debug/mistralai-Mistral-7B-v0.1_80_0.2_2700_9_DataParallelRuntimeSelectionPolicy.CUSTOM-CustomPolicyType.HistogramBasedMemoryLoadScheduler:mem_cost_add_selected_only_fix_current_time_inf.json')\n",
    "lat_tpot_ttft(sim_oracle)\n",
    "lat_tpot_ttft(sim_oracle, is_cold)\n",
    "lat_tpot_ttft(sim_oracle, WorkloadPrefixDataLoader.is_hot)\n",
    "runtime_selection_consistency(sim_oracle)"
   ]
  },
  {
   "cell_type": "code",
   "execution_count": 37,
   "metadata": {},
   "outputs": [
    {
     "name": "stdout",
     "output_type": "stream",
     "text": [
      "Num finished: 2700\n",
      "Latency: p50=32.99, p90=94.25, p99=131.70\n",
      "TPOT: p50=0.31, p90=0.41, p99=0.49\n",
      "TTFT: p50=15.27, p90=71.59, p99=106.53\n",
      "{0: [459, 213], 1: [540, 133], 2: [648, 34], 3: [486, 187]}\n",
      "{0: {64, 33, 35, 68, 4, 71, 75, 77, 45, 46, 15, 49, 48, 19, 58, 28, 61}, 1: {5, 6, 11, 18, 22, 24, 27, 31, 36, 37, 41, 52, 54, 55, 57, 60, 63, 65, 66, 69}, 2: {1, 7, 9, 10, 14, 16, 17, 20, 25, 26, 29, 32, 34, 38, 43, 56, 62, 67, 70, 72, 73, 74, 76, 78}, 3: {2, 3, 39, 40, 8, 42, 44, 13, 12, 47, 79, 50, 51, 53, 21, 23, 59, 30}}\n",
      "set()\n"
     ]
    }
   ],
   "source": [
    "\n",
    "sim_oracle = retrive_request_outputs('/mnt/ssd1/alm-os/sglang_multi_model/logs/debug/mistralai-Mistral-7B-v0.1_80_0.2_2700_9_DataParallelRuntimeSelectionPolicy.CUSTOM-CustomPolicyType.HistogramBasedMemoryLoadScheduler:_inf.json')\n",
    "lat_tpot_ttft(sim_oracle)\n",
    "# lat_tpot_ttft(sim_oracle, is_cold)\n",
    "# lat_tpot_ttft(sim_oracle, WorkloadPrefixDataLoader.is_hot)\n",
    "runtime_selection_consistency(sim_oracle)"
   ]
  },
  {
   "cell_type": "code",
   "execution_count": 24,
   "metadata": {},
   "outputs": [
    {
     "name": "stdout",
     "output_type": "stream",
     "text": [
      "Num finished: 2700\n",
      "Latency: p50=46.66, p90=81.98, p99=91.89\n",
      "TPOT: p50=0.22, p90=0.23, p99=0.25\n",
      "TTFT: p50=33.76, p90=68.73, p99=78.50\n",
      "Num finished: 540\n",
      "Latency: p50=47.77, p90=82.60, p99=92.50\n",
      "TPOT: p50=0.21, p90=0.23, p99=0.24\n",
      "TTFT: p50=34.72, p90=69.67, p99=79.16\n",
      "Num finished: 2160\n",
      "Latency: p50=46.22, p90=81.83, p99=91.69\n",
      "TPOT: p50=0.22, p90=0.23, p99=0.25\n",
      "TTFT: p50=33.43, p90=68.44, p99=78.34\n"
     ]
    }
   ],
   "source": [
    "sim_oracle = retrive_request_outputs('/mnt/ssd1/alm-os/sglang_multi_model/workload_prefix/4r_sim_80_0.2_2700_9_baseline_cp_1024/mistralai-Mistral-7B-v0.1_80_0.2_2700_9_DataParallelRuntimeSelectionPolicy.CUSTOM-CustomPolicyType.ORACLE:10_inf.json')\n",
    "lat_tpot_ttft(sim_oracle)\n",
    "lat_tpot_ttft(sim_oracle, is_cold)\n",
    "lat_tpot_ttft(sim_oracle, WorkloadPrefixDataLoader.is_hot)"
   ]
  },
  {
   "cell_type": "code",
   "execution_count": null,
   "metadata": {},
   "outputs": [],
   "source": []
  }
 ],
 "metadata": {
  "kernelspec": {
   "display_name": "sg_env",
   "language": "python",
   "name": "python3"
  },
  "language_info": {
   "codemirror_mode": {
    "name": "ipython",
    "version": 3
   },
   "file_extension": ".py",
   "mimetype": "text/x-python",
   "name": "python",
   "nbconvert_exporter": "python",
   "pygments_lexer": "ipython3",
   "version": "3.10.13"
  }
 },
 "nbformat": 4,
 "nbformat_minor": 2
}
