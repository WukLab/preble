{
 "cells": [
  {
   "cell_type": "code",
   "execution_count": 2,
   "metadata": {},
   "outputs": [],
   "source": [
    "import json\n",
    "import numpy as np\n",
    "import matplotlib.pyplot as plt\n",
    "import seaborn as sns\n",
    "\n",
    "from dataclasses import field, asdict, dataclass\n",
    "from typing import List\n",
    "from benchmarks.benchmark_utils import RequestFuncOutput\n",
    "from benchmarks.benchmark_workload_gen import *"
   ]
  },
  {
   "cell_type": "code",
   "execution_count": 3,
   "metadata": {},
   "outputs": [],
   "source": [
    "def retrive_request_outputs(path):\n",
    "    with open(path, 'r') as file:\n",
    "        data = json.load(file)\n",
    "        outputs = [RequestFuncOutput(**d) for d in data]\n",
    "    return outputs"
   ]
  },
  {
   "cell_type": "code",
   "execution_count": 4,
   "metadata": {},
   "outputs": [],
   "source": [
    "def lat_tpot_ttft(outputs: List[RequestFuncOutput], match = None, plot=False):\n",
    "    if not match:\n",
    "        match = lambda o: True\n",
    "    outputs = [o for o in outputs if match(o)]\n",
    "    if not outputs:\n",
    "        print('No outputs to analyze')\n",
    "        return\n",
    "    lats = [o.request_latency for o in outputs if o.request_latency]\n",
    "    tpots = [o.tpot for o in outputs if o.tpot]\n",
    "    ttfts = [o.ttft for o in outputs if o.ttft]\n",
    "    lat_p50, lat_p90, lat_p99 = np.percentile(lats, [50, 90, 99], method='nearest')\n",
    "    tpot_p50, tpot_p90, tpot_p99 = np.percentile(tpots, [50, 90, 99], method='nearest')\n",
    "    ttft_p50, ttft_p90, ttft_p99 = np.percentile(ttfts, [50, 90, 99], method='nearest')\n",
    "    \n",
    "    print(f\"Num finished: {len([o for o in outputs if o.success])}\")\n",
    "    print(f'Latency: p50={lat_p50:.2f}, p90={lat_p90:.2f}, p99={lat_p99:.2f}')\n",
    "    print(f'TPOT: p50={tpot_p50:.2f}, p90={tpot_p90:.2f}, p99={tpot_p99:.2f}')\n",
    "    print(f'TTFT: p50={ttft_p50:.2f}, p90={ttft_p90:.2f}, p99={ttft_p99:.2f}')\n",
    "\n",
    "    if plot:\n",
    "        fig, axs = plt.subplots(1,3, figsize=(16, 4))\n",
    "        sns.kdeplot(x=lats,  ax=axs[0], cumulative=True).set_title('Latency')\n",
    "        sns.kdeplot(x=tpots, ax=axs[1], cumulative=True).set_title('TPOT')\n",
    "        sns.kdeplot(x=ttfts, ax=axs[2], cumulative=True).set_title('TTFT')\n",
    "    \n",
    "def ttft_slo(outputs, slo):\n",
    "    ttfts = [o.ttft for o in outputs if o.ttft]\n",
    "    slo_ttfts = [1 for ttft in ttfts if ttft <= slo]\n",
    "    return sum(slo_ttfts) / len(ttfts)\n",
    "\n",
    "def windowed_metric(start, end, outputs: List[RequestFuncOutput], exp_time, match = None):\n",
    "    if not match:\n",
    "        match = lambda o: True\n",
    "    within_window = [o for o in outputs if o.send_out_time >= start and o.send_out_time <= end and match(o)]\n",
    "    lats = [o.request_latency if o.success else exp_time - o.send_out_time for o in within_window]\n",
    "    tpots = [o.tpot for o in within_window if o.tpot]\n",
    "    ttfts = [o.ttft if o.ttft else exp_time - o.send_out_time for o in within_window]\n",
    "    lat_p50, lat_p90, lat_p99 = np.percentile(lats, [50, 90, 99], method='nearest')\n",
    "    tpot_p50, tpot_p90, tpot_p99 = np.percentile(tpots, [50, 90, 99], method='nearest')\n",
    "    ttft_p50, ttft_p90, ttft_p99 = np.percentile(ttfts, [50, 90, 99], method='nearest')\n",
    "    avg_lat, avg_tpot, avg_ttft = np.mean(lats), np.mean(tpots), np.mean(ttfts)\n",
    "    \n",
    "    print('-'*20)\n",
    "    print(f\"Requests within window: {len(within_window)}\")\n",
    "    print(f\"Num finished: {len([o for o in within_window if o.success])}\")\n",
    "    print(f'Latency: p50={lat_p50:.2f}, p90={lat_p90:.2f}, p99={lat_p99:.2f}')\n",
    "    print(f'TPOT: p50={tpot_p50:.2f}, p90={tpot_p90:.2f}, p99={tpot_p99:.2f}')\n",
    "    print(f'TTFT: p50={ttft_p50:.2f}, p90={ttft_p90:.2f}, p99={ttft_p99:.2f}')\n",
    "    print(f'Avg Latency: {avg_lat:.2f}, Avg TPOT: {avg_tpot:.2f}, Avg TTFT: {avg_ttft:.2f}')\n",
    "    print('-'*20)\n",
    "\n",
    "def runtime_selection_consistency(outputs: List[RequestFuncOutput], match = None, plot=False):\n",
    "    if not match:\n",
    "        match = lambda o: True\n",
    "    outputs = [o for o in outputs if match(o)]\n",
    "    if not outputs:\n",
    "        print('No outputs to analyze')\n",
    "        return\n",
    "    runtime_load = {}\n",
    "    runtime_prefix = {}\n",
    "    prefix_cnt = defaultdict(int)\n",
    "    for o in outputs:\n",
    "        if o.runtime_selected not in runtime_load:\n",
    "            runtime_load[o.runtime_selected] = [0, 0]\n",
    "        if o.runtime_selected not in runtime_prefix:\n",
    "            runtime_prefix[o.runtime_selected] = set()\n",
    "        prefix_index = WorkloadPrefixDataLoader.get_prefix_index(o)\n",
    "        if prefix_index is None:\n",
    "            runtime_load[o.runtime_selected][1] += 1\n",
    "        else:\n",
    "            runtime_load[o.runtime_selected][0] += 1\n",
    "            runtime_prefix[o.runtime_selected].add(prefix_index)\n",
    "            prefix_cnt[prefix_index] += 1\n",
    "    print(runtime_load)\n",
    "    print(runtime_prefix)\n",
    "    print(sorted(prefix_cnt.items()))"
   ]
  },
  {
   "cell_type": "code",
   "execution_count": 5,
   "metadata": {},
   "outputs": [],
   "source": [
    "is_cold = lambda o: not WorkloadPrefixDataLoader.is_hot(o)\n",
    "def is_on_gpu(ks):\n",
    "    def match(o: RequestFuncOutput, ks):\n",
    "        return o.runtime_selected in ks\n",
    "    return lambda o: match(o, ks)\n",
    "def is_workload(i):\n",
    "    def math(o: RequestFuncOutput, i):\n",
    "        prefix_pattern = WorkloadPrefixDataLoader.get_prefix_index(o)\n",
    "        return prefix_pattern is not None and prefix_pattern == i\n",
    "    return lambda o: math(o, i)"
   ]
  },
  {
   "cell_type": "code",
   "execution_count": 6,
   "metadata": {},
   "outputs": [
    {
     "name": "stdout",
     "output_type": "stream",
     "text": [
      "Num finished: 1949\n",
      "Latency: p50=20.76, p90=39.57, p99=50.59\n",
      "TPOT: p50=0.24, p90=0.43, p99=0.60\n",
      "TTFT: p50=4.25, p90=17.69, p99=25.10\n",
      "Num finished: 748\n",
      "Latency: p50=23.13, p90=43.14, p99=51.26\n",
      "TPOT: p50=0.24, p90=0.40, p99=0.45\n",
      "TTFT: p50=8.42, p90=20.91, p99=26.05\n",
      "Num finished: 1201\n",
      "Latency: p50=19.69, p90=35.94, p99=47.35\n",
      "TPOT: p50=0.24, p90=0.47, p99=0.60\n",
      "TTFT: p50=2.82, p90=8.58, p99=20.09\n"
     ]
    }
   ],
   "source": [
    "sim_oracle_fcfs = retrive_request_outputs('/mnt/ssd1/alm-os/sglang_multi_model/cp_debug/4r_react_20_0.384_1950_6.5_fcfs/mistralai-Mistral-7B-v0.1_20_0.384_1950_6.5_DataParallelRuntimeSelectionPolicy.CUSTOM-CustomPolicyType.ORACLE:_inf.json')\n",
    "lat_tpot_ttft(sim_oracle_fcfs)\n",
    "lat_tpot_ttft(sim_oracle_fcfs, is_cold)\n",
    "lat_tpot_ttft(sim_oracle_fcfs, WorkloadPrefixDataLoader.is_hot)\n",
    "# runtime_selection_consistency(sim_oracle_fcfs)"
   ]
  },
  {
   "cell_type": "code",
   "execution_count": 7,
   "metadata": {},
   "outputs": [
    {
     "name": "stdout",
     "output_type": "stream",
     "text": [
      "Num finished: 1949\n",
      "Latency: p50=21.45, p90=31.36, p99=37.07\n",
      "TPOT: p50=0.20, p90=0.21, p99=0.32\n",
      "TTFT: p50=8.14, p90=18.82, p99=23.85\n",
      "Num finished: 748\n",
      "Latency: p50=21.57, p90=31.91, p99=37.27\n",
      "TPOT: p50=0.20, p90=0.21, p99=0.32\n",
      "TTFT: p50=8.54, p90=19.13, p99=24.32\n",
      "Num finished: 1201\n",
      "Latency: p50=21.34, p90=31.28, p99=36.75\n",
      "TPOT: p50=0.20, p90=0.21, p99=0.32\n",
      "TTFT: p50=7.90, p90=18.66, p99=23.63\n"
     ]
    }
   ],
   "source": [
    "sim_oracle = retrive_request_outputs('/mnt/ssd1/alm-os/sglang_multi_model/cp_debug/4r_react_20_0.384_1950_6.5_fcfs_cp_1024/mistralai-Mistral-7B-v0.1_20_0.384_1950_6.5_DataParallelRuntimeSelectionPolicy.CUSTOM-CustomPolicyType.ORACLE:_inf.json')\n",
    "lat_tpot_ttft(sim_oracle)\n",
    "lat_tpot_ttft(sim_oracle, is_cold)\n",
    "lat_tpot_ttft(sim_oracle, WorkloadPrefixDataLoader.is_hot)\n",
    "# runtime_selection_consistency(sim_oracle)"
   ]
  },
  {
   "cell_type": "code",
   "execution_count": 7,
   "metadata": {},
   "outputs": [
    {
     "name": "stdout",
     "output_type": "stream",
     "text": [
      "Num finished: 1200\n",
      "Latency: p50=162.51, p90=242.22, p99=261.42\n",
      "TPOT: p50=0.23, p90=0.95, p99=0.98\n",
      "TTFT: p50=122.26, p90=230.95, p99=248.74\n",
      "Num finished: 240\n",
      "Latency: p50=161.87, p90=224.22, p99=232.34\n",
      "TPOT: p50=0.13, p90=0.14, p99=0.21\n",
      "TTFT: p50=153.44, p90=216.35, p99=221.72\n",
      "Num finished: 960\n",
      "Latency: p50=162.78, p90=246.69, p99=262.11\n",
      "TPOT: p50=0.52, p90=0.96, p99=0.99\n",
      "TTFT: p50=104.62, p90=234.46, p99=248.76\n"
     ]
    }
   ],
   "source": [
    "sim_oracle = retrive_request_outputs('/mnt/ssd1/alm-os/sglang_multi_model/cp_debug/mpq_with_cp_512_check_hit_small_group/mistralai-Mistral-7B-v0.1_20_0.2_1200_4_DataParallelRuntimeSelectionPolicy.CUSTOM-CustomPolicyType.ORACLE:_inf.json')\n",
    "lat_tpot_ttft(sim_oracle)\n",
    "lat_tpot_ttft(sim_oracle, is_cold)\n",
    "lat_tpot_ttft(sim_oracle, WorkloadPrefixDataLoader.is_hot)\n",
    "# runtime_selection_consistency(sim_oracle)"
   ]
  },
  {
   "cell_type": "code",
   "execution_count": 10,
   "metadata": {},
   "outputs": [
    {
     "name": "stdout",
     "output_type": "stream",
     "text": [
      "Num finished: 1200\n",
      "Latency: p50=248.90, p90=375.46, p99=389.50\n",
      "TPOT: p50=0.23, p90=0.26, p99=0.27\n",
      "TTFT: p50=233.34, p90=360.21, p99=379.07\n",
      "Num finished: 240\n",
      "Latency: p50=225.96, p90=369.92, p99=389.55\n",
      "TPOT: p50=0.23, p90=0.26, p99=0.27\n",
      "TTFT: p50=209.75, p90=355.49, p99=377.91\n",
      "Num finished: 960\n",
      "Latency: p50=254.90, p90=376.15, p99=389.47\n",
      "TPOT: p50=0.23, p90=0.26, p99=0.27\n",
      "TTFT: p50=239.22, p90=361.21, p99=379.12\n"
     ]
    }
   ],
   "source": [
    "sim_oracle = retrive_request_outputs('/mnt/ssd1/alm-os/sglang_multi_model/cp_debug/fcfs_with_cp_1024/mistralai-Mistral-7B-v0.1_20_0.2_1200_4_DataParallelRuntimeSelectionPolicy.CUSTOM-CustomPolicyType.ORACLE:_inf.json')\n",
    "lat_tpot_ttft(sim_oracle)\n",
    "lat_tpot_ttft(sim_oracle, is_cold)\n",
    "lat_tpot_ttft(sim_oracle, WorkloadPrefixDataLoader.is_hot)\n",
    "# runtime_selection_consistency(sim_oracle)"
   ]
  },
  {
   "cell_type": "code",
   "execution_count": null,
   "metadata": {},
   "outputs": [],
   "source": []
  }
 ],
 "metadata": {
  "kernelspec": {
   "display_name": "sg_env",
   "language": "python",
   "name": "python3"
  },
  "language_info": {
   "codemirror_mode": {
    "name": "ipython",
    "version": 3
   },
   "file_extension": ".py",
   "mimetype": "text/x-python",
   "name": "python",
   "nbconvert_exporter": "python",
   "pygments_lexer": "ipython3",
   "version": "3.10.13"
  }
 },
 "nbformat": 4,
 "nbformat_minor": 2
}
