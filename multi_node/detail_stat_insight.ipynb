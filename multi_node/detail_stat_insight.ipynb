{
 "cells": [
  {
   "cell_type": "code",
   "execution_count": 2,
   "metadata": {},
   "outputs": [],
   "source": [
    "import json\n",
    "import numpy as np\n",
    "import matplotlib.pyplot as plt\n",
    "import seaborn as sns\n",
    "\n",
    "from dataclasses import field, asdict, dataclass\n",
    "from typing import List\n",
    "from benchmarks.benchmark_utils import RequestFuncOutput\n",
    "from benchmarks.benchmark_workload_gen import *"
   ]
  },
  {
   "cell_type": "code",
   "execution_count": 3,
   "metadata": {},
   "outputs": [],
   "source": [
    "def retrive_request_outputs(path):\n",
    "    with open(path, 'r') as file:\n",
    "        data = json.load(file)\n",
    "        outputs = [RequestFuncOutput(**d) for d in data]\n",
    "    return outputs"
   ]
  },
  {
   "cell_type": "code",
   "execution_count": 4,
   "metadata": {},
   "outputs": [],
   "source": [
    "def lat_tpot_ttft(outputs: List[RequestFuncOutput], match = None, plot=False):\n",
    "    if not match:\n",
    "        match = lambda o: True\n",
    "    outputs = [o for o in outputs if match(o)]\n",
    "    if not outputs:\n",
    "        print('No outputs to analyze')\n",
    "        return\n",
    "    lats = [o.request_latency for o in outputs if o.request_latency]\n",
    "    tpots = [o.tpot for o in outputs if o.tpot]\n",
    "    ttfts = [o.ttft for o in outputs if o.ttft]\n",
    "    lat_p50, lat_p90, lat_p99 = np.percentile(lats, [50, 90, 99], method='nearest')\n",
    "    tpot_p50, tpot_p90, tpot_p99 = np.percentile(tpots, [50, 90, 99], method='nearest')\n",
    "    ttft_p50, ttft_p90, ttft_p99 = np.percentile(ttfts, [50, 90, 99], method='nearest')\n",
    "    \n",
    "    print(f\"Num finished: {len([o for o in outputs if o.success])}\")\n",
    "    print(f'Latency: p50={lat_p50:.2f}, p90={lat_p90:.2f}, p99={lat_p99:.2f}')\n",
    "    print(f'TPOT: p50={tpot_p50:.2f}, p90={tpot_p90:.2f}, p99={tpot_p99:.2f}')\n",
    "    print(f'TTFT: p50={ttft_p50:.2f}, p90={ttft_p90:.2f}, p99={ttft_p99:.2f}')\n",
    "\n",
    "    if plot:\n",
    "        fig, axs = plt.subplots(1,3, figsize=(16, 4))\n",
    "        sns.kdeplot(x=lats,  ax=axs[0], cumulative=True).set_title('Latency')\n",
    "        sns.kdeplot(x=tpots, ax=axs[1], cumulative=True).set_title('TPOT')\n",
    "        sns.kdeplot(x=ttfts, ax=axs[2], cumulative=True).set_title('TTFT')\n",
    "    \n",
    "def ttft_slo(outputs, slo):\n",
    "    ttfts = [o.ttft for o in outputs if o.ttft]\n",
    "    slo_ttfts = [1 for ttft in ttfts if ttft <= slo]\n",
    "    return sum(slo_ttfts) / len(ttfts)\n",
    "\n",
    "def windowed_metric(start, end, outputs: List[RequestFuncOutput], exp_time, match = None):\n",
    "    if not match:\n",
    "        match = lambda o: True\n",
    "    within_window = [o for o in outputs if o.send_out_time >= start and o.send_out_time <= end and match(o)]\n",
    "    lats = [o.request_latency if o.success else exp_time - o.send_out_time for o in within_window]\n",
    "    tpots = [o.tpot for o in within_window if o.tpot]\n",
    "    ttfts = [o.ttft if o.ttft else exp_time - o.send_out_time for o in within_window]\n",
    "    lat_p50, lat_p90, lat_p99 = np.percentile(lats, [50, 90, 99], method='nearest')\n",
    "    tpot_p50, tpot_p90, tpot_p99 = np.percentile(tpots, [50, 90, 99], method='nearest')\n",
    "    ttft_p50, ttft_p90, ttft_p99 = np.percentile(ttfts, [50, 90, 99], method='nearest')\n",
    "    avg_lat, avg_tpot, avg_ttft = np.mean(lats), np.mean(tpots), np.mean(ttfts)\n",
    "    \n",
    "    print('-'*20)\n",
    "    print(f\"Requests within window: {len(within_window)}\")\n",
    "    print(f\"Num finished: {len([o for o in within_window if o.success])}\")\n",
    "    print(f'Latency: p50={lat_p50:.2f}, p90={lat_p90:.2f}, p99={lat_p99:.2f}')\n",
    "    print(f'TPOT: p50={tpot_p50:.2f}, p90={tpot_p90:.2f}, p99={tpot_p99:.2f}')\n",
    "    print(f'TTFT: p50={ttft_p50:.2f}, p90={ttft_p90:.2f}, p99={ttft_p99:.2f}')\n",
    "    print(f'Avg Latency: {avg_lat:.2f}, Avg TPOT: {avg_tpot:.2f}, Avg TTFT: {avg_ttft:.2f}')\n",
    "    print('-'*20)\n",
    "\n",
    "def runtime_selection_consistency(outputs: List[RequestFuncOutput], match = None, plot=False):\n",
    "    if not match:\n",
    "        match = lambda o: True\n",
    "    outputs = [o for o in outputs if match(o)]\n",
    "    if not outputs:\n",
    "        print('No outputs to analyze')\n",
    "        return\n",
    "    runtime_load = {}\n",
    "    runtime_prefix = {}\n",
    "    prefix_cnt = defaultdict(int)\n",
    "    for o in outputs:\n",
    "        if o.runtime_selected not in runtime_load:\n",
    "            runtime_load[o.runtime_selected] = [0, 0]\n",
    "        if o.runtime_selected not in runtime_prefix:\n",
    "            runtime_prefix[o.runtime_selected] = set()\n",
    "        prefix_index = WorkloadPrefixDataLoader.get_prefix_index(o)\n",
    "        if prefix_index is None:\n",
    "            runtime_load[o.runtime_selected][1] += 1\n",
    "        else:\n",
    "            runtime_load[o.runtime_selected][0] += 1\n",
    "            runtime_prefix[o.runtime_selected].add(prefix_index)\n",
    "            prefix_cnt[prefix_index] += 1\n",
    "    print(runtime_load)\n",
    "    print(runtime_prefix)\n",
    "    print(sorted(prefix_cnt.items()))"
   ]
  },
  {
   "cell_type": "code",
   "execution_count": 5,
   "metadata": {},
   "outputs": [],
   "source": [
    "is_cold = lambda o: not WorkloadPrefixDataLoader.is_hot(o)\n",
    "def is_on_gpu(ks):\n",
    "    def match(o: RequestFuncOutput, ks):\n",
    "        return o.runtime_selected in ks\n",
    "    return lambda o: match(o, ks)\n",
    "def is_workload(i):\n",
    "    def math(o: RequestFuncOutput, i):\n",
    "        prefix_pattern = WorkloadPrefixDataLoader.get_prefix_index(o)\n",
    "        return prefix_pattern is not None and prefix_pattern == i\n",
    "    return lambda o: math(o, i)"
   ]
  },
  {
   "cell_type": "code",
   "execution_count": 7,
   "metadata": {},
   "outputs": [
    {
     "name": "stdout",
     "output_type": "stream",
     "text": [
      "Num finished: 1200\n",
      "Latency: p50=29.98, p90=213.90, p99=239.05\n",
      "TPOT: p50=0.30, p90=0.46, p99=0.54\n",
      "TTFT: p50=12.29, p90=186.92, p99=216.04\n",
      "Num finished: 240\n",
      "Latency: p50=192.19, p90=233.67, p99=244.10\n",
      "TPOT: p50=0.30, p90=0.49, p99=0.54\n",
      "TTFT: p50=172.79, p90=213.45, p99=217.94\n",
      "Num finished: 960\n",
      "Latency: p50=26.06, p90=180.32, p99=226.93\n",
      "TPOT: p50=0.30, p90=0.46, p99=0.54\n",
      "TTFT: p50=7.29, p90=151.35, p99=203.61\n"
     ]
    }
   ],
   "source": [
    "sim_oracle_fcfs = retrive_request_outputs('/mnt/ssd1/alm-os/sglang_multi_model/hc_batch/1r_sim_20_0.2_1200_4_baseline/mistralai-Mistral-7B-v0.1_20_0.2_1200_4_DataParallelRuntimeSelectionPolicy.CUSTOM-CustomPolicyType.ORACLE:add_recomp_info_inf.json')\n",
    "lat_tpot_ttft(sim_oracle_fcfs)\n",
    "lat_tpot_ttft(sim_oracle_fcfs, is_cold)\n",
    "lat_tpot_ttft(sim_oracle_fcfs, WorkloadPrefixDataLoader.is_hot)\n",
    "# runtime_selection_consistency(sim_oracle_fcfs)"
   ]
  },
  {
   "cell_type": "code",
   "execution_count": 8,
   "metadata": {},
   "outputs": [
    {
     "name": "stdout",
     "output_type": "stream",
     "text": [
      "Num finished: 1200\n",
      "Latency: p50=177.54, p90=253.47, p99=259.05\n",
      "TPOT: p50=0.14, p90=0.17, p99=0.18\n",
      "TTFT: p50=167.83, p90=244.82, p99=251.76\n",
      "Num finished: 240\n",
      "Latency: p50=165.19, p90=249.08, p99=259.65\n",
      "TPOT: p50=0.14, p90=0.16, p99=0.18\n",
      "TTFT: p50=154.76, p90=241.36, p99=252.19\n",
      "Num finished: 960\n",
      "Latency: p50=181.82, p90=253.88, p99=259.04\n",
      "TPOT: p50=0.15, p90=0.17, p99=0.18\n",
      "TTFT: p50=171.96, p90=245.35, p99=251.72\n"
     ]
    }
   ],
   "source": [
    "sim_oracle = retrive_request_outputs('/mnt/ssd1/alm-os/sglang_multi_model/hc_batch/1r_sim_20_0.2_1200_4_fcfs_cp_512/mistralai-Mistral-7B-v0.1_20_0.2_1200_4_DataParallelRuntimeSelectionPolicy.CUSTOM-CustomPolicyType.ORACLE:add_recomp_info_inf.json')\n",
    "lat_tpot_ttft(sim_oracle)\n",
    "lat_tpot_ttft(sim_oracle, is_cold)\n",
    "lat_tpot_ttft(sim_oracle, WorkloadPrefixDataLoader.is_hot)\n",
    "# runtime_selection_consistency(sim_oracle)"
   ]
  },
  {
   "cell_type": "code",
   "execution_count": 37,
   "metadata": {},
   "outputs": [
    {
     "name": "stdout",
     "output_type": "stream",
     "text": [
      "Num finished: 2700\n",
      "Latency: p50=32.99, p90=94.25, p99=131.70\n",
      "TPOT: p50=0.31, p90=0.41, p99=0.49\n",
      "TTFT: p50=15.27, p90=71.59, p99=106.53\n",
      "{0: [459, 213], 1: [540, 133], 2: [648, 34], 3: [486, 187]}\n",
      "{0: {64, 33, 35, 68, 4, 71, 75, 77, 45, 46, 15, 49, 48, 19, 58, 28, 61}, 1: {5, 6, 11, 18, 22, 24, 27, 31, 36, 37, 41, 52, 54, 55, 57, 60, 63, 65, 66, 69}, 2: {1, 7, 9, 10, 14, 16, 17, 20, 25, 26, 29, 32, 34, 38, 43, 56, 62, 67, 70, 72, 73, 74, 76, 78}, 3: {2, 3, 39, 40, 8, 42, 44, 13, 12, 47, 79, 50, 51, 53, 21, 23, 59, 30}}\n",
      "set()\n"
     ]
    }
   ],
   "source": [
    "\n",
    "sim_oracle = retrive_request_outputs('/mnt/ssd1/alm-os/sglang_multi_model/logs/debug/mistralai-Mistral-7B-v0.1_80_0.2_2700_9_DataParallelRuntimeSelectionPolicy.CUSTOM-CustomPolicyType.HistogramBasedMemoryLoadScheduler:_inf.json')\n",
    "lat_tpot_ttft(sim_oracle)\n",
    "# lat_tpot_ttft(sim_oracle, is_cold)\n",
    "# lat_tpot_ttft(sim_oracle, WorkloadPrefixDataLoader.is_hot)\n",
    "runtime_selection_consistency(sim_oracle)"
   ]
  },
  {
   "cell_type": "code",
   "execution_count": 24,
   "metadata": {},
   "outputs": [
    {
     "name": "stdout",
     "output_type": "stream",
     "text": [
      "Num finished: 2700\n",
      "Latency: p50=46.66, p90=81.98, p99=91.89\n",
      "TPOT: p50=0.22, p90=0.23, p99=0.25\n",
      "TTFT: p50=33.76, p90=68.73, p99=78.50\n",
      "Num finished: 540\n",
      "Latency: p50=47.77, p90=82.60, p99=92.50\n",
      "TPOT: p50=0.21, p90=0.23, p99=0.24\n",
      "TTFT: p50=34.72, p90=69.67, p99=79.16\n",
      "Num finished: 2160\n",
      "Latency: p50=46.22, p90=81.83, p99=91.69\n",
      "TPOT: p50=0.22, p90=0.23, p99=0.25\n",
      "TTFT: p50=33.43, p90=68.44, p99=78.34\n"
     ]
    }
   ],
   "source": [
    "sim_oracle = retrive_request_outputs('/mnt/ssd1/alm-os/sglang_multi_model/workload_prefix/4r_sim_80_0.2_2700_9_baseline_cp_1024/mistralai-Mistral-7B-v0.1_80_0.2_2700_9_DataParallelRuntimeSelectionPolicy.CUSTOM-CustomPolicyType.ORACLE:10_inf.json')\n",
    "lat_tpot_ttft(sim_oracle)\n",
    "lat_tpot_ttft(sim_oracle, is_cold)\n",
    "lat_tpot_ttft(sim_oracle, WorkloadPrefixDataLoader.is_hot)"
   ]
  },
  {
   "cell_type": "code",
   "execution_count": null,
   "metadata": {},
   "outputs": [],
   "source": []
  }
 ],
 "metadata": {
  "kernelspec": {
   "display_name": "sg_env",
   "language": "python",
   "name": "python3"
  },
  "language_info": {
   "codemirror_mode": {
    "name": "ipython",
    "version": 3
   },
   "file_extension": ".py",
   "mimetype": "text/x-python",
   "name": "python",
   "nbconvert_exporter": "python",
   "pygments_lexer": "ipython3",
   "version": "3.10.13"
  }
 },
 "nbformat": 4,
 "nbformat_minor": 2
}
