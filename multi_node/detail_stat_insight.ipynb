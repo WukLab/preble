{
 "cells": [
  {
   "cell_type": "code",
   "execution_count": 1,
   "metadata": {},
   "outputs": [],
   "source": [
    "import json\n",
    "import numpy as np\n",
    "import matplotlib.pyplot as plt\n",
    "import seaborn as sns\n",
    "\n",
    "from dataclasses import field, asdict, dataclass\n",
    "from typing import List\n",
    "from benchmarks.benchmark_utils import RequestFuncOutput\n",
    "from benchmarks.benchmark_workload_gen import *"
   ]
  },
  {
   "cell_type": "code",
   "execution_count": 2,
   "metadata": {},
   "outputs": [],
   "source": [
    "def retrive_request_outputs(path):\n",
    "    with open(path, 'r') as file:\n",
    "        data = json.load(file)\n",
    "        outputs = [RequestFuncOutput(**d) for d in data]\n",
    "    return outputs"
   ]
  },
  {
   "cell_type": "code",
   "execution_count": 3,
   "metadata": {},
   "outputs": [],
   "source": [
    "def lat_tpot_ttft(outputs: List[RequestFuncOutput], match = None, plot=False):\n",
    "    if not match:\n",
    "        match = lambda o: True\n",
    "    outputs = [o for o in outputs if match(o)]\n",
    "    if not outputs:\n",
    "        print('No outputs to analyze')\n",
    "        return\n",
    "    lats = [o.request_latency for o in outputs if o.request_latency]\n",
    "    tpots = [o.tpot for o in outputs if o.tpot]\n",
    "    ttfts = [o.ttft for o in outputs if o.ttft]\n",
    "    lat_p50, lat_p90, lat_p99 = np.percentile(lats, [50, 90, 99])\n",
    "    tpot_p50, tpot_p90, tpot_p99 = np.percentile(tpots, [50, 90, 99])\n",
    "    ttft_p50, ttft_p90, ttft_p99 = np.percentile(ttfts, [50, 90, 99])\n",
    "    \n",
    "    print(f\"Num finished: {len([o for o in outputs if o.success])}\")\n",
    "    print(f'Latency: p50={lat_p50:.2f}, p90={lat_p90:.2f}, p99={lat_p99:.2f}')\n",
    "    print(f'TPOT: p50={tpot_p50:.2f}, p90={tpot_p90:.2f}, p99={tpot_p99:.2f}')\n",
    "    print(f'TTFT: p50={ttft_p50:.2f}, p90={ttft_p90:.2f}, p99={ttft_p99:.2f}')\n",
    "\n",
    "    if plot:\n",
    "        fig, axs = plt.subplots(1,3, figsize=(16, 4))\n",
    "        sns.kdeplot(x=lats,  ax=axs[0], cumulative=True).set_title('Latency')\n",
    "        sns.kdeplot(x=tpots, ax=axs[1], cumulative=True).set_title('TPOT')\n",
    "        sns.kdeplot(x=ttfts, ax=axs[2], cumulative=True).set_title('TTFT')\n",
    "    \n",
    "def ttft_slo(outputs, slo):\n",
    "    ttfts = [o.ttft for o in outputs if o.ttft]\n",
    "    slo_ttfts = [1 for ttft in ttfts if ttft <= slo]\n",
    "    return sum(slo_ttfts) / len(ttfts)\n",
    "\n",
    "def windowed_metric(start, end, outputs: List[RequestFuncOutput], exp_time, match = None):\n",
    "    if not match:\n",
    "        match = lambda o: True\n",
    "    within_window = [o for o in outputs if o.send_out_time >= start and o.send_out_time <= end and match(o)]\n",
    "    lats = [o.request_latency if o.success else exp_time - o.send_out_time for o in within_window]\n",
    "    tpots = [o.tpot for o in within_window if o.tpot]\n",
    "    ttfts = [o.ttft if o.ttft else exp_time - o.send_out_time for o in within_window]\n",
    "    lat_p50, lat_p90, lat_p99 = np.percentile(lats, [50, 90, 99])\n",
    "    tpot_p50, tpot_p90, tpot_p99 = np.percentile(tpots, [50, 90, 99])\n",
    "    ttft_p50, ttft_p90, ttft_p99 = np.percentile(ttfts, [50, 90, 99])\n",
    "    avg_lat, avg_tpot, avg_ttft = np.mean(lats), np.mean(tpots), np.mean(ttfts)\n",
    "    \n",
    "    print('-'*20)\n",
    "    print(f\"Requests within window: {len(within_window)}\")\n",
    "    print(f\"Num finished: {len([o for o in within_window if o.success])}\")\n",
    "    print(f'Latency: p50={lat_p50:.2f}, p90={lat_p90:.2f}, p99={lat_p99:.2f}')\n",
    "    print(f'TPOT: p50={tpot_p50:.2f}, p90={tpot_p90:.2f}, p99={tpot_p99:.2f}')\n",
    "    print(f'TTFT: p50={ttft_p50:.2f}, p90={ttft_p90:.2f}, p99={ttft_p99:.2f}')\n",
    "    print(f'Avg Latency: {avg_lat:.2f}, Avg TPOT: {avg_tpot:.2f}, Avg TTFT: {avg_ttft:.2f}')\n",
    "    print('-'*20)"
   ]
  },
  {
   "cell_type": "code",
   "execution_count": 4,
   "metadata": {},
   "outputs": [],
   "source": [
    "is_cold = lambda o: not WorkloadPrefixDataLoader.is_hot(o)\n",
    "def is_on_gpu(ks):\n",
    "    def match(o: RequestFuncOutput, ks):\n",
    "        return o.runtime_selected in ks\n",
    "    return lambda o: match(o, ks)"
   ]
  },
  {
   "cell_type": "code",
   "execution_count": 7,
   "metadata": {},
   "outputs": [
    {
     "name": "stdout",
     "output_type": "stream",
     "text": [
      "Num finished: 383\n",
      "Latency: p50=6.21, p90=14.90, p99=19.77\n",
      "TPOT: p50=0.05, p90=0.13, p99=0.32\n",
      "TTFT: p50=3.57, p90=10.14, p99=16.05\n"
     ]
    }
   ],
   "source": [
    "sim_oracle_fcfs = retrive_request_outputs('/mnt/ssd1/alm-os/sglang_multi_model/logs/from_vik/mistralai-Mistral-7B-v0.1_24_0.0_383_0.5_DataParallelRuntimeSelectionPolicy.CUSTOM-CustomPolicyType.BASIC_MEM_SCHEDULERV2:mem_basic_v2_766.json')\n",
    "lat_tpot_ttft(sim_oracle_fcfs)\n",
    "# lat_tpot_ttft(sim_oracle_fcfs, is_cold)\n",
    "# lat_tpot_ttft(sim_oracle_fcfs, WorkloadPrefixDataLoader.is_hot)"
   ]
  },
  {
   "cell_type": "code",
   "execution_count": 8,
   "metadata": {},
   "outputs": [
    {
     "name": "stdout",
     "output_type": "stream",
     "text": [
      "Num finished: 383\n",
      "Latency: p50=13.21, p90=33.76, p99=71.70\n",
      "TPOT: p50=0.11, p90=0.41, p99=0.79\n",
      "TTFT: p50=4.53, p90=22.60, p99=66.76\n"
     ]
    }
   ],
   "source": [
    "sim_oracle = retrive_request_outputs('/mnt/ssd1/alm-os/sglang_multi_model/logs/from_vik/mistralai-Mistral-7B-v0.1_24_0.0_383_0.5_DataParallelRuntimeSelectionPolicy.CUSTOM-CustomPolicyType.MemSchedulerWithGlobalEviction:global_evict_766.json')\n",
    "lat_tpot_ttft(sim_oracle)\n",
    "# lat_tpot_ttft(sim_oracle, is_cold)\n",
    "# lat_tpot_ttft(sim_oracle, WorkloadPrefixDataLoader.is_hot)"
   ]
  },
  {
   "cell_type": "code",
   "execution_count": 23,
   "metadata": {},
   "outputs": [
    {
     "name": "stdout",
     "output_type": "stream",
     "text": [
      "Num finished: 2700\n",
      "Latency: p50=34.38, p90=67.96, p99=85.10\n",
      "TPOT: p50=0.28, p90=0.38, p99=0.49\n",
      "TTFT: p50=16.30, p90=49.10, p99=63.00\n",
      "Num finished: 540\n",
      "Latency: p50=58.50, p90=76.02, p99=88.94\n",
      "TPOT: p50=0.28, p90=0.38, p99=0.49\n",
      "TTFT: p50=41.76, p90=55.86, p99=66.23\n",
      "Num finished: 2160\n",
      "Latency: p50=28.91, p90=62.57, p99=80.15\n",
      "TPOT: p50=0.28, p90=0.38, p99=0.49\n",
      "TTFT: p50=9.33, p90=43.60, p99=60.82\n"
     ]
    }
   ],
   "source": [
    "\n",
    "sim_oracle = retrive_request_outputs('/mnt/ssd1/alm-os/sglang_multi_model/workload_prefix/4r_sim_80_0.2_2700_9_fcfs_escape/mistralai-Mistral-7B-v0.1_80_0.2_2700_9_DataParallelRuntimeSelectionPolicy.CUSTOM-CustomPolicyType.ORACLE:50_inf.json')\n",
    "lat_tpot_ttft(sim_oracle)\n",
    "lat_tpot_ttft(sim_oracle, is_cold)\n",
    "lat_tpot_ttft(sim_oracle, WorkloadPrefixDataLoader.is_hot)"
   ]
  },
  {
   "cell_type": "code",
   "execution_count": 24,
   "metadata": {},
   "outputs": [
    {
     "name": "stdout",
     "output_type": "stream",
     "text": [
      "Num finished: 2700\n",
      "Latency: p50=46.66, p90=81.98, p99=91.89\n",
      "TPOT: p50=0.22, p90=0.23, p99=0.25\n",
      "TTFT: p50=33.76, p90=68.73, p99=78.50\n",
      "Num finished: 540\n",
      "Latency: p50=47.77, p90=82.60, p99=92.50\n",
      "TPOT: p50=0.21, p90=0.23, p99=0.24\n",
      "TTFT: p50=34.72, p90=69.67, p99=79.16\n",
      "Num finished: 2160\n",
      "Latency: p50=46.22, p90=81.83, p99=91.69\n",
      "TPOT: p50=0.22, p90=0.23, p99=0.25\n",
      "TTFT: p50=33.43, p90=68.44, p99=78.34\n"
     ]
    }
   ],
   "source": [
    "sim_oracle = retrive_request_outputs('/mnt/ssd1/alm-os/sglang_multi_model/workload_prefix/4r_sim_80_0.2_2700_9_baseline_cp_1024/mistralai-Mistral-7B-v0.1_80_0.2_2700_9_DataParallelRuntimeSelectionPolicy.CUSTOM-CustomPolicyType.ORACLE:10_inf.json')\n",
    "lat_tpot_ttft(sim_oracle)\n",
    "lat_tpot_ttft(sim_oracle, is_cold)\n",
    "lat_tpot_ttft(sim_oracle, WorkloadPrefixDataLoader.is_hot)"
   ]
  },
  {
   "cell_type": "code",
   "execution_count": null,
   "metadata": {},
   "outputs": [],
   "source": []
  }
 ],
 "metadata": {
  "kernelspec": {
   "display_name": "sg_env",
   "language": "python",
   "name": "python3"
  },
  "language_info": {
   "codemirror_mode": {
    "name": "ipython",
    "version": 3
   },
   "file_extension": ".py",
   "mimetype": "text/x-python",
   "name": "python",
   "nbconvert_exporter": "python",
   "pygments_lexer": "ipython3",
   "version": "3.10.13"
  }
 },
 "nbformat": 4,
 "nbformat_minor": 2
}
