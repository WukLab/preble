{
 "cells": [
  {
   "cell_type": "code",
   "execution_count": 10,
   "metadata": {},
   "outputs": [],
   "source": [
    "import sys\n",
    "import os\n",
    "import requests\n",
    "import concurrent.futures\n",
    "import unittest\n",
    "\n",
    "# Add the parent directory of the 'src' directory to the Python path\n",
    "from sglang.srt.server import Runtime as SGLangServer\n",
    "from sglang.srt.managers.io_struct import SchedulingMetricsReqInput, MigrationReq\n",
    "\n",
    "sys.path.append(os.path.abspath(os.path.join(os.path.abspath(''), \"../multi_node/\")))"
   ]
  },
  {
   "cell_type": "code",
   "execution_count": 11,
   "metadata": {},
   "outputs": [],
   "source": [
    "server_1_url = \"http://127.0.0.1:30000\"\n",
    "server_2_url = \"http://127.0.0.1:10007\""
   ]
  },
  {
   "cell_type": "code",
   "execution_count": 12,
   "metadata": {},
   "outputs": [
    {
     "data": {
      "text/plain": [
       "<Response [200]>"
      ]
     },
     "execution_count": 12,
     "metadata": {},
     "output_type": "execute_result"
    }
   ],
   "source": [
    "add_req_url = f'{server_1_url}/add_request'\n",
    "r = requests.post(add_req_url, json={ \n",
    "    \"text\": \"Say this is a warmup request.\",\n",
    "    \"sampling_params\": {\n",
    "        \"temperature\": 0,\n",
    "        \"max_new_tokens\": 16,\n",
    "    },\n",
    "})\n",
    "r"
   ]
  },
  {
   "cell_type": "code",
   "execution_count": 13,
   "metadata": {},
   "outputs": [
    {
     "data": {
      "text/plain": [
       "{'waiting_queue_len': 0,\n",
       " 'running_req_len': 0,\n",
       " 'prefix_match_len': 0,\n",
       " 'token_kv_available_size': 198516,\n",
       " 'evicatable_size': 0,\n",
       " 'tree_cache_metrics_hit': 0,\n",
       " 'tree_cache_metrics_total': 0,\n",
       " 'input_len': 3,\n",
       " 'total_radix_cache_processing_time': 0.04487252235412598,\n",
       " 'queue_processing_time': 0.0010666847229003906,\n",
       " 'inner_router_time': 0.044934988021850586,\n",
       " 'matching_overhead': 0.06222724914550781,\n",
       " 'tokenization_time': 0.00020694732666015625,\n",
       " 'routing_time': 0.00016689300537109375,\n",
       " 'return_time': 4.76837158203125e-06,\n",
       " 'request_processing_time': 5.698204040527344e-05,\n",
       " 'total_internal_request_time': 0.04705643653869629}"
      ]
     },
     "execution_count": 13,
     "metadata": {},
     "output_type": "execute_result"
    }
   ],
   "source": [
    "metrics_url = f\"{server_1_url}/scheduling_metrics\"\n",
    "metrics_results1 = requests.post(metrics_url, json={\"prompt\": \"sample prompt\"})\n",
    "metrics_data1 = metrics_results1.json()\n",
    "metrics_data1"
   ]
  },
  {
   "cell_type": "code",
   "execution_count": 14,
   "metadata": {},
   "outputs": [],
   "source": [
    "import zmq\n",
    "import zmq.asyncio"
   ]
  },
  {
   "cell_type": "code",
   "execution_count": 6,
   "metadata": {},
   "outputs": [
    {
     "data": {
      "text/plain": [
       "<SocketContext(connect='tcp://localhost:10012')>"
      ]
     },
     "execution_count": 6,
     "metadata": {},
     "output_type": "execute_result"
    }
   ],
   "source": [
    "context = zmq.asyncio.Context()\n",
    "recv_from_rounter = context.socket(zmq.PULL)\n",
    "recv_from_rounter.bind(f\"tcp://127.0.0.1:16372\")\n",
    "\n",
    "send_to_rounter = context.socket(zmq.PUSH)\n",
    "send_to_rounter.connect(f\"tcp://localhost:10012\")"
   ]
  },
  {
   "cell_type": "code",
   "execution_count": 7,
   "metadata": {},
   "outputs": [],
   "source": [
    "migrate_url = f\"{server_1_url}/migrate_control\"\n",
    "requests.post(migrate_url, params={\"migration_target_url\": \"tcp://127.0.0.1:16372\"})\n",
    "mreq = await recv_from_rounter.recv_pyobj()"
   ]
  },
  {
   "cell_type": "code",
   "execution_count": 8,
   "metadata": {},
   "outputs": [
    {
     "data": {
      "text/plain": [
       "[rid(n=ea674582db1245db9619b6a69099e894, input_ids=[1, 15753, 456, 349, 264, 6100, 715, 2159, 28723], ]"
      ]
     },
     "execution_count": 8,
     "metadata": {},
     "output_type": "execute_result"
    }
   ],
   "source": [
    "mreq.requets"
   ]
  },
  {
   "cell_type": "code",
   "execution_count": 9,
   "metadata": {},
   "outputs": [
    {
     "data": {
      "text/plain": [
       "<Future finished result=None>"
      ]
     },
     "execution_count": 9,
     "metadata": {},
     "output_type": "execute_result"
    }
   ],
   "source": [
    "send_to_rounter.send_pyobj(mreq)"
   ]
  },
  {
   "cell_type": "code",
   "execution_count": 28,
   "metadata": {},
   "outputs": [],
   "source": [
    "migrate_url = f\"{server_2_url}/migrate_control\"\n",
    "requests.post(migrate_url, params={\"migration_target_url\": \"tcp://127.0.0.1:16372\"})\n",
    "mreq2 = await recv_from_rounter.recv_pyobj()"
   ]
  },
  {
   "cell_type": "code",
   "execution_count": 15,
   "metadata": {},
   "outputs": [
    {
     "data": {
      "text/plain": [
       "<Response [200]>"
      ]
     },
     "execution_count": 15,
     "metadata": {},
     "output_type": "execute_result"
    }
   ],
   "source": [
    "migrate_url = f\"{server_1_url}/migrate_control\"\n",
    "requests.post(migrate_url, params={\"migration_target_url\": \"tcp://localhost:10012\"})"
   ]
  },
  {
   "cell_type": "code",
   "execution_count": null,
   "metadata": {},
   "outputs": [],
   "source": [
    "migrate_url = f\"{server_2_url}/migrate_control\"\n",
    "requests.post(migrate_url, params={\"migration_target_url\": \"tcp://localhost:10006\"})"
   ]
  }
 ],
 "metadata": {
  "kernelspec": {
   "display_name": "sg_env",
   "language": "python",
   "name": "python3"
  },
  "language_info": {
   "codemirror_mode": {
    "name": "ipython",
    "version": 3
   },
   "file_extension": ".py",
   "mimetype": "text/x-python",
   "name": "python",
   "nbconvert_exporter": "python",
   "pygments_lexer": "ipython3",
   "version": "3.10.13"
  }
 },
 "nbformat": 4,
 "nbformat_minor": 2
}
