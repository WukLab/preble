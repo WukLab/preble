{
 "cells": [
  {
   "cell_type": "code",
   "execution_count": 1,
   "metadata": {},
   "outputs": [
    {
     "name": "stderr",
     "output_type": "stream",
     "text": [
      "/mnt/ssd1/alm-os/sg_env/lib/python3.10/site-packages/tqdm/auto.py:21: TqdmWarning: IProgress not found. Please update jupyter and ipywidgets. See https://ipywidgets.readthedocs.io/en/stable/user_install.html\n",
      "  from .autonotebook import tqdm as notebook_tqdm\n",
      "2024-03-18 01:50:49,880\tINFO util.py:154 -- Missing packages: ['ipywidgets']. Run `pip install -U ipywidgets`, then restart the notebook server for rich notebook output.\n"
     ]
    }
   ],
   "source": [
    "import sys\n",
    "import os\n",
    "\n",
    "# Add the parent directory of the 'src' directory to the Python path\n",
    "from sglang.srt.server import Runtime as SGLangServer\n",
    "from sglang.srt.managers.io_struct import SchedulingMetricsReqInput, MigrationReq\n",
    "import requests\n",
    "import concurrent.futures\n",
    "import unittest"
   ]
  },
  {
   "cell_type": "code",
   "execution_count": 2,
   "metadata": {},
   "outputs": [
    {
     "data": {
      "text/plain": [
       "<Response [200]>"
      ]
     },
     "execution_count": 2,
     "metadata": {},
     "output_type": "execute_result"
    }
   ],
   "source": [
    "server_url = 'http://localhost:30000'\n",
    "\n",
    "r = requests.get(f'{server_url}/get_model_info')\n",
    "r"
   ]
  },
  {
   "cell_type": "code",
   "execution_count": 3,
   "metadata": {},
   "outputs": [
    {
     "data": {
      "text/plain": [
       "<Response [200]>"
      ]
     },
     "execution_count": 3,
     "metadata": {},
     "output_type": "execute_result"
    }
   ],
   "source": [
    "add_req_url = f'{server_url}/add_request'\n",
    "r = requests.post(add_req_url, json={ \n",
    "    \"text\": \"Say this is a warmup request.\",\n",
    "    \"sampling_params\": {\n",
    "        \"temperature\": 0,\n",
    "        \"max_new_tokens\": 16,\n",
    "    },\n",
    "})\n",
    "r"
   ]
  },
  {
   "cell_type": "code",
   "execution_count": 4,
   "metadata": {},
   "outputs": [
    {
     "data": {
      "text/plain": [
       "{'waiting_queue_len': 0,\n",
       " 'running_req_len': 0,\n",
       " 'prefix_match_len': 0,\n",
       " 'token_kv_available_size': 237245,\n",
       " 'evicatable_size': 0,\n",
       " 'tree_cache_metrics_hit': 0,\n",
       " 'tree_cache_metrics_total': 0,\n",
       " 'input_len': 3,\n",
       " 'total_radix_cache_processing_time': 0.017175674438476562,\n",
       " 'queue_processing_time': 0.0006718635559082031,\n",
       " 'inner_router_time': 0.017209768295288086,\n",
       " 'matching_overhead': 0.011205673217773438,\n",
       " 'tokenization_time': 0.00027823448181152344,\n",
       " 'routing_time': 0.0002167224884033203,\n",
       " 'return_time': 3.5762786865234375e-06,\n",
       " 'request_processing_time': 8.249282836914062e-05,\n",
       " 'total_internal_request_time': 0.019067049026489258}"
      ]
     },
     "execution_count": 4,
     "metadata": {},
     "output_type": "execute_result"
    }
   ],
   "source": [
    "metrics_url = f\"{server_url}/scheduling_metrics\"\n",
    "metrics_results1 = requests.post(metrics_url, json={\"prompt\": \"sample prompt\"})\n",
    "metrics_data1 = metrics_results1.json()\n",
    "metrics_data1"
   ]
  },
  {
   "cell_type": "code",
   "execution_count": 5,
   "metadata": {},
   "outputs": [],
   "source": [
    "import zmq\n",
    "import zmq.asyncio"
   ]
  },
  {
   "cell_type": "code",
   "execution_count": 6,
   "metadata": {},
   "outputs": [
    {
     "data": {
      "text/plain": [
       "<SocketContext(bind='tcp://127.0.0.1:23334')>"
      ]
     },
     "execution_count": 6,
     "metadata": {},
     "output_type": "execute_result"
    }
   ],
   "source": [
    "context = zmq.asyncio.Context()\n",
    "recv_from_rounter = context.socket(zmq.PULL)\n",
    "recv_from_rounter.bind(f\"tcp://127.0.0.1:23334\")"
   ]
  },
  {
   "cell_type": "code",
   "execution_count": 7,
   "metadata": {},
   "outputs": [],
   "source": [
    "migrate_url = f\"{server_url}/migrate_control\"\n",
    "metrics_results1 = requests.post(migrate_url, params={\"migration_target_url\": \"tcp://127.0.0.1:23334\"})\n",
    "mreq = await recv_from_rounter.recv_pyobj()"
   ]
  },
  {
   "cell_type": "code",
   "execution_count": 8,
   "metadata": {},
   "outputs": [
    {
     "data": {
      "text/plain": [
       "[rid(n=0e13fc247dd14a8db5692b36f5cedae4, input_ids=[1, 15753, 456, 349, 264, 6100, 715, 2159, 28723], ,\n",
       " rid(n=72c77158221b45bfbd54ea08d36c23b6, input_ids=[1, 15753, 456, 349, 264, 6100, 715, 2159, 28723], ,\n",
       " rid(n=b513d4d97fce4e799d1af84f5b3f9999, input_ids=[1, 15753, 456, 349, 264, 6100, 715, 2159, 28723], ]"
      ]
     },
     "execution_count": 8,
     "metadata": {},
     "output_type": "execute_result"
    }
   ],
   "source": [
    "mreq.requets"
   ]
  },
  {
   "cell_type": "code",
   "execution_count": null,
   "metadata": {},
   "outputs": [],
   "source": []
  }
 ],
 "metadata": {
  "kernelspec": {
   "display_name": "sg_env",
   "language": "python",
   "name": "python3"
  },
  "language_info": {
   "codemirror_mode": {
    "name": "ipython",
    "version": 3
   },
   "file_extension": ".py",
   "mimetype": "text/x-python",
   "name": "python",
   "nbconvert_exporter": "python",
   "pygments_lexer": "ipython3",
   "version": "3.10.13"
  }
 },
 "nbformat": 4,
 "nbformat_minor": 2
}
